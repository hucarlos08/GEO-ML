{
 "cells": [
  {
   "cell_type": "markdown",
   "metadata": {},
   "source": [
    "### Elastic-Net Regularization\n",
    "\n",
    "Elastic-net regularization combines the $\\ell_1$ and $\\ell_2$ penalties:\n",
    "\n",
    "$$\n",
    "\\mathbf{w}_{\\text{reg}}^* = \\arg\\min_{\\mathbf{w} \\in \\mathbb{R}^M} \\left( \\frac{\\alpha}{N} \\|\\mathbf{w}\\|_1 + \\frac{\\rho}{N} \\|\\mathbf{w}\\|_2^2 + \\frac{1}{N} \\sum_{n=1}^{N} \\left( y_n - \\mathbf{x}_n^T \\mathbf{w} \\right)^2 \\right)\n",
    "$$\n",
    "\n",
    "This regularization method inherits the sparsity-inducing property of $\\ell_1$-regularization and the ridge regression's stability benefits."
   ]
  },
  {
   "cell_type": "code",
   "execution_count": null,
   "metadata": {},
   "outputs": [],
   "source": []
  }
 ],
 "metadata": {
  "kernelspec": {
   "display_name": "cloudspace",
   "language": "python",
   "name": "python3"
  },
  "language_info": {
   "name": "python",
   "version": "3.10.10"
  }
 },
 "nbformat": 4,
 "nbformat_minor": 2
}
