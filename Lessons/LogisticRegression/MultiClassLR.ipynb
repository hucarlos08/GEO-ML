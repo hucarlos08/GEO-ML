{
 "cells": [
  {
   "cell_type": "markdown",
   "metadata": {},
   "source": [
    "### Multiclass Classification\n",
    "\n",
    "In this section, we will discuss how logistic regression can be extended to handle multiclass classification problems. We will cover two common strategies: One-vs-All (OvA) and One-vs-One (OvO). Additionally, we will provide a Python implementation for these strategies.\n",
    "\n",
    "#### One-vs-All (OvA) Strategy\n",
    "\n",
    "The One-vs-All (OvA) approach involves decomposing a multiclass classification problem into multiple binary classification problems. For a problem with $R$ classes, we train $R$ binary classifiers, each of which distinguishes one class from the remaining $R-1$ classes.\n",
    "\n",
    "**Training:**\n",
    "\n",
    "1. For each class $r$ (where $r \\in \\{1, 2, \\ldots, R\\}$):\n",
    "   - Create a binary label vector $y^{(r)}$ where:\n",
    "     $$\n",
    "     y^{(r)}_i = \\begin{cases} \n",
    "     +1 & \\text{if } y_i = r \\\\\n",
    "     -1 & \\text{otherwise}\n",
    "     \\end{cases}\n",
    "     $$\n",
    "   - Train a binary classifier $f_r(\\mathbf{x})$ using the feature vectors $\\mathbf{x}_i$ and the binary labels $y^{(r)}_i$.\n",
    "\n",
    "**Prediction:**\n",
    "\n",
    "1. For a new feature vector $\\mathbf{x}$:\n",
    "   - Compute the output of each binary classifier $f_r(\\mathbf{x})$.\n",
    "   - Assign $\\mathbf{x}$ to the class with the highest classifier output:\n",
    "     $$\n",
    "     \\hat{y} = \\arg \\max_r f_r(\\mathbf{x})\n",
    "     $$\n",
    "\n",
    "**Example:**\n",
    "\n",
    "Let's consider a dataset with three classes (R = 3). We will use the OvA strategy to train three binary classifiers.\n",
    "\n"
   ]
  },
  {
   "cell_type": "code",
   "execution_count": 1,
   "metadata": {},
   "outputs": [
    {
     "name": "stdout",
     "output_type": "stream",
     "text": [
      "Predictions for the points [[1.2 0.8]\n",
      " [2.2 1.3]]: [2 3]\n"
     ]
    }
   ],
   "source": [
    "import numpy as np\n",
    "from sklearn.linear_model import LogisticRegression\n",
    "\n",
    "# Training data\n",
    "X_train = np.array([[0.5, 1.5], [1.0, 1.0], [1.5, 0.5], [2.0, 1.0], [2.5, 1.5], [3.0, 0.5]])\n",
    "y_train = np.array([1, 2, 2, 3, 3, 1])\n",
    "\n",
    "# Create binary labels for each class\n",
    "y_train_ova = [(y_train == i).astype(int) * 2 - 1 for i in range(1, 4)]\n",
    "\n",
    "# Train a binary classifier for each class\n",
    "classifiers = []\n",
    "for y in y_train_ova:\n",
    "    clf = LogisticRegression()\n",
    "    clf.fit(X_train, y)\n",
    "    classifiers.append(clf)\n",
    "\n",
    "# Prediction function for OvA\n",
    "def predict_ova(X, classifiers):\n",
    "    predictions = np.array([clf.decision_function(X) for clf in classifiers])\n",
    "    return np.argmax(predictions, axis=0) + 1\n",
    "\n",
    "# Prediction for new data points\n",
    "X_new = np.array([[1.2, 0.8], [2.2, 1.3]])\n",
    "predictions = predict_ova(X_new, classifiers)\n",
    "print(f'Predictions for the points {X_new}: {predictions}')\n"
   ]
  },
  {
   "cell_type": "markdown",
   "metadata": {},
   "source": [
    "#### One-vs-One (OvO) Strategy\n",
    "\n",
    "The One-vs-One (OvO) approach involves decomposing a multiclass classification problem into multiple binary classification problems, each of which distinguishes between a pair of classes. For a problem with $R$ classes, we train $\\frac{R(R-1)}{2}$ binary classifiers, each of which distinguishes between two classes.\n",
    "\n",
    "**Training:**\n",
    "\n",
    "1. For each pair of classes $(r, s)$ (where $r, s \\in \\{1, 2, \\ldots, R\\}$ and $r \\neq s$):\n",
    "   - Create a subset of the training data containing only the samples from classes $r$ and $s$.\n",
    "   - Train a binary classifier $f_{r,s}(\\mathbf{x})$ on this subset.\n",
    "\n",
    "**Prediction:**\n",
    "\n",
    "1. For a new feature vector $\\mathbf{x}$:\n",
    "   - Compute the output of each binary classifier $f_{r,s}(\\mathbf{x})$.\n",
    "   - Use a voting scheme where each classifier votes for one of the two classes.\n",
    "   - Assign $\\mathbf{x}$ to the class with the most votes.\n",
    "\n",
    "**Example:**\n",
    "\n",
    "Let's consider a dataset with three classes (R = 3). We will use the OvO strategy to train three binary classifiers."
   ]
  },
  {
   "cell_type": "code",
   "execution_count": 2,
   "metadata": {},
   "outputs": [
    {
     "name": "stdout",
     "output_type": "stream",
     "text": [
      "Predictions for the points [[1.2 0.8]\n",
      " [2.2 1.3]]: [2. 3.]\n"
     ]
    }
   ],
   "source": [
    "from itertools import combinations\n",
    "from collections import Counter\n",
    "\n",
    "# Training data\n",
    "X_train = np.array([[0.5, 1.5], [1.0, 1.0], [1.5, 0.5], [2.0, 1.0], [2.5, 1.5], [3.0, 0.5]])\n",
    "y_train = np.array([1, 2, 2, 3, 3, 1])\n",
    "\n",
    "# Train a binary classifier for each pair of classes\n",
    "classifiers = {}\n",
    "pairs = list(combinations(np.unique(y_train), 2))\n",
    "for (r, s) in pairs:\n",
    "    # Create subset for classes r and s\n",
    "    mask = np.logical_or(y_train == r, y_train == s)\n",
    "    X_pair = X_train[mask]\n",
    "    y_pair = y_train[mask]\n",
    "    y_pair = (y_pair == r).astype(int) * 2 - 1\n",
    "    clf = LogisticRegression()\n",
    "    clf.fit(X_pair, y_pair)\n",
    "    classifiers[(r, s)] = clf\n",
    "\n",
    "# Prediction function for OvO\n",
    "def predict_ovo(X, classifiers):\n",
    "    votes = np.zeros((X.shape[0], len(classifiers)))\n",
    "    for i, ((r, s), clf) in enumerate(classifiers.items()):\n",
    "        pred = clf.predict(X)\n",
    "        votes[:, i] = np.where(pred == 1, r, s)\n",
    "    final_predictions = [Counter(vote_row).most_common(1)[0][0] for vote_row in votes]\n",
    "    return np.array(final_predictions)\n",
    "\n",
    "# Prediction for new data points\n",
    "X_new = np.array([[1.2, 0.8], [2.2, 1.3]])\n",
    "predictions = predict_ovo(X_new, classifiers)\n",
    "print(f'Predictions for the points {X_new}: {predictions}')"
   ]
  },
  {
   "cell_type": "code",
   "execution_count": null,
   "metadata": {},
   "outputs": [],
   "source": []
  }
 ],
 "metadata": {
  "language_info": {
   "name": "python"
  }
 },
 "nbformat": 4,
 "nbformat_minor": 2
}
