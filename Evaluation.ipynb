{
 "cells": [
  {
   "cell_type": "markdown",
   "metadata": {},
   "source": [
    "# Evaluation Criteria for the Machine Learning Course\n",
    "\n",
    "This Jupyter Notebook outlines the evaluation criteria for the Machine Learning course. The course assessment consists of three main components: homework assignments, exams, and a final project. The following sections provide detailed information about each component and their respective weightage in the overall grade.\n",
    "\n",
    "## 1. Homework Assignments (40%)\n",
    "\n",
    "Homework assignments are designed to reinforce the concepts covered in the lectures and provide hands-on experience with various mathematical concepts, demonstrations, and special formulations. The assignments are distributed based on the depth and complexity of the topics covered in the course.\n",
    "\n",
    "- In the initial stages, multiple assignments may be given to ensure a strong foundation in the fundamental concepts.\n",
    "- As the course progresses and the complexity of the topics increases, the frequency of assignments will be reduced to one per week.\n",
    "- Some assignments may involve reproducing results from research articles to gain practical experience and exposure to real-world applications.\n",
    "\n",
    "### Assignment Submission Format\n",
    "\n",
    "Assignments should be submitted in the following format:\n",
    "\n",
    "- A report written in LaTeX using the IEEE double-column template.\n",
    "- The report should present the results, conclusions, and insights obtained for each task.\n",
    "- Any required code (if applicable) should be submitted as a separate Python script.\n",
    "\n",
    "Please ensure that your submissions adhere to these format guidelines to facilitate efficient evaluation and feedback.\n",
    "\n",
    "### Late Submission Policy\n",
    "\n",
    "Late submission of assignments will be penalized using an exponential decay function, $\\exp(-d)$, where $d$ represents the number of days the assignment is overdue. The group as a whole will be allowed a maximum of three late submissions throughout the course. Individual exceptions for late submissions will be considered only under special circumstances and on a case-by-case basis.\n",
    "\n",
    "## 2. Exams (40%)\n",
    "\n",
    "Exams are conducted in-person and are primarily theoretical in nature. While students are allowed to bring any type of notes to the exam, the use of external tools such as ChatGPT or other AI-assisted platforms is strictly prohibited. The exams are designed to assess the students' understanding of the core concepts and their ability to apply them to solve problems.\n",
    "\n",
    "## 3. Final Project (20%)\n",
    "\n",
    "The final project is a crucial component of the course evaluation. The project topic will be determined based on the collective interests of the group and will align with the overall objectives of the course. The project provides an opportunity for students to apply the knowledge and skills acquired throughout the course to a real-world problem or research question.\n",
    "\n",
    "### Project Evaluation Criteria\n",
    "\n",
    "The final project will be evaluated based on the following criteria:\n",
    "\n",
    "- Relevance and significance of the chosen topic\n",
    "- Quality of the project proposal and research methodology\n",
    "- Implementation and execution of the project\n",
    "- Presentation and communication of the project findings\n",
    "- Collaboration and contribution of each team member\n",
    "\n",
    "## Grade Distribution\n",
    "\n",
    "The final grade for the course will be calculated based on the following weightage:\n",
    "\n",
    "- Homework Assignments: 40%\n",
    "- Exams: 40%\n",
    "- Final Project: 20%"
   ]
  },
  {
   "cell_type": "code",
   "execution_count": null,
   "metadata": {},
   "outputs": [],
   "source": []
  }
 ],
 "metadata": {
  "kernelspec": {
   "display_name": "cloudspace",
   "language": "python",
   "name": "python3"
  },
  "language_info": {
   "name": "python",
   "version": "3.10.10"
  }
 },
 "nbformat": 4,
 "nbformat_minor": 2
}
