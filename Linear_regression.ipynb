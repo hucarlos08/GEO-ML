{
  "nbformat": 4,
  "nbformat_minor": 0,
  "metadata": {
    "colab": {
      "provenance": [],
      "authorship_tag": "ABX9TyM/qsdd52ht1VO5Tr9gkWLd",
      "include_colab_link": true
    },
    "kernelspec": {
      "name": "python3",
      "display_name": "Python 3"
    },
    "language_info": {
      "name": "python"
    }
  },
  "cells": [
    {
      "cell_type": "markdown",
      "metadata": {
        "id": "view-in-github",
        "colab_type": "text"
      },
      "source": [
        "<a href=\"https://colab.research.google.com/github/hucarlos08/GEO-ML/blob/main/Linear_regression.ipynb\" target=\"_parent\"><img src=\"https://colab.research.google.com/assets/colab-badge.svg\" alt=\"Open In Colab\"/></a>"
      ]
    },
    {
      "cell_type": "markdown",
      "source": [
        "# Notes\n",
        "The following code is based on the scikit-learn documentation titled 'Common pitfalls in the interpretation of coefficients of linear models'. You can find the original documentation at:\n",
        "<br>\n",
        "https://scikit-learn.org/stable/auto_examples/inspection/plot_linear_model_coefficient_interpretation.html.\n",
        "<br>\n",
        "The code provided in this example includes explanations added to the functions and utilizes Plotly instead of Seaborn for generating the graphs. The purpose of this code is to demonstrate common pitfalls that can arise when interpreting the coefficients of linear models. By exploring the code and its visualizations, you can gain insights into the potential challenges and considerations involved in interpreting the coefficients of linear models."
      ],
      "metadata": {
        "id": "CcAbapjocujo"
      }
    },
    {
      "cell_type": "markdown",
      "source": [
        "# Objective\n",
        "Let's explore the Sklearn pipeline for linear regression in more detail. The objective is to leverage a publicly available dataset in order to demonstrate the pipeline's functionality.\n",
        "\n",
        "The Sklearn pipeline for linear regressions provides a powerful toolset for data analysis and modeling. By employing a sequential workflow, it allows for streamlined data preprocessing, feature engineering, and model training.\n",
        "\n",
        "To illustrate the pipeline, we will utilize a publicly accessible dataset, such as the OpenMP dataset. OpenMP datasets are valuable resources for various machine learning tasks, offering diverse and well-curated data. By utilizing such datasets, we can demonstrate the effectiveness of the Sklearn pipeline in a real-world context."
      ],
      "metadata": {
        "id": "GQymJS7e1Tua"
      }
    },
    {
      "cell_type": "code",
      "execution_count": 34,
      "metadata": {
        "id": "kUYbYD5w1DpD"
      },
      "outputs": [],
      "source": [
        "# Libraries\n",
        "import numpy as np\n",
        "import scipy as sp\n",
        "import matplotlib.pyplot as plt\n",
        "import seaborn as sns"
      ]
    },
    {
      "cell_type": "markdown",
      "source": [
        "## Load the data"
      ],
      "metadata": {
        "id": "JXtK_xIr16Jx"
      }
    },
    {
      "cell_type": "code",
      "source": [
        "\"\"\" the provided code loads a specific dataset from OpenML (identified by data_id) using Scikit-learn's fetch_openml \n",
        "function. The dataset is returned as a pandas DataFrame (as_frame=True) and is then printed to provide an overview \n",
        "of its contents. \n",
        "\"\"\"\n",
        "from sklearn.datasets import fetch_openml\n",
        "\n",
        "survey = fetch_openml(data_id=43308, as_frame=True, parser=\"pandas\")\n",
        "\n",
        "\"\"\" survey.data.info(), you will see an output that provides information about the structure and properties of the \n",
        "dataset, giving you a quick overview of the available columns and their data types. This information can be helpful \n",
        "for understanding the dataset's characteristics and planning subsequent data processing or analysis tasks.\n",
        "\"\"\"\n",
        "survey.data.info()"
      ],
      "metadata": {
        "colab": {
          "base_uri": "https://localhost:8080/"
        },
        "id": "I0qDl2sM2Pao",
        "outputId": "adac840b-0121-480d-d94d-cce392c129ed"
      },
      "execution_count": 35,
      "outputs": [
        {
          "output_type": "stream",
          "name": "stdout",
          "text": [
            "<class 'pandas.core.frame.DataFrame'>\n",
            "RangeIndex: 159 entries, 0 to 158\n",
            "Data columns (total 6 columns):\n",
            " #   Column   Non-Null Count  Dtype  \n",
            "---  ------   --------------  -----  \n",
            " 0   Species  159 non-null    object \n",
            " 1   Length1  159 non-null    float64\n",
            " 2   Length2  159 non-null    float64\n",
            " 3   Length3  159 non-null    float64\n",
            " 4   Height   159 non-null    float64\n",
            " 5   Width    159 non-null    float64\n",
            "dtypes: float64(5), object(1)\n",
            "memory usage: 7.6+ KB\n"
          ]
        }
      ]
    },
    {
      "cell_type": "markdown",
      "source": [
        "## Features and target variable"
      ],
      "metadata": {
        "id": "fvW4BI6G4lAQ"
      }
    },
    {
      "cell_type": "markdown",
      "source": [
        "### Features"
      ],
      "metadata": {
        "id": "HL9vGvfs5XH9"
      }
    },
    {
      "cell_type": "code",
      "source": [
        "\"\"\" This line extracts a subset of columns from the data attribute of the survey object. The survey.feature_names \n",
        "contains a list of column names representing the features in the dataset. By using this list to index the data \n",
        "attribute, we create a new DataFrame X that only includes the specified columns.\n",
        "\"\"\"\n",
        "\n",
        "X = survey.data[survey.feature_names]\n",
        "\n",
        "\"\"\"  The describe() method provides descriptive statistics for each column in the DataFrame. By specifying include=\"all\", \n",
        "it includes both numeric and categorical columns in the summary.\n",
        "\"\"\"\n",
        "\n",
        "X.describe(include=\"all\")"
      ],
      "metadata": {
        "colab": {
          "base_uri": "https://localhost:8080/",
          "height": 394
        },
        "id": "gNqAB9lc4pZz",
        "outputId": "ef7e8501-0643-41a0-fb83-9eadce349a8a"
      },
      "execution_count": 36,
      "outputs": [
        {
          "output_type": "execute_result",
          "data": {
            "text/plain": [
              "       Species     Length1     Length2     Length3      Height       Width\n",
              "count      159  159.000000  159.000000  159.000000  159.000000  159.000000\n",
              "unique       7         NaN         NaN         NaN         NaN         NaN\n",
              "top      Perch         NaN         NaN         NaN         NaN         NaN\n",
              "freq        56         NaN         NaN         NaN         NaN         NaN\n",
              "mean       NaN   26.247170   28.415723   31.227044    8.970994    4.417486\n",
              "std        NaN    9.996441   10.716328   11.610246    4.286208    1.685804\n",
              "min        NaN    7.500000    8.400000    8.800000    1.728400    1.047600\n",
              "25%        NaN   19.050000   21.000000   23.150000    5.944800    3.385650\n",
              "50%        NaN   25.200000   27.300000   29.400000    7.786000    4.248500\n",
              "75%        NaN   32.700000   35.500000   39.650000   12.365900    5.584500\n",
              "max        NaN   59.000000   63.400000   68.000000   18.957000    8.142000"
            ],
            "text/html": [
              "\n",
              "  <div id=\"df-d92a01bd-97fb-4663-8e61-7b4328cd964e\">\n",
              "    <div class=\"colab-df-container\">\n",
              "      <div>\n",
              "<style scoped>\n",
              "    .dataframe tbody tr th:only-of-type {\n",
              "        vertical-align: middle;\n",
              "    }\n",
              "\n",
              "    .dataframe tbody tr th {\n",
              "        vertical-align: top;\n",
              "    }\n",
              "\n",
              "    .dataframe thead th {\n",
              "        text-align: right;\n",
              "    }\n",
              "</style>\n",
              "<table border=\"1\" class=\"dataframe\">\n",
              "  <thead>\n",
              "    <tr style=\"text-align: right;\">\n",
              "      <th></th>\n",
              "      <th>Species</th>\n",
              "      <th>Length1</th>\n",
              "      <th>Length2</th>\n",
              "      <th>Length3</th>\n",
              "      <th>Height</th>\n",
              "      <th>Width</th>\n",
              "    </tr>\n",
              "  </thead>\n",
              "  <tbody>\n",
              "    <tr>\n",
              "      <th>count</th>\n",
              "      <td>159</td>\n",
              "      <td>159.000000</td>\n",
              "      <td>159.000000</td>\n",
              "      <td>159.000000</td>\n",
              "      <td>159.000000</td>\n",
              "      <td>159.000000</td>\n",
              "    </tr>\n",
              "    <tr>\n",
              "      <th>unique</th>\n",
              "      <td>7</td>\n",
              "      <td>NaN</td>\n",
              "      <td>NaN</td>\n",
              "      <td>NaN</td>\n",
              "      <td>NaN</td>\n",
              "      <td>NaN</td>\n",
              "    </tr>\n",
              "    <tr>\n",
              "      <th>top</th>\n",
              "      <td>Perch</td>\n",
              "      <td>NaN</td>\n",
              "      <td>NaN</td>\n",
              "      <td>NaN</td>\n",
              "      <td>NaN</td>\n",
              "      <td>NaN</td>\n",
              "    </tr>\n",
              "    <tr>\n",
              "      <th>freq</th>\n",
              "      <td>56</td>\n",
              "      <td>NaN</td>\n",
              "      <td>NaN</td>\n",
              "      <td>NaN</td>\n",
              "      <td>NaN</td>\n",
              "      <td>NaN</td>\n",
              "    </tr>\n",
              "    <tr>\n",
              "      <th>mean</th>\n",
              "      <td>NaN</td>\n",
              "      <td>26.247170</td>\n",
              "      <td>28.415723</td>\n",
              "      <td>31.227044</td>\n",
              "      <td>8.970994</td>\n",
              "      <td>4.417486</td>\n",
              "    </tr>\n",
              "    <tr>\n",
              "      <th>std</th>\n",
              "      <td>NaN</td>\n",
              "      <td>9.996441</td>\n",
              "      <td>10.716328</td>\n",
              "      <td>11.610246</td>\n",
              "      <td>4.286208</td>\n",
              "      <td>1.685804</td>\n",
              "    </tr>\n",
              "    <tr>\n",
              "      <th>min</th>\n",
              "      <td>NaN</td>\n",
              "      <td>7.500000</td>\n",
              "      <td>8.400000</td>\n",
              "      <td>8.800000</td>\n",
              "      <td>1.728400</td>\n",
              "      <td>1.047600</td>\n",
              "    </tr>\n",
              "    <tr>\n",
              "      <th>25%</th>\n",
              "      <td>NaN</td>\n",
              "      <td>19.050000</td>\n",
              "      <td>21.000000</td>\n",
              "      <td>23.150000</td>\n",
              "      <td>5.944800</td>\n",
              "      <td>3.385650</td>\n",
              "    </tr>\n",
              "    <tr>\n",
              "      <th>50%</th>\n",
              "      <td>NaN</td>\n",
              "      <td>25.200000</td>\n",
              "      <td>27.300000</td>\n",
              "      <td>29.400000</td>\n",
              "      <td>7.786000</td>\n",
              "      <td>4.248500</td>\n",
              "    </tr>\n",
              "    <tr>\n",
              "      <th>75%</th>\n",
              "      <td>NaN</td>\n",
              "      <td>32.700000</td>\n",
              "      <td>35.500000</td>\n",
              "      <td>39.650000</td>\n",
              "      <td>12.365900</td>\n",
              "      <td>5.584500</td>\n",
              "    </tr>\n",
              "    <tr>\n",
              "      <th>max</th>\n",
              "      <td>NaN</td>\n",
              "      <td>59.000000</td>\n",
              "      <td>63.400000</td>\n",
              "      <td>68.000000</td>\n",
              "      <td>18.957000</td>\n",
              "      <td>8.142000</td>\n",
              "    </tr>\n",
              "  </tbody>\n",
              "</table>\n",
              "</div>\n",
              "      <button class=\"colab-df-convert\" onclick=\"convertToInteractive('df-d92a01bd-97fb-4663-8e61-7b4328cd964e')\"\n",
              "              title=\"Convert this dataframe to an interactive table.\"\n",
              "              style=\"display:none;\">\n",
              "        \n",
              "  <svg xmlns=\"http://www.w3.org/2000/svg\" height=\"24px\"viewBox=\"0 0 24 24\"\n",
              "       width=\"24px\">\n",
              "    <path d=\"M0 0h24v24H0V0z\" fill=\"none\"/>\n",
              "    <path d=\"M18.56 5.44l.94 2.06.94-2.06 2.06-.94-2.06-.94-.94-2.06-.94 2.06-2.06.94zm-11 1L8.5 8.5l.94-2.06 2.06-.94-2.06-.94L8.5 2.5l-.94 2.06-2.06.94zm10 10l.94 2.06.94-2.06 2.06-.94-2.06-.94-.94-2.06-.94 2.06-2.06.94z\"/><path d=\"M17.41 7.96l-1.37-1.37c-.4-.4-.92-.59-1.43-.59-.52 0-1.04.2-1.43.59L10.3 9.45l-7.72 7.72c-.78.78-.78 2.05 0 2.83L4 21.41c.39.39.9.59 1.41.59.51 0 1.02-.2 1.41-.59l7.78-7.78 2.81-2.81c.8-.78.8-2.07 0-2.86zM5.41 20L4 18.59l7.72-7.72 1.47 1.35L5.41 20z\"/>\n",
              "  </svg>\n",
              "      </button>\n",
              "      \n",
              "  <style>\n",
              "    .colab-df-container {\n",
              "      display:flex;\n",
              "      flex-wrap:wrap;\n",
              "      gap: 12px;\n",
              "    }\n",
              "\n",
              "    .colab-df-convert {\n",
              "      background-color: #E8F0FE;\n",
              "      border: none;\n",
              "      border-radius: 50%;\n",
              "      cursor: pointer;\n",
              "      display: none;\n",
              "      fill: #1967D2;\n",
              "      height: 32px;\n",
              "      padding: 0 0 0 0;\n",
              "      width: 32px;\n",
              "    }\n",
              "\n",
              "    .colab-df-convert:hover {\n",
              "      background-color: #E2EBFA;\n",
              "      box-shadow: 0px 1px 2px rgba(60, 64, 67, 0.3), 0px 1px 3px 1px rgba(60, 64, 67, 0.15);\n",
              "      fill: #174EA6;\n",
              "    }\n",
              "\n",
              "    [theme=dark] .colab-df-convert {\n",
              "      background-color: #3B4455;\n",
              "      fill: #D2E3FC;\n",
              "    }\n",
              "\n",
              "    [theme=dark] .colab-df-convert:hover {\n",
              "      background-color: #434B5C;\n",
              "      box-shadow: 0px 1px 3px 1px rgba(0, 0, 0, 0.15);\n",
              "      filter: drop-shadow(0px 1px 2px rgba(0, 0, 0, 0.3));\n",
              "      fill: #FFFFFF;\n",
              "    }\n",
              "  </style>\n",
              "\n",
              "      <script>\n",
              "        const buttonEl =\n",
              "          document.querySelector('#df-d92a01bd-97fb-4663-8e61-7b4328cd964e button.colab-df-convert');\n",
              "        buttonEl.style.display =\n",
              "          google.colab.kernel.accessAllowed ? 'block' : 'none';\n",
              "\n",
              "        async function convertToInteractive(key) {\n",
              "          const element = document.querySelector('#df-d92a01bd-97fb-4663-8e61-7b4328cd964e');\n",
              "          const dataTable =\n",
              "            await google.colab.kernel.invokeFunction('convertToInteractive',\n",
              "                                                     [key], {});\n",
              "          if (!dataTable) return;\n",
              "\n",
              "          const docLinkHtml = 'Like what you see? Visit the ' +\n",
              "            '<a target=\"_blank\" href=https://colab.research.google.com/notebooks/data_table.ipynb>data table notebook</a>'\n",
              "            + ' to learn more about interactive tables.';\n",
              "          element.innerHTML = '';\n",
              "          dataTable['output_type'] = 'display_data';\n",
              "          await google.colab.output.renderOutput(dataTable, element);\n",
              "          const docLink = document.createElement('div');\n",
              "          docLink.innerHTML = docLinkHtml;\n",
              "          element.appendChild(docLink);\n",
              "        }\n",
              "      </script>\n",
              "    </div>\n",
              "  </div>\n",
              "  "
            ]
          },
          "metadata": {},
          "execution_count": 36
        }
      ]
    },
    {
      "cell_type": "markdown",
      "source": [
        "### Target variable"
      ],
      "metadata": {
        "id": "hssw-WI55bVf"
      }
    },
    {
      "cell_type": "code",
      "source": [
        "\"\"\" This line displays the first few rows of the target variable in the survey object. The head() method is commonly \n",
        "used to inspect the top rows of a DataFrame or Series. By calling head() on the target attribute, you can quickly \n",
        "examine the initial values of the target variable.\n",
        "\"\"\"\n",
        "print(survey.target.head())\n",
        "\n",
        "\"\"\" This line extracts the target variable from the survey object and assigns it to the variable y. The target \n",
        "attribute typically contains the outcome or dependent variable of the dataset. In this case, the values.ravel() method \n",
        "is used to flatten the target values into a 1-dimensional array. This is often necessary to ensure compatibility \n",
        "with certain Scikit-learn functions that expect a 1-dimensional target array.\n",
        "\"\"\"\n",
        "y = survey.target.values.ravel()"
      ],
      "metadata": {
        "colab": {
          "base_uri": "https://localhost:8080/"
        },
        "id": "0c_2tOrJ5ebG",
        "outputId": "31e362ed-52d1-45b9-edd1-dc12ff73aec8"
      },
      "execution_count": 37,
      "outputs": [
        {
          "output_type": "stream",
          "name": "stdout",
          "text": [
            "0    242.0\n",
            "1    290.0\n",
            "2    340.0\n",
            "3    363.0\n",
            "4    430.0\n",
            "Name: Weight, dtype: float64\n"
          ]
        }
      ]
    },
    {
      "cell_type": "markdown",
      "source": [
        "## Split in train and test"
      ],
      "metadata": {
        "id": "2J9lFPeE6cAA"
      }
    },
    {
      "cell_type": "code",
      "source": [
        "\"\"\" The dataset is divided randomly into training and testing sets based on the specified random_state. The training set \n",
        "is typically used to train the machine learning model, while the testing set is used for evaluating the model's \n",
        "performance on unseen data. \n",
        "\"\"\"\n",
        "from sklearn.model_selection import train_test_split\n",
        "\n",
        "\"\"\" random_state=42: This parameter sets the random seed to ensure reproducibility of the same train-test split. \n",
        "Setting random_state to a specific value (here, 42) ensures that the same split is obtained every time the code is run.\n",
        "\"\"\"\n",
        "\n",
        "X_train, X_test, y_train, y_test = train_test_split(X, y, random_state=42)"
      ],
      "metadata": {
        "id": "kcj__wid6ecU"
      },
      "execution_count": 56,
      "outputs": []
    },
    {
      "cell_type": "markdown",
      "source": [
        "## Some insights"
      ],
      "metadata": {
        "id": "v2X_4qzm70Eq"
      }
    },
    {
      "cell_type": "code",
      "source": [
        "import plotly.express as px\n",
        "\n",
        "\"\"\" This line creates a copy of the training feature variables (X_train) and assigns it to the train_dataset variable. \n",
        "It is often a good practice to work with a copy of the data to avoid unintended modifications to the original dataset.\n",
        "\"\"\"\n",
        "train_dataset = X_train.copy()\n",
        "\n",
        "\"\"\" This line inserts a new column called \"WAGE\" at the beginning of the train_dataset DataFrame. The values of this \n",
        "column are taken from the target variable (y_train). This step combines the feature variables and target variable \n",
        "together in a single DataFrame, making it easier to visualize their relationships.\n",
        "\"\"\"\n",
        "train_dataset.insert(0, \"Weight\", y_train)\n",
        "\n",
        "fig = px.scatter_matrix(train_dataset, dimensions=train_dataset.columns, opacity=0.7, color=\"Species\", \n",
        "                        symbol='Species', width=1500, height=1200)\n",
        "fig.update_traces(diagonal_visible=False)\n",
        "fig.update_layout(title=\"Pair Plot of Training Dataset\")\n",
        "fig.show()"
      ],
      "metadata": {
        "colab": {
          "base_uri": "https://localhost:8080/",
          "height": 1000
        },
        "id": "pZ9c0zUs72pt",
        "outputId": "0c62c76d-e481-4cd8-b5d1-9ad0c7799fab"
      },
      "execution_count": 57,
      "outputs": [
        {
          "output_type": "display_data",
          "data": {
            "text/html": [
              "<html>\n",
              "<head><meta charset=\"utf-8\" /></head>\n",
              "<body>\n",
              "    <div>            <script src=\"https://cdnjs.cloudflare.com/ajax/libs/mathjax/2.7.5/MathJax.js?config=TeX-AMS-MML_SVG\"></script><script type=\"text/javascript\">if (window.MathJax && window.MathJax.Hub && window.MathJax.Hub.Config) {window.MathJax.Hub.Config({SVG: {font: \"STIX-Web\"}});}</script>                <script type=\"text/javascript\">window.PlotlyConfig = {MathJaxConfig: 'local'};</script>\n",
              "        <script src=\"https://cdn.plot.ly/plotly-2.18.2.min.js\"></script>                <div id=\"7fbe696a-1d40-4eb6-a14d-bd6fe9ea4f51\" class=\"plotly-graph-div\" style=\"height:1200px; width:1500px;\"></div>            <script type=\"text/javascript\">                                    window.PLOTLYENV=window.PLOTLYENV || {};                                    if (document.getElementById(\"7fbe696a-1d40-4eb6-a14d-bd6fe9ea4f51\")) {                    Plotly.newPlot(                        \"7fbe696a-1d40-4eb6-a14d-bd6fe9ea4f51\",                        [{\"dimensions\":[{\"axis\":{\"matches\":true},\"label\":\"Weight\",\"values\":[720.0,620.0,500.0,714.0,430.0,925.0,475.0,242.0,850.0,725.0,680.0,975.0,450.0,950.0,390.0,450.0,340.0,363.0,700.0,500.0,685.0,290.0,575.0,600.0]},{\"axis\":{\"matches\":true},\"label\":\"Species\",\"values\":[\"Bream\",\"Bream\",\"Bream\",\"Bream\",\"Bream\",\"Bream\",\"Bream\",\"Bream\",\"Bream\",\"Bream\",\"Bream\",\"Bream\",\"Bream\",\"Bream\",\"Bream\",\"Bream\",\"Bream\",\"Bream\",\"Bream\",\"Bream\",\"Bream\",\"Bream\",\"Bream\",\"Bream\"]},{\"axis\":{\"matches\":true},\"label\":\"Length1\",\"values\":[32.0,31.5,28.7,32.7,26.5,36.2,28.4,23.2,32.8,31.8,31.8,37.4,26.8,38.0,27.6,27.6,29.5,26.3,30.4,26.8,31.4,24.0,31.3,29.4]},{\"axis\":{\"matches\":true},\"label\":\"Length2\",\"values\":[35.0,34.5,31.0,36.0,29.0,39.5,31.0,25.4,36.0,35.0,35.0,41.0,29.7,41.0,30.0,30.0,32.0,29.0,33.0,29.7,34.0,26.3,34.0,32.0]},{\"axis\":{\"matches\":true},\"label\":\"Length3\",\"values\":[40.6,39.7,36.2,41.5,34.0,45.3,36.2,30.0,41.6,40.9,40.6,45.9,34.7,46.5,35.0,35.1,37.3,33.5,38.5,34.5,39.2,31.2,39.5,37.2]},{\"axis\":{\"matches\":true},\"label\":\"Height\",\"values\":[16.3618,15.5227,14.3714,16.517,12.444,18.7542,14.2628,11.52,16.8896,16.36,15.4686,18.6354,13.6024,17.6235,12.67,14.0049,13.9129,12.73,14.938,14.1795,15.9936,12.48,15.1285,14.9544]},{\"axis\":{\"matches\":true},\"label\":\"Width\",\"values\":[6.09,5.2801,4.8146,5.8515,5.134,6.7497,5.1042,4.02,6.1984,6.0532,6.1306,6.7473,4.9274,6.3705,4.69,4.8438,5.0728,4.4555,5.1975,5.2785,5.3704,4.3056,5.5695,5.1708]}],\"hovertemplate\":\"Species=Bream<br>%{xaxis.title.text}=%{x}<br>%{yaxis.title.text}=%{y}<extra></extra>\",\"legendgroup\":\"Bream\",\"marker\":{\"color\":\"#636efa\",\"opacity\":0.7,\"symbol\":\"circle\"},\"name\":\"Bream\",\"showlegend\":true,\"type\":\"splom\",\"diagonal\":{\"visible\":false}},{\"dimensions\":[{\"axis\":{\"matches\":true},\"label\":\"Weight\",\"values\":[500.0,456.0,950.0,300.0,1600.0,345.0,1550.0,1650.0,540.0,770.0,430.0,300.0,300.0]},{\"axis\":{\"matches\":true},\"label\":\"Species\",\"values\":[\"Pike\",\"Pike\",\"Pike\",\"Pike\",\"Pike\",\"Pike\",\"Pike\",\"Pike\",\"Pike\",\"Pike\",\"Pike\",\"Pike\",\"Pike\"]},{\"axis\":{\"matches\":true},\"label\":\"Length1\",\"values\":[42.0,40.0,48.3,34.8,56.0,36.0,56.0,59.0,40.1,44.8,35.5,31.7,32.7]},{\"axis\":{\"matches\":true},\"label\":\"Length2\",\"values\":[45.0,42.5,51.7,37.3,60.0,38.5,60.0,63.4,43.0,48.0,38.0,34.0,35.0]},{\"axis\":{\"matches\":true},\"label\":\"Length3\",\"values\":[48.0,45.5,55.1,39.8,64.0,41.0,64.0,68.0,45.8,51.2,40.5,37.8,38.8]},{\"axis\":{\"matches\":true},\"label\":\"Height\",\"values\":[6.96,7.28,8.9262,6.2884,9.6,6.396,9.6,10.812,7.786,7.68,7.29,5.7078,5.9364]},{\"axis\":{\"matches\":true},\"label\":\"Width\",\"values\":[4.896,4.3225,6.1712,4.0198,6.144,3.977,6.144,7.48,5.1296,5.376,4.5765,4.158,4.3844]}],\"hovertemplate\":\"Species=Pike<br>%{xaxis.title.text}=%{x}<br>%{yaxis.title.text}=%{y}<extra></extra>\",\"legendgroup\":\"Pike\",\"marker\":{\"color\":\"#EF553B\",\"opacity\":0.7,\"symbol\":\"diamond\"},\"name\":\"Pike\",\"showlegend\":true,\"type\":\"splom\",\"diagonal\":{\"visible\":false}},{\"dimensions\":[{\"axis\":{\"matches\":true},\"label\":\"Weight\",\"values\":[7.5,8.7,12.2,9.7,19.7,12.2,9.8,9.8,19.9]},{\"axis\":{\"matches\":true},\"label\":\"Species\",\"values\":[\"Smelt\",\"Smelt\",\"Smelt\",\"Smelt\",\"Smelt\",\"Smelt\",\"Smelt\",\"Smelt\",\"Smelt\"]},{\"axis\":{\"matches\":true},\"label\":\"Length1\",\"values\":[10.0,10.8,11.5,10.4,13.2,12.1,11.4,10.7,13.8]},{\"axis\":{\"matches\":true},\"label\":\"Length2\",\"values\":[10.5,11.3,12.2,11.0,14.3,13.0,12.0,11.2,15.0]},{\"axis\":{\"matches\":true},\"label\":\"Length3\",\"values\":[11.6,12.6,13.4,12.0,15.2,13.8,13.2,12.4,16.2]},{\"axis\":{\"matches\":true},\"label\":\"Height\",\"values\":[1.972,1.9782,2.0904,2.196,2.8728,2.277,2.2044,2.0832,2.9322]},{\"axis\":{\"matches\":true},\"label\":\"Width\",\"values\":[1.16,1.2852,1.3936,1.38,2.0672,1.2558,1.1484,1.2772,1.8792]}],\"hovertemplate\":\"Species=Smelt<br>%{xaxis.title.text}=%{x}<br>%{yaxis.title.text}=%{y}<extra></extra>\",\"legendgroup\":\"Smelt\",\"marker\":{\"color\":\"#00cc96\",\"opacity\":0.7,\"symbol\":\"square\"},\"name\":\"Smelt\",\"showlegend\":true,\"type\":\"splom\",\"diagonal\":{\"visible\":false}},{\"dimensions\":[{\"axis\":{\"matches\":true},\"label\":\"Weight\",\"values\":[110.0,110.0,130.0,85.0,685.0,514.0,1000.0,1000.0,250.0,145.0,650.0,125.0,840.0,690.0,80.0,265.0,850.0,32.0,320.0,1100.0,145.0,197.0,700.0,820.0,85.0,100.0,900.0,556.0,130.0,115.0,135.0,700.0,5.9,300.0,130.0,260.0,180.0,900.0,120.0,40.0,1015.0,250.0,150.0,300.0]},{\"axis\":{\"matches\":true},\"label\":\"Species\",\"values\":[\"Perch\",\"Perch\",\"Perch\",\"Perch\",\"Perch\",\"Perch\",\"Perch\",\"Perch\",\"Perch\",\"Perch\",\"Perch\",\"Perch\",\"Perch\",\"Perch\",\"Perch\",\"Perch\",\"Perch\",\"Perch\",\"Perch\",\"Perch\",\"Perch\",\"Perch\",\"Perch\",\"Perch\",\"Perch\",\"Perch\",\"Perch\",\"Perch\",\"Perch\",\"Perch\",\"Perch\",\"Perch\",\"Perch\",\"Perch\",\"Perch\",\"Perch\",\"Perch\",\"Perch\",\"Perch\",\"Perch\",\"Perch\",\"Perch\",\"Perch\",\"Perch\"]},{\"axis\":{\"matches\":true},\"label\":\"Length1\",\"values\":[20.0,19.0,19.3,18.2,34.0,30.5,41.1,39.8,25.4,20.7,36.5,19.0,32.5,34.6,17.2,25.4,36.9,12.5,27.8,39.0,22.0,23.5,34.5,37.1,17.8,16.2,37.0,32.0,20.5,19.0,20.0,34.0,7.5,26.9,20.0,25.4,23.0,36.5,20.0,13.8,37.0,25.9,20.5,25.2]},{\"axis\":{\"matches\":true},\"label\":\"Length2\",\"values\":[22.0,21.0,21.3,20.0,36.5,32.8,44.0,43.0,27.5,22.7,39.0,21.0,35.0,37.0,19.0,27.5,40.0,13.7,30.0,42.0,24.0,25.6,37.0,40.0,19.6,18.0,40.0,34.5,22.5,21.0,22.0,36.0,8.4,28.7,22.0,27.5,25.0,39.0,22.0,15.0,40.0,28.0,22.5,27.3]},{\"axis\":{\"matches\":true},\"label\":\"Length3\",\"values\":[23.5,22.5,22.8,21.0,39.0,34.0,46.6,45.2,28.9,24.2,41.4,22.5,37.3,39.3,20.2,28.9,42.3,14.7,31.6,44.6,25.5,27.0,39.4,42.5,20.8,19.2,42.5,36.5,24.0,22.5,23.5,38.3,8.8,30.1,23.5,28.9,26.5,41.4,23.5,16.0,42.4,29.4,24.0,28.7]},{\"axis\":{\"matches\":true},\"label\":\"Height\",\"values\":[5.5225,5.6925,6.384,5.082,10.880999999999998,10.03,12.4888,11.9328,7.2828,5.9532,11.1366,5.6925,11.4884,10.5717,5.6358,7.0516,11.9286,3.528,7.6156,12.8002,6.375,6.561,10.835,11.135,5.1376,5.2224,11.73,10.2565,5.856,5.9175,5.875,10.6091,2.112,7.5852,6.11,7.1672,6.4395,11.1366,5.64,3.824,12.3808,7.8204,6.792000000000001,8.323]},{\"axis\":{\"matches\":true},\"label\":\"Width\",\"values\":[3.995,3.555,3.534,2.772,6.864,6.018,7.5958,7.2772,4.5662,3.63,6.002999999999999,3.6675,7.7957,6.3666,3.0502,4.335,7.1064,1.9992,4.7716,6.8684,3.825,4.239,6.2646,6.63,3.0368,3.3216,7.225,6.3875,3.624,3.3075,3.525,6.7408,1.408,4.6354,3.525,4.335,3.6835,7.4934,3.525,2.432,7.4624,4.2042,3.624,5.1373]}],\"hovertemplate\":\"Species=Perch<br>%{xaxis.title.text}=%{x}<br>%{yaxis.title.text}=%{y}<extra></extra>\",\"legendgroup\":\"Perch\",\"marker\":{\"color\":\"#ab63fa\",\"opacity\":0.7,\"symbol\":\"x\"},\"name\":\"Perch\",\"showlegend\":true,\"type\":\"splom\",\"diagonal\":{\"visible\":false}},{\"dimensions\":[{\"axis\":{\"matches\":true},\"label\":\"Weight\",\"values\":[140.0,200.0,170.0,120.0,55.0,60.0,273.0,90.0,300.0]},{\"axis\":{\"matches\":true},\"label\":\"Species\",\"values\":[\"Parkki\",\"Parkki\",\"Parkki\",\"Parkki\",\"Parkki\",\"Parkki\",\"Parkki\",\"Parkki\",\"Parkki\"]},{\"axis\":{\"matches\":true},\"label\":\"Length1\",\"values\":[19.0,21.2,19.0,17.5,13.5,14.3,23.0,16.3,24.0]},{\"axis\":{\"matches\":true},\"label\":\"Length2\",\"values\":[20.7,23.0,20.7,19.0,14.7,15.5,25.0,17.7,26.0]},{\"axis\":{\"matches\":true},\"label\":\"Length3\",\"values\":[23.2,25.8,23.2,21.3,16.5,17.4,28.0,19.8,29.0]},{\"axis\":{\"matches\":true},\"label\":\"Height\",\"values\":[8.5376,10.3458,9.396,8.3922,6.8475,6.5772,11.088,7.4052,11.368]},{\"axis\":{\"matches\":true},\"label\":\"Width\",\"values\":[3.2944,3.6636,3.4104,2.9181,2.3265,2.3142,4.144,2.673,4.234]}],\"hovertemplate\":\"Species=Parkki<br>%{xaxis.title.text}=%{x}<br>%{yaxis.title.text}=%{y}<extra></extra>\",\"legendgroup\":\"Parkki\",\"marker\":{\"color\":\"#FFA15A\",\"opacity\":0.7,\"symbol\":\"cross\"},\"name\":\"Parkki\",\"showlegend\":true,\"type\":\"splom\",\"diagonal\":{\"visible\":false}},{\"dimensions\":[{\"axis\":{\"matches\":true},\"label\":\"Weight\",\"values\":[69.0,110.0,145.0,0.0,120.0,160.0,272.0,161.0,40.0,140.0,150.0,87.0,390.0,200.0,169.0,78.0,290.0]},{\"axis\":{\"matches\":true},\"label\":\"Species\",\"values\":[\"Roach\",\"Roach\",\"Roach\",\"Roach\",\"Roach\",\"Roach\",\"Roach\",\"Roach\",\"Roach\",\"Roach\",\"Roach\",\"Roach\",\"Roach\",\"Roach\",\"Roach\",\"Roach\",\"Roach\"]},{\"axis\":{\"matches\":true},\"label\":\"Length1\",\"values\":[16.5,19.1,20.5,19.0,18.6,21.1,25.0,22.0,12.9,21.0,20.4,18.2,29.5,22.1,22.0,17.5,24.0]},{\"axis\":{\"matches\":true},\"label\":\"Length2\",\"values\":[18.2,20.8,22.0,20.5,20.0,22.5,27.0,23.4,14.1,22.5,22.0,19.8,31.7,23.5,24.0,18.8,26.0]},{\"axis\":{\"matches\":true},\"label\":\"Length3\",\"values\":[20.3,23.1,24.3,22.8,22.2,25.0,30.6,26.7,16.2,25.0,24.7,22.2,35.0,26.8,27.2,21.2,29.2]},{\"axis\":{\"matches\":true},\"label\":\"Height\",\"values\":[5.2983,6.1677,6.6339,6.4752,6.216,6.4,8.568,6.9153,4.1472,6.55,5.8045,5.6166,9.485,7.3968,7.5344,5.5756,8.8768]},{\"axis\":{\"matches\":true},\"label\":\"Width\",\"values\":[2.8217,3.3957,3.5478,3.3516,3.5742,3.8,4.7736,3.6312,2.268,3.325,3.7544,3.1746,5.355,4.1272,3.8352,2.9044,4.4968]}],\"hovertemplate\":\"Species=Roach<br>%{xaxis.title.text}=%{x}<br>%{yaxis.title.text}=%{y}<extra></extra>\",\"legendgroup\":\"Roach\",\"marker\":{\"color\":\"#19d3f3\",\"opacity\":0.7,\"symbol\":\"circle\"},\"name\":\"Roach\",\"showlegend\":true,\"type\":\"splom\",\"diagonal\":{\"visible\":false}},{\"dimensions\":[{\"axis\":{\"matches\":true},\"label\":\"Weight\",\"values\":[800.0,540.0,306.0]},{\"axis\":{\"matches\":true},\"label\":\"Species\",\"values\":[\"Whitefish\",\"Whitefish\",\"Whitefish\"]},{\"axis\":{\"matches\":true},\"label\":\"Length1\",\"values\":[33.7,28.5,25.6]},{\"axis\":{\"matches\":true},\"label\":\"Length2\",\"values\":[36.4,31.0,28.0]},{\"axis\":{\"matches\":true},\"label\":\"Length3\",\"values\":[39.6,34.0,30.8]},{\"axis\":{\"matches\":true},\"label\":\"Height\",\"values\":[11.7612,10.744000000000002,8.777999999999999]},{\"axis\":{\"matches\":true},\"label\":\"Width\",\"values\":[6.5736,6.562,4.6816]}],\"hovertemplate\":\"Species=Whitefish<br>%{xaxis.title.text}=%{x}<br>%{yaxis.title.text}=%{y}<extra></extra>\",\"legendgroup\":\"Whitefish\",\"marker\":{\"color\":\"#FF6692\",\"opacity\":0.7,\"symbol\":\"diamond\"},\"name\":\"Whitefish\",\"showlegend\":true,\"type\":\"splom\",\"diagonal\":{\"visible\":false}}],                        {\"template\":{\"data\":{\"histogram2dcontour\":[{\"type\":\"histogram2dcontour\",\"colorbar\":{\"outlinewidth\":0,\"ticks\":\"\"},\"colorscale\":[[0.0,\"#0d0887\"],[0.1111111111111111,\"#46039f\"],[0.2222222222222222,\"#7201a8\"],[0.3333333333333333,\"#9c179e\"],[0.4444444444444444,\"#bd3786\"],[0.5555555555555556,\"#d8576b\"],[0.6666666666666666,\"#ed7953\"],[0.7777777777777778,\"#fb9f3a\"],[0.8888888888888888,\"#fdca26\"],[1.0,\"#f0f921\"]]}],\"choropleth\":[{\"type\":\"choropleth\",\"colorbar\":{\"outlinewidth\":0,\"ticks\":\"\"}}],\"histogram2d\":[{\"type\":\"histogram2d\",\"colorbar\":{\"outlinewidth\":0,\"ticks\":\"\"},\"colorscale\":[[0.0,\"#0d0887\"],[0.1111111111111111,\"#46039f\"],[0.2222222222222222,\"#7201a8\"],[0.3333333333333333,\"#9c179e\"],[0.4444444444444444,\"#bd3786\"],[0.5555555555555556,\"#d8576b\"],[0.6666666666666666,\"#ed7953\"],[0.7777777777777778,\"#fb9f3a\"],[0.8888888888888888,\"#fdca26\"],[1.0,\"#f0f921\"]]}],\"heatmap\":[{\"type\":\"heatmap\",\"colorbar\":{\"outlinewidth\":0,\"ticks\":\"\"},\"colorscale\":[[0.0,\"#0d0887\"],[0.1111111111111111,\"#46039f\"],[0.2222222222222222,\"#7201a8\"],[0.3333333333333333,\"#9c179e\"],[0.4444444444444444,\"#bd3786\"],[0.5555555555555556,\"#d8576b\"],[0.6666666666666666,\"#ed7953\"],[0.7777777777777778,\"#fb9f3a\"],[0.8888888888888888,\"#fdca26\"],[1.0,\"#f0f921\"]]}],\"heatmapgl\":[{\"type\":\"heatmapgl\",\"colorbar\":{\"outlinewidth\":0,\"ticks\":\"\"},\"colorscale\":[[0.0,\"#0d0887\"],[0.1111111111111111,\"#46039f\"],[0.2222222222222222,\"#7201a8\"],[0.3333333333333333,\"#9c179e\"],[0.4444444444444444,\"#bd3786\"],[0.5555555555555556,\"#d8576b\"],[0.6666666666666666,\"#ed7953\"],[0.7777777777777778,\"#fb9f3a\"],[0.8888888888888888,\"#fdca26\"],[1.0,\"#f0f921\"]]}],\"contourcarpet\":[{\"type\":\"contourcarpet\",\"colorbar\":{\"outlinewidth\":0,\"ticks\":\"\"}}],\"contour\":[{\"type\":\"contour\",\"colorbar\":{\"outlinewidth\":0,\"ticks\":\"\"},\"colorscale\":[[0.0,\"#0d0887\"],[0.1111111111111111,\"#46039f\"],[0.2222222222222222,\"#7201a8\"],[0.3333333333333333,\"#9c179e\"],[0.4444444444444444,\"#bd3786\"],[0.5555555555555556,\"#d8576b\"],[0.6666666666666666,\"#ed7953\"],[0.7777777777777778,\"#fb9f3a\"],[0.8888888888888888,\"#fdca26\"],[1.0,\"#f0f921\"]]}],\"surface\":[{\"type\":\"surface\",\"colorbar\":{\"outlinewidth\":0,\"ticks\":\"\"},\"colorscale\":[[0.0,\"#0d0887\"],[0.1111111111111111,\"#46039f\"],[0.2222222222222222,\"#7201a8\"],[0.3333333333333333,\"#9c179e\"],[0.4444444444444444,\"#bd3786\"],[0.5555555555555556,\"#d8576b\"],[0.6666666666666666,\"#ed7953\"],[0.7777777777777778,\"#fb9f3a\"],[0.8888888888888888,\"#fdca26\"],[1.0,\"#f0f921\"]]}],\"mesh3d\":[{\"type\":\"mesh3d\",\"colorbar\":{\"outlinewidth\":0,\"ticks\":\"\"}}],\"scatter\":[{\"fillpattern\":{\"fillmode\":\"overlay\",\"size\":10,\"solidity\":0.2},\"type\":\"scatter\"}],\"parcoords\":[{\"type\":\"parcoords\",\"line\":{\"colorbar\":{\"outlinewidth\":0,\"ticks\":\"\"}}}],\"scatterpolargl\":[{\"type\":\"scatterpolargl\",\"marker\":{\"colorbar\":{\"outlinewidth\":0,\"ticks\":\"\"}}}],\"bar\":[{\"error_x\":{\"color\":\"#2a3f5f\"},\"error_y\":{\"color\":\"#2a3f5f\"},\"marker\":{\"line\":{\"color\":\"#E5ECF6\",\"width\":0.5},\"pattern\":{\"fillmode\":\"overlay\",\"size\":10,\"solidity\":0.2}},\"type\":\"bar\"}],\"scattergeo\":[{\"type\":\"scattergeo\",\"marker\":{\"colorbar\":{\"outlinewidth\":0,\"ticks\":\"\"}}}],\"scatterpolar\":[{\"type\":\"scatterpolar\",\"marker\":{\"colorbar\":{\"outlinewidth\":0,\"ticks\":\"\"}}}],\"histogram\":[{\"marker\":{\"pattern\":{\"fillmode\":\"overlay\",\"size\":10,\"solidity\":0.2}},\"type\":\"histogram\"}],\"scattergl\":[{\"type\":\"scattergl\",\"marker\":{\"colorbar\":{\"outlinewidth\":0,\"ticks\":\"\"}}}],\"scatter3d\":[{\"type\":\"scatter3d\",\"line\":{\"colorbar\":{\"outlinewidth\":0,\"ticks\":\"\"}},\"marker\":{\"colorbar\":{\"outlinewidth\":0,\"ticks\":\"\"}}}],\"scattermapbox\":[{\"type\":\"scattermapbox\",\"marker\":{\"colorbar\":{\"outlinewidth\":0,\"ticks\":\"\"}}}],\"scatterternary\":[{\"type\":\"scatterternary\",\"marker\":{\"colorbar\":{\"outlinewidth\":0,\"ticks\":\"\"}}}],\"scattercarpet\":[{\"type\":\"scattercarpet\",\"marker\":{\"colorbar\":{\"outlinewidth\":0,\"ticks\":\"\"}}}],\"carpet\":[{\"aaxis\":{\"endlinecolor\":\"#2a3f5f\",\"gridcolor\":\"white\",\"linecolor\":\"white\",\"minorgridcolor\":\"white\",\"startlinecolor\":\"#2a3f5f\"},\"baxis\":{\"endlinecolor\":\"#2a3f5f\",\"gridcolor\":\"white\",\"linecolor\":\"white\",\"minorgridcolor\":\"white\",\"startlinecolor\":\"#2a3f5f\"},\"type\":\"carpet\"}],\"table\":[{\"cells\":{\"fill\":{\"color\":\"#EBF0F8\"},\"line\":{\"color\":\"white\"}},\"header\":{\"fill\":{\"color\":\"#C8D4E3\"},\"line\":{\"color\":\"white\"}},\"type\":\"table\"}],\"barpolar\":[{\"marker\":{\"line\":{\"color\":\"#E5ECF6\",\"width\":0.5},\"pattern\":{\"fillmode\":\"overlay\",\"size\":10,\"solidity\":0.2}},\"type\":\"barpolar\"}],\"pie\":[{\"automargin\":true,\"type\":\"pie\"}]},\"layout\":{\"autotypenumbers\":\"strict\",\"colorway\":[\"#636efa\",\"#EF553B\",\"#00cc96\",\"#ab63fa\",\"#FFA15A\",\"#19d3f3\",\"#FF6692\",\"#B6E880\",\"#FF97FF\",\"#FECB52\"],\"font\":{\"color\":\"#2a3f5f\"},\"hovermode\":\"closest\",\"hoverlabel\":{\"align\":\"left\"},\"paper_bgcolor\":\"white\",\"plot_bgcolor\":\"#E5ECF6\",\"polar\":{\"bgcolor\":\"#E5ECF6\",\"angularaxis\":{\"gridcolor\":\"white\",\"linecolor\":\"white\",\"ticks\":\"\"},\"radialaxis\":{\"gridcolor\":\"white\",\"linecolor\":\"white\",\"ticks\":\"\"}},\"ternary\":{\"bgcolor\":\"#E5ECF6\",\"aaxis\":{\"gridcolor\":\"white\",\"linecolor\":\"white\",\"ticks\":\"\"},\"baxis\":{\"gridcolor\":\"white\",\"linecolor\":\"white\",\"ticks\":\"\"},\"caxis\":{\"gridcolor\":\"white\",\"linecolor\":\"white\",\"ticks\":\"\"}},\"coloraxis\":{\"colorbar\":{\"outlinewidth\":0,\"ticks\":\"\"}},\"colorscale\":{\"sequential\":[[0.0,\"#0d0887\"],[0.1111111111111111,\"#46039f\"],[0.2222222222222222,\"#7201a8\"],[0.3333333333333333,\"#9c179e\"],[0.4444444444444444,\"#bd3786\"],[0.5555555555555556,\"#d8576b\"],[0.6666666666666666,\"#ed7953\"],[0.7777777777777778,\"#fb9f3a\"],[0.8888888888888888,\"#fdca26\"],[1.0,\"#f0f921\"]],\"sequentialminus\":[[0.0,\"#0d0887\"],[0.1111111111111111,\"#46039f\"],[0.2222222222222222,\"#7201a8\"],[0.3333333333333333,\"#9c179e\"],[0.4444444444444444,\"#bd3786\"],[0.5555555555555556,\"#d8576b\"],[0.6666666666666666,\"#ed7953\"],[0.7777777777777778,\"#fb9f3a\"],[0.8888888888888888,\"#fdca26\"],[1.0,\"#f0f921\"]],\"diverging\":[[0,\"#8e0152\"],[0.1,\"#c51b7d\"],[0.2,\"#de77ae\"],[0.3,\"#f1b6da\"],[0.4,\"#fde0ef\"],[0.5,\"#f7f7f7\"],[0.6,\"#e6f5d0\"],[0.7,\"#b8e186\"],[0.8,\"#7fbc41\"],[0.9,\"#4d9221\"],[1,\"#276419\"]]},\"xaxis\":{\"gridcolor\":\"white\",\"linecolor\":\"white\",\"ticks\":\"\",\"title\":{\"standoff\":15},\"zerolinecolor\":\"white\",\"automargin\":true,\"zerolinewidth\":2},\"yaxis\":{\"gridcolor\":\"white\",\"linecolor\":\"white\",\"ticks\":\"\",\"title\":{\"standoff\":15},\"zerolinecolor\":\"white\",\"automargin\":true,\"zerolinewidth\":2},\"scene\":{\"xaxis\":{\"backgroundcolor\":\"#E5ECF6\",\"gridcolor\":\"white\",\"linecolor\":\"white\",\"showbackground\":true,\"ticks\":\"\",\"zerolinecolor\":\"white\",\"gridwidth\":2},\"yaxis\":{\"backgroundcolor\":\"#E5ECF6\",\"gridcolor\":\"white\",\"linecolor\":\"white\",\"showbackground\":true,\"ticks\":\"\",\"zerolinecolor\":\"white\",\"gridwidth\":2},\"zaxis\":{\"backgroundcolor\":\"#E5ECF6\",\"gridcolor\":\"white\",\"linecolor\":\"white\",\"showbackground\":true,\"ticks\":\"\",\"zerolinecolor\":\"white\",\"gridwidth\":2}},\"shapedefaults\":{\"line\":{\"color\":\"#2a3f5f\"}},\"annotationdefaults\":{\"arrowcolor\":\"#2a3f5f\",\"arrowhead\":0,\"arrowwidth\":1},\"geo\":{\"bgcolor\":\"white\",\"landcolor\":\"#E5ECF6\",\"subunitcolor\":\"white\",\"showland\":true,\"showlakes\":true,\"lakecolor\":\"white\"},\"title\":{\"x\":0.05},\"mapbox\":{\"style\":\"light\"}}},\"legend\":{\"title\":{\"text\":\"Species\"},\"tracegroupgap\":0},\"margin\":{\"t\":60},\"dragmode\":\"select\",\"height\":1200,\"width\":1500,\"title\":{\"text\":\"Pair Plot of Training Dataset\"}},                        {\"responsive\": true}                    ).then(function(){\n",
              "                            \n",
              "var gd = document.getElementById('7fbe696a-1d40-4eb6-a14d-bd6fe9ea4f51');\n",
              "var x = new MutationObserver(function (mutations, observer) {{\n",
              "        var display = window.getComputedStyle(gd).display;\n",
              "        if (!display || display === 'none') {{\n",
              "            console.log([gd, 'removed!']);\n",
              "            Plotly.purge(gd);\n",
              "            observer.disconnect();\n",
              "        }}\n",
              "}});\n",
              "\n",
              "// Listen for the removal of the full notebook cells\n",
              "var notebookContainer = gd.closest('#notebook-container');\n",
              "if (notebookContainer) {{\n",
              "    x.observe(notebookContainer, {childList: true});\n",
              "}}\n",
              "\n",
              "// Listen for the clearing of the current output cell\n",
              "var outputEl = gd.closest('.output');\n",
              "if (outputEl) {{\n",
              "    x.observe(outputEl, {childList: true});\n",
              "}}\n",
              "\n",
              "                        })                };                            </script>        </div>\n",
              "</body>\n",
              "</html>"
            ]
          },
          "metadata": {}
        }
      ]
    },
    {
      "cell_type": "markdown",
      "source": [
        "## Categorical variables"
      ],
      "metadata": {
        "id": "Aa6XvSoY_UHf"
      }
    },
    {
      "cell_type": "code",
      "source": [
        "from sklearn.compose import make_column_transformer\n",
        "from sklearn.preprocessing import OneHotEncoder\n",
        "\n",
        "\"\"\" By creating this column transformer, you can apply the specified transformations to the categorical and numerical \n",
        "columns in your dataset. It allows for flexible preprocessing and handling of different column types within \n",
        "a unified pipeline.\n",
        "\"\"\"\n",
        "\n",
        "categorical_columns = [\"Species\"]\n",
        "numerical_columns = [\"Length1\", \"Length2\", \"Length3\", \"Height\", \"Width\"]\n",
        "\n",
        "\"\"\" \n",
        "1. (OneHotEncoder(drop=\"if_binary\"), categorical_columns): This specifies a transformation step for the categorical \n",
        "columns. The OneHotEncoder is used to perform one-hot encoding on these columns. \n",
        "2. The drop=\"if_binary\" parameter indicates that if a categorical column has only two unique values, one of them will be \n",
        "dropped to avoid multicollinearity.\n",
        "3. remainder=\"passthrough\": This parameter indicates that any remaining columns that are not explicitly specified should\n",
        "be passed through without any transformations.\n",
        "4. verbose_feature_names_out=False: This parameter is set to False to prevent the transformer from prepending its name \n",
        "to the feature names, resulting in more concise feature names.\n",
        "\"\"\"\n",
        "preprocessor = make_column_transformer(\n",
        "    (OneHotEncoder(drop=\"if_binary\"), categorical_columns),\n",
        "    remainder=\"passthrough\",\n",
        "    verbose_feature_names_out=False,  # avoid to prepend the preprocessor names\n",
        ")"
      ],
      "metadata": {
        "id": "nLLh0C8Z_XGS"
      },
      "execution_count": 58,
      "outputs": []
    },
    {
      "cell_type": "markdown",
      "source": [
        "## The pipeline\n",
        "\n",
        "The **make_pipeline** function is called to create the machine learning pipeline, model. It takes a series of steps that are applied in sequential order.\n",
        "\n",
        "1. **preprocessor**: This is the column transformer created earlier, which applies the necessary preprocessing steps to the data.\n",
        "2. **TransformedTargetRegressor**: This is a meta-estimator that wraps the Ridge regressor with a transformation on the target variable. It allows for applying a transformation to the target variable during training and inverse transformation during prediction.\n",
        "3. **regressor=Ridge(alpha=1e-10)**: This specifies the Ridge regressor as the underlying estimator for the meta-estimator. The alpha parameter is set to 1e-10, which represents a very small regularization strength.\n",
        "\n",
        "*By creating this pipeline, you can seamlessly apply the preprocessing steps using the preprocessor and train a Ridge regression model with transformed target variables using the TransformedTargetRegressor. The pipeline allows for a streamlined and reproducible machine learning workflow.*"
      ],
      "metadata": {
        "id": "Tqr0KosgA9bM"
      }
    },
    {
      "cell_type": "code",
      "source": [
        "from sklearn.pipeline import make_pipeline\n",
        "from sklearn.linear_model import Ridge\n",
        "from sklearn.compose import TransformedTargetRegressor\n",
        "\n",
        "model = make_pipeline(\n",
        "    preprocessor,\n",
        "    TransformedTargetRegressor(\n",
        "        regressor=Ridge(alpha=1e-10), func=None, inverse_func=None\n",
        "    ),\n",
        ")"
      ],
      "metadata": {
        "id": "f8M0noulA_Ci"
      },
      "execution_count": 59,
      "outputs": []
    },
    {
      "cell_type": "markdown",
      "source": [
        "## Fit the model"
      ],
      "metadata": {
        "id": "lDP7hieVB7ew"
      }
    },
    {
      "cell_type": "code",
      "source": [
        "model.fit(X_train, y_train)"
      ],
      "metadata": {
        "colab": {
          "base_uri": "https://localhost:8080/",
          "height": 257
        },
        "id": "Ruv8s72DB9G0",
        "outputId": "c10ae130-fb1e-4f4e-8c3e-8f55f4987e81"
      },
      "execution_count": 60,
      "outputs": [
        {
          "output_type": "execute_result",
          "data": {
            "text/plain": [
              "Pipeline(steps=[('columntransformer',\n",
              "                 ColumnTransformer(remainder='passthrough',\n",
              "                                   transformers=[('onehotencoder',\n",
              "                                                  OneHotEncoder(drop='if_binary'),\n",
              "                                                  ['Species'])],\n",
              "                                   verbose_feature_names_out=False)),\n",
              "                ('transformedtargetregressor',\n",
              "                 TransformedTargetRegressor(regressor=Ridge(alpha=1e-10)))])"
            ],
            "text/html": [
              "<style>#sk-container-id-3 {color: black;background-color: white;}#sk-container-id-3 pre{padding: 0;}#sk-container-id-3 div.sk-toggleable {background-color: white;}#sk-container-id-3 label.sk-toggleable__label {cursor: pointer;display: block;width: 100%;margin-bottom: 0;padding: 0.3em;box-sizing: border-box;text-align: center;}#sk-container-id-3 label.sk-toggleable__label-arrow:before {content: \"▸\";float: left;margin-right: 0.25em;color: #696969;}#sk-container-id-3 label.sk-toggleable__label-arrow:hover:before {color: black;}#sk-container-id-3 div.sk-estimator:hover label.sk-toggleable__label-arrow:before {color: black;}#sk-container-id-3 div.sk-toggleable__content {max-height: 0;max-width: 0;overflow: hidden;text-align: left;background-color: #f0f8ff;}#sk-container-id-3 div.sk-toggleable__content pre {margin: 0.2em;color: black;border-radius: 0.25em;background-color: #f0f8ff;}#sk-container-id-3 input.sk-toggleable__control:checked~div.sk-toggleable__content {max-height: 200px;max-width: 100%;overflow: auto;}#sk-container-id-3 input.sk-toggleable__control:checked~label.sk-toggleable__label-arrow:before {content: \"▾\";}#sk-container-id-3 div.sk-estimator input.sk-toggleable__control:checked~label.sk-toggleable__label {background-color: #d4ebff;}#sk-container-id-3 div.sk-label input.sk-toggleable__control:checked~label.sk-toggleable__label {background-color: #d4ebff;}#sk-container-id-3 input.sk-hidden--visually {border: 0;clip: rect(1px 1px 1px 1px);clip: rect(1px, 1px, 1px, 1px);height: 1px;margin: -1px;overflow: hidden;padding: 0;position: absolute;width: 1px;}#sk-container-id-3 div.sk-estimator {font-family: monospace;background-color: #f0f8ff;border: 1px dotted black;border-radius: 0.25em;box-sizing: border-box;margin-bottom: 0.5em;}#sk-container-id-3 div.sk-estimator:hover {background-color: #d4ebff;}#sk-container-id-3 div.sk-parallel-item::after {content: \"\";width: 100%;border-bottom: 1px solid gray;flex-grow: 1;}#sk-container-id-3 div.sk-label:hover label.sk-toggleable__label {background-color: #d4ebff;}#sk-container-id-3 div.sk-serial::before {content: \"\";position: absolute;border-left: 1px solid gray;box-sizing: border-box;top: 0;bottom: 0;left: 50%;z-index: 0;}#sk-container-id-3 div.sk-serial {display: flex;flex-direction: column;align-items: center;background-color: white;padding-right: 0.2em;padding-left: 0.2em;position: relative;}#sk-container-id-3 div.sk-item {position: relative;z-index: 1;}#sk-container-id-3 div.sk-parallel {display: flex;align-items: stretch;justify-content: center;background-color: white;position: relative;}#sk-container-id-3 div.sk-item::before, #sk-container-id-3 div.sk-parallel-item::before {content: \"\";position: absolute;border-left: 1px solid gray;box-sizing: border-box;top: 0;bottom: 0;left: 50%;z-index: -1;}#sk-container-id-3 div.sk-parallel-item {display: flex;flex-direction: column;z-index: 1;position: relative;background-color: white;}#sk-container-id-3 div.sk-parallel-item:first-child::after {align-self: flex-end;width: 50%;}#sk-container-id-3 div.sk-parallel-item:last-child::after {align-self: flex-start;width: 50%;}#sk-container-id-3 div.sk-parallel-item:only-child::after {width: 0;}#sk-container-id-3 div.sk-dashed-wrapped {border: 1px dashed gray;margin: 0 0.4em 0.5em 0.4em;box-sizing: border-box;padding-bottom: 0.4em;background-color: white;}#sk-container-id-3 div.sk-label label {font-family: monospace;font-weight: bold;display: inline-block;line-height: 1.2em;}#sk-container-id-3 div.sk-label-container {text-align: center;}#sk-container-id-3 div.sk-container {/* jupyter's `normalize.less` sets `[hidden] { display: none; }` but bootstrap.min.css set `[hidden] { display: none !important; }` so we also need the `!important` here to be able to override the default hidden behavior on the sphinx rendered scikit-learn.org. See: https://github.com/scikit-learn/scikit-learn/issues/21755 */display: inline-block !important;position: relative;}#sk-container-id-3 div.sk-text-repr-fallback {display: none;}</style><div id=\"sk-container-id-3\" class=\"sk-top-container\"><div class=\"sk-text-repr-fallback\"><pre>Pipeline(steps=[(&#x27;columntransformer&#x27;,\n",
              "                 ColumnTransformer(remainder=&#x27;passthrough&#x27;,\n",
              "                                   transformers=[(&#x27;onehotencoder&#x27;,\n",
              "                                                  OneHotEncoder(drop=&#x27;if_binary&#x27;),\n",
              "                                                  [&#x27;Species&#x27;])],\n",
              "                                   verbose_feature_names_out=False)),\n",
              "                (&#x27;transformedtargetregressor&#x27;,\n",
              "                 TransformedTargetRegressor(regressor=Ridge(alpha=1e-10)))])</pre><b>In a Jupyter environment, please rerun this cell to show the HTML representation or trust the notebook. <br />On GitHub, the HTML representation is unable to render, please try loading this page with nbviewer.org.</b></div><div class=\"sk-container\" hidden><div class=\"sk-item sk-dashed-wrapped\"><div class=\"sk-label-container\"><div class=\"sk-label sk-toggleable\"><input class=\"sk-toggleable__control sk-hidden--visually\" id=\"sk-estimator-id-19\" type=\"checkbox\" ><label for=\"sk-estimator-id-19\" class=\"sk-toggleable__label sk-toggleable__label-arrow\">Pipeline</label><div class=\"sk-toggleable__content\"><pre>Pipeline(steps=[(&#x27;columntransformer&#x27;,\n",
              "                 ColumnTransformer(remainder=&#x27;passthrough&#x27;,\n",
              "                                   transformers=[(&#x27;onehotencoder&#x27;,\n",
              "                                                  OneHotEncoder(drop=&#x27;if_binary&#x27;),\n",
              "                                                  [&#x27;Species&#x27;])],\n",
              "                                   verbose_feature_names_out=False)),\n",
              "                (&#x27;transformedtargetregressor&#x27;,\n",
              "                 TransformedTargetRegressor(regressor=Ridge(alpha=1e-10)))])</pre></div></div></div><div class=\"sk-serial\"><div class=\"sk-item sk-dashed-wrapped\"><div class=\"sk-label-container\"><div class=\"sk-label sk-toggleable\"><input class=\"sk-toggleable__control sk-hidden--visually\" id=\"sk-estimator-id-20\" type=\"checkbox\" ><label for=\"sk-estimator-id-20\" class=\"sk-toggleable__label sk-toggleable__label-arrow\">columntransformer: ColumnTransformer</label><div class=\"sk-toggleable__content\"><pre>ColumnTransformer(remainder=&#x27;passthrough&#x27;,\n",
              "                  transformers=[(&#x27;onehotencoder&#x27;,\n",
              "                                 OneHotEncoder(drop=&#x27;if_binary&#x27;),\n",
              "                                 [&#x27;Species&#x27;])],\n",
              "                  verbose_feature_names_out=False)</pre></div></div></div><div class=\"sk-parallel\"><div class=\"sk-parallel-item\"><div class=\"sk-item\"><div class=\"sk-label-container\"><div class=\"sk-label sk-toggleable\"><input class=\"sk-toggleable__control sk-hidden--visually\" id=\"sk-estimator-id-21\" type=\"checkbox\" ><label for=\"sk-estimator-id-21\" class=\"sk-toggleable__label sk-toggleable__label-arrow\">onehotencoder</label><div class=\"sk-toggleable__content\"><pre>[&#x27;Species&#x27;]</pre></div></div></div><div class=\"sk-serial\"><div class=\"sk-item\"><div class=\"sk-estimator sk-toggleable\"><input class=\"sk-toggleable__control sk-hidden--visually\" id=\"sk-estimator-id-22\" type=\"checkbox\" ><label for=\"sk-estimator-id-22\" class=\"sk-toggleable__label sk-toggleable__label-arrow\">OneHotEncoder</label><div class=\"sk-toggleable__content\"><pre>OneHotEncoder(drop=&#x27;if_binary&#x27;)</pre></div></div></div></div></div></div><div class=\"sk-parallel-item\"><div class=\"sk-item\"><div class=\"sk-label-container\"><div class=\"sk-label sk-toggleable\"><input class=\"sk-toggleable__control sk-hidden--visually\" id=\"sk-estimator-id-23\" type=\"checkbox\" ><label for=\"sk-estimator-id-23\" class=\"sk-toggleable__label sk-toggleable__label-arrow\">remainder</label><div class=\"sk-toggleable__content\"><pre>[&#x27;Length1&#x27;, &#x27;Length2&#x27;, &#x27;Length3&#x27;, &#x27;Height&#x27;, &#x27;Width&#x27;]</pre></div></div></div><div class=\"sk-serial\"><div class=\"sk-item\"><div class=\"sk-estimator sk-toggleable\"><input class=\"sk-toggleable__control sk-hidden--visually\" id=\"sk-estimator-id-24\" type=\"checkbox\" ><label for=\"sk-estimator-id-24\" class=\"sk-toggleable__label sk-toggleable__label-arrow\">passthrough</label><div class=\"sk-toggleable__content\"><pre>passthrough</pre></div></div></div></div></div></div></div></div><div class=\"sk-item sk-dashed-wrapped\"><div class=\"sk-label-container\"><div class=\"sk-label sk-toggleable\"><input class=\"sk-toggleable__control sk-hidden--visually\" id=\"sk-estimator-id-25\" type=\"checkbox\" ><label for=\"sk-estimator-id-25\" class=\"sk-toggleable__label sk-toggleable__label-arrow\">transformedtargetregressor: TransformedTargetRegressor</label><div class=\"sk-toggleable__content\"><pre>TransformedTargetRegressor(regressor=Ridge(alpha=1e-10))</pre></div></div></div><div class=\"sk-parallel\"><div class=\"sk-parallel-item\"><div class=\"sk-item\"><div class=\"sk-label-container\"><div class=\"sk-label sk-toggleable\"><input class=\"sk-toggleable__control sk-hidden--visually\" id=\"sk-estimator-id-26\" type=\"checkbox\" ><label for=\"sk-estimator-id-26\" class=\"sk-toggleable__label sk-toggleable__label-arrow\">regressor: Ridge</label><div class=\"sk-toggleable__content\"><pre>Ridge(alpha=1e-10)</pre></div></div></div><div class=\"sk-serial\"><div class=\"sk-item\"><div class=\"sk-estimator sk-toggleable\"><input class=\"sk-toggleable__control sk-hidden--visually\" id=\"sk-estimator-id-27\" type=\"checkbox\" ><label for=\"sk-estimator-id-27\" class=\"sk-toggleable__label sk-toggleable__label-arrow\">Ridge</label><div class=\"sk-toggleable__content\"><pre>Ridge(alpha=1e-10)</pre></div></div></div></div></div></div></div></div></div></div></div></div>"
            ]
          },
          "metadata": {},
          "execution_count": 60
        }
      ]
    },
    {
      "cell_type": "markdown",
      "source": [
        "## The performance\n",
        "\n",
        "This code provides an evaluation of the model's performance by calculating the MedAE on both the training and testing sets and displaying the results. The MedAE is a measure of the average absolute difference between the true and predicted target values, with a lower value indicating better predictive accuracy."
      ],
      "metadata": {
        "id": "mZe1lyvoCOb6"
      }
    },
    {
      "cell_type": "code",
      "source": [
        "from sklearn.metrics import median_absolute_error\n",
        "from sklearn.metrics import PredictionErrorDisplay\n",
        "\n",
        "\"\"\" The median_absolute_error function takes two arguments: the true target values and the predicted target values for \n",
        "each dataset (Train and Test).\n",
        "\"\"\"\n",
        "mae_train = median_absolute_error(y_train, model.predict(X_train))\n",
        "mae_test  = median_absolute_error(y_test,  model.predict(X_test))\n",
        "\n",
        "\n",
        "scores = {\n",
        "    \"MedAE on training set\": f\"{mae_train:.2f}\",\n",
        "    \"MedAE on testing set\": f\"{mae_test:.2f}\",\n",
        "}\n",
        "\n",
        "print(scores)"
      ],
      "metadata": {
        "colab": {
          "base_uri": "https://localhost:8080/"
        },
        "id": "j7mEoMcUCRtq",
        "outputId": "80ae2c29-fe74-42ac-e9aa-940c4bbce018"
      },
      "execution_count": 134,
      "outputs": [
        {
          "output_type": "stream",
          "name": "stdout",
          "text": [
            "{'MedAE on training set': '54.08', 'MedAE on testing set': '58.65'}\n"
          ]
        }
      ]
    },
    {
      "cell_type": "code",
      "source": [
        "import pandas as pd\n",
        "\n",
        "# Creating a DataFrame for the training set with a column 'Train' for differentiation\n",
        "train_df = pd.DataFrame(X_train, columns=X.columns)\n",
        "train_df['Target'] = y_train\n",
        "train_df['Data'] = 'Train'\n",
        "train_df['Prediction'] = model.predict(X_train)\n",
        "\n",
        "# Creating a DataFrame for the testing set with a column 'Test' for differentiation\n",
        "test_df = pd.DataFrame(X_test, columns=X.columns)\n",
        "test_df['Target'] = y_test\n",
        "test_df['Data'] = 'Test'\n",
        "test_df['Prediction'] = model.predict(X_test)\n",
        "\n",
        "\n",
        "# Concatenating the training and testing DataFrames\n",
        "combined_df = pd.concat([train_df, test_df], ignore_index=True)\n",
        "\n",
        "fig = px.scatter(\n",
        "    combined_df, x='Target', y='Prediction',\n",
        "    marginal_x='box', marginal_y='box',\n",
        "    color='Data', trendline='ols'\n",
        ")\n",
        "fig.update_traces(histnorm='probability', selector={'type':'histogram'})\n",
        "fig.add_shape(\n",
        "    type=\"line\", line=dict(dash='dash'),\n",
        "    x0=y.min(), y0=y.min(),\n",
        "    x1=y.max(), y1=y.max()\n",
        ")\n",
        "\n",
        "fig.show()"
      ],
      "metadata": {
        "colab": {
          "base_uri": "https://localhost:8080/",
          "height": 542
        },
        "id": "c88GduXkp91N",
        "outputId": "88b8113f-018a-48cb-8b13-9512fe03caef"
      },
      "execution_count": 65,
      "outputs": [
        {
          "output_type": "display_data",
          "data": {
            "text/html": [
              "<html>\n",
              "<head><meta charset=\"utf-8\" /></head>\n",
              "<body>\n",
              "    <div>            <script src=\"https://cdnjs.cloudflare.com/ajax/libs/mathjax/2.7.5/MathJax.js?config=TeX-AMS-MML_SVG\"></script><script type=\"text/javascript\">if (window.MathJax && window.MathJax.Hub && window.MathJax.Hub.Config) {window.MathJax.Hub.Config({SVG: {font: \"STIX-Web\"}});}</script>                <script type=\"text/javascript\">window.PlotlyConfig = {MathJaxConfig: 'local'};</script>\n",
              "        <script src=\"https://cdn.plot.ly/plotly-2.18.2.min.js\"></script>                <div id=\"4c7d8877-38d3-48a5-9706-5866911764bc\" class=\"plotly-graph-div\" style=\"height:525px; width:100%;\"></div>            <script type=\"text/javascript\">                                    window.PLOTLYENV=window.PLOTLYENV || {};                                    if (document.getElementById(\"4c7d8877-38d3-48a5-9706-5866911764bc\")) {                    Plotly.newPlot(                        \"4c7d8877-38d3-48a5-9706-5866911764bc\",                        [{\"hovertemplate\":\"Data=Train<br>Target=%{x}<br>Prediction=%{y}<extra></extra>\",\"legendgroup\":\"Train\",\"marker\":{\"color\":\"#636efa\",\"symbol\":\"circle\"},\"mode\":\"markers\",\"name\":\"Train\",\"orientation\":\"v\",\"showlegend\":true,\"x\":[720.0,500.0,7.5,110.0,140.0,69.0,110.0,620.0,130.0,85.0,685.0,500.0,514.0,200.0,1000.0,714.0,8.7,1000.0,110.0,430.0,456.0,925.0,950.0,250.0,170.0,475.0,145.0,300.0,242.0,650.0,120.0,145.0,125.0,850.0,0.0,840.0,725.0,680.0,690.0,80.0,120.0,1600.0,265.0,12.2,345.0,160.0,850.0,55.0,32.0,975.0,320.0,9.7,1100.0,60.0,19.7,145.0,197.0,272.0,450.0,700.0,820.0,161.0,40.0,85.0,100.0,950.0,140.0,390.0,150.0,273.0,900.0,556.0,130.0,115.0,1550.0,1650.0,135.0,450.0,700.0,340.0,800.0,540.0,363.0,700.0,87.0,5.9,770.0,500.0,430.0,90.0,390.0,300.0,200.0,12.2,540.0,169.0,130.0,685.0,306.0,9.8,300.0,78.0,9.8,290.0,290.0,300.0,260.0,180.0,900.0,120.0,40.0,1015.0,19.9,575.0,300.0,250.0,600.0,150.0,300.0],\"xaxis\":\"x\",\"y\":[681.2691367099144,707.4292311035065,-65.55395412881069,171.1200890969858,184.32722883221243,7.061099027150362,131.8527950902344,654.894369652673,135.7694127015086,68.40507487838192,716.5465070967603,490.5380178623659,532.7338103108916,267.2423972328106,1002.7717614579831,731.9342174410097,-29.996005779162374,978.8367505800372,100.46265946501694,446.62884593090075,577.908580753335,848.908859602936,973.8646647376067,356.469912806564,176.53892442384029,513.7027762346058,190.29586419544773,384.37251970917305,288.33341366635204,796.143833958685,103.01598503530863,125.54381782490509,132.35318875936855,726.1949067909818,72.70801717202335,654.7876308482828,704.7997322677209,703.9746647175109,721.6885297717522,35.14793308644221,48.166571155764586,1324.4874710923227,357.6782051039422,12.119485950457374,425.9399299847446,146.34772406891307,867.4431540914813,-75.18131633163239,-186.34402792899266,894.9933407674644,456.79854305520485,-45.231885999430006,932.1346176235108,-40.82434908237269,100.4195263229758,233.44794633073263,294.2326900862181,367.75910448650257,487.2373494811154,728.8939348455181,865.6460871808977,198.82514209613078,-165.20483890912624,61.307336832352576,4.688788718978003,881.0402511152315,149.72584066896547,471.1911974850327,154.48562116033236,353.94283570545554,869.478519507687,632.8159374063175,184.0763815180992,128.57525168458483,1324.4874710923227,1487.32165520205,165.61942772336806,462.2255898911103,659.5575076865891,548.9359593597003,720.7492483731007,615.675675234269,438.40671641320137,588.7098490741951,65.46730467672569,-404.7144910967025,830.0082540110243,476.6875201596299,402.1250085852171,51.638299433129646,533.1934466119533,375.82494963832414,199.93979250178643,39.06072920094289,517.5313557341749,253.53039800022498,163.34600917498915,605.1396437388805,407.71939589252315,-4.149127415260182,301.45921506376317,8.170486871087178,-37.87821532418525,329.150486451279,314.8178131219538,335.9203234678082,356.55987666056944,267.86017957338845,802.7730492873759,167.89284627174675,-140.91722029325774,860.9742596593528,140.7094471434558,631.1291702052752,387.2999947411256,367.4917485266376,542.9739849849143,175.02140381051424,341.81399267912775],\"yaxis\":\"y\",\"type\":\"scatter\"},{\"alignmentgroup\":\"True\",\"hovertemplate\":\"Data=Train<br>Target=%{x}<extra></extra>\",\"legendgroup\":\"Train\",\"marker\":{\"color\":\"#636efa\",\"symbol\":\"circle\"},\"name\":\"Train\",\"notched\":true,\"offsetgroup\":\"Train\",\"showlegend\":false,\"x\":[720.0,500.0,7.5,110.0,140.0,69.0,110.0,620.0,130.0,85.0,685.0,500.0,514.0,200.0,1000.0,714.0,8.7,1000.0,110.0,430.0,456.0,925.0,950.0,250.0,170.0,475.0,145.0,300.0,242.0,650.0,120.0,145.0,125.0,850.0,0.0,840.0,725.0,680.0,690.0,80.0,120.0,1600.0,265.0,12.2,345.0,160.0,850.0,55.0,32.0,975.0,320.0,9.7,1100.0,60.0,19.7,145.0,197.0,272.0,450.0,700.0,820.0,161.0,40.0,85.0,100.0,950.0,140.0,390.0,150.0,273.0,900.0,556.0,130.0,115.0,1550.0,1650.0,135.0,450.0,700.0,340.0,800.0,540.0,363.0,700.0,87.0,5.9,770.0,500.0,430.0,90.0,390.0,300.0,200.0,12.2,540.0,169.0,130.0,685.0,306.0,9.8,300.0,78.0,9.8,290.0,290.0,300.0,260.0,180.0,900.0,120.0,40.0,1015.0,19.9,575.0,300.0,250.0,600.0,150.0,300.0],\"xaxis\":\"x3\",\"yaxis\":\"y3\",\"type\":\"box\"},{\"alignmentgroup\":\"True\",\"hovertemplate\":\"Data=Train<br>Prediction=%{y}<extra></extra>\",\"legendgroup\":\"Train\",\"marker\":{\"color\":\"#636efa\",\"symbol\":\"circle\"},\"name\":\"Train\",\"notched\":true,\"offsetgroup\":\"Train\",\"showlegend\":false,\"xaxis\":\"x2\",\"y\":[681.2691367099144,707.4292311035065,-65.55395412881069,171.1200890969858,184.32722883221243,7.061099027150362,131.8527950902344,654.894369652673,135.7694127015086,68.40507487838192,716.5465070967603,490.5380178623659,532.7338103108916,267.2423972328106,1002.7717614579831,731.9342174410097,-29.996005779162374,978.8367505800372,100.46265946501694,446.62884593090075,577.908580753335,848.908859602936,973.8646647376067,356.469912806564,176.53892442384029,513.7027762346058,190.29586419544773,384.37251970917305,288.33341366635204,796.143833958685,103.01598503530863,125.54381782490509,132.35318875936855,726.1949067909818,72.70801717202335,654.7876308482828,704.7997322677209,703.9746647175109,721.6885297717522,35.14793308644221,48.166571155764586,1324.4874710923227,357.6782051039422,12.119485950457374,425.9399299847446,146.34772406891307,867.4431540914813,-75.18131633163239,-186.34402792899266,894.9933407674644,456.79854305520485,-45.231885999430006,932.1346176235108,-40.82434908237269,100.4195263229758,233.44794633073263,294.2326900862181,367.75910448650257,487.2373494811154,728.8939348455181,865.6460871808977,198.82514209613078,-165.20483890912624,61.307336832352576,4.688788718978003,881.0402511152315,149.72584066896547,471.1911974850327,154.48562116033236,353.94283570545554,869.478519507687,632.8159374063175,184.0763815180992,128.57525168458483,1324.4874710923227,1487.32165520205,165.61942772336806,462.2255898911103,659.5575076865891,548.9359593597003,720.7492483731007,615.675675234269,438.40671641320137,588.7098490741951,65.46730467672569,-404.7144910967025,830.0082540110243,476.6875201596299,402.1250085852171,51.638299433129646,533.1934466119533,375.82494963832414,199.93979250178643,39.06072920094289,517.5313557341749,253.53039800022498,163.34600917498915,605.1396437388805,407.71939589252315,-4.149127415260182,301.45921506376317,8.170486871087178,-37.87821532418525,329.150486451279,314.8178131219538,335.9203234678082,356.55987666056944,267.86017957338845,802.7730492873759,167.89284627174675,-140.91722029325774,860.9742596593528,140.7094471434558,631.1291702052752,387.2999947411256,367.4917485266376,542.9739849849143,175.02140381051424,341.81399267912775],\"yaxis\":\"y2\",\"type\":\"box\"},{\"hovertemplate\":\"<b>OLS trendline</b><br>Prediction = 0.929084 * Target + 27.8892<br>R<sup>2</sup>=0.929084<br><br>Data=Train<br>Target=%{x}<br>Prediction=%{y} <b>(trend)</b><extra></extra>\",\"legendgroup\":\"Train\",\"marker\":{\"color\":\"#636efa\",\"symbol\":\"circle\"},\"mode\":\"lines\",\"name\":\"Train\",\"showlegend\":false,\"x\":[0.0,5.9,7.5,8.7,9.7,9.8,9.8,12.2,12.2,19.7,19.9,32.0,40.0,40.0,55.0,60.0,69.0,78.0,80.0,85.0,85.0,87.0,90.0,100.0,110.0,110.0,110.0,115.0,120.0,120.0,120.0,125.0,130.0,130.0,130.0,135.0,140.0,140.0,145.0,145.0,145.0,150.0,150.0,160.0,161.0,169.0,170.0,180.0,197.0,200.0,200.0,242.0,250.0,250.0,260.0,265.0,272.0,273.0,290.0,290.0,300.0,300.0,300.0,300.0,300.0,300.0,306.0,320.0,340.0,345.0,363.0,390.0,390.0,430.0,430.0,450.0,450.0,456.0,475.0,500.0,500.0,500.0,514.0,540.0,540.0,556.0,575.0,600.0,620.0,650.0,680.0,685.0,685.0,690.0,700.0,700.0,700.0,714.0,720.0,725.0,770.0,800.0,820.0,840.0,850.0,850.0,900.0,900.0,925.0,950.0,950.0,975.0,1000.0,1000.0,1015.0,1100.0,1550.0,1600.0,1650.0],\"xaxis\":\"x\",\"y\":[27.889177168707604,33.370774554782,34.85730943914116,35.972210602410534,36.901294905135,36.994203335407455,36.994203335407455,39.224005661946194,39.224005661946194,46.19213793237975,46.37795479292465,57.61987485589079,65.05254927768658,65.05254927768658,78.98881381855371,83.63423533217608,91.99599405669635,100.35775278121662,102.21592138666557,106.86134290028795,106.86134290028795,108.71951150573689,111.50676441391032,120.79760744115507,130.0884504683998,130.0884504683998,130.0884504683998,134.73387198202218,139.37929349564456,139.37929349564456,139.37929349564456,144.0247150092669,148.67013652288932,148.67013652288932,148.67013652288932,153.31555803651167,157.96097955013403,157.96097955013403,162.60640106375644,162.60640106375644,162.60640106375644,167.2518225773788,167.2518225773788,176.54266560462355,177.471749907348,184.9044243291438,185.8335086318683,195.12435165911302,210.91878480542908,213.70603771360254,213.70603771360254,252.72757842803048,260.16025284982624,260.16025284982624,269.451095877071,274.0965173906934,280.6001075097647,281.52919181248916,297.3236249588052,297.3236249588052,306.61446798605,306.61446798605,306.61446798605,306.61446798605,306.61446798605,306.61446798605,312.18897380239684,325.19615404053945,343.777840095029,348.42326160865133,365.1467790576919,390.2320552312527,390.2320552312527,427.39542734023166,427.39542734023166,445.9771133947212,445.9771133947212,451.55161921106804,469.20422096283306,492.4313285309449,492.4313285309449,492.4313285309449,505.43850876908755,529.5947006399239,529.5947006399239,544.4600494835155,562.1126512352805,585.3397588033924,603.921444857882,631.7939739396162,659.6665030213504,664.3119245349727,664.3119245349727,668.9573460485951,678.2481890758398,678.2481890758398,678.2481890758398,691.2553693139826,696.8298751303294,701.4752966439518,743.2840902665531,771.1566193482873,789.7383054027769,808.3199914572664,817.6108344845111,817.6108344845111,864.0650496207348,864.0650496207348,887.2921571888467,910.5192647569586,910.5192647569586,933.7463723250704,956.9734798931822,956.9734798931822,970.9097444340493,1049.8819101656297,1467.9698463916434,1514.424061527867,1560.8782766640907],\"yaxis\":\"y\",\"type\":\"scatter\"},{\"hovertemplate\":\"Data=Test<br>Target=%{x}<br>Prediction=%{y}<extra></extra>\",\"legendgroup\":\"Test\",\"marker\":{\"color\":\"#EF553B\",\"symbol\":\"circle\"},\"mode\":\"markers\",\"name\":\"Test\",\"orientation\":\"v\",\"showlegend\":true,\"x\":[78.0,13.4,200.0,270.0,150.0,1000.0,7.0,180.0,188.0,1250.0,650.0,1000.0,600.0,150.0,700.0,920.0,1000.0,218.0,225.0,700.0,10.0,610.0,500.0,500.0,955.0,1100.0,170.0,270.0,6.7,9.9,510.0,70.0,51.5,567.0,340.0,120.0,160.0,120.0,145.0,820.0],\"xaxis\":\"x\",\"y\":[19.618155523796645,12.148776701875022,196.2643847156221,335.03993935810536,208.08532890834647,764.4858884612834,-62.946657899368915,256.88665224592023,256.1602427104003,1165.2635060589614,596.6563719168992,852.9872625929008,540.1156784085263,145.71165397075038,683.8919125032785,825.5657399070794,1010.7577194088069,281.6492168717484,224.11341254981664,583.3229682986896,-14.44962427606879,586.4786659742301,509.45602023184324,484.73405566180463,821.7821997619646,962.8150869253761,216.13776504868883,358.41444354157716,-92.02809998269254,-14.974036841321436,582.9174503464048,-22.47026241204776,-104.66428793420232,711.2534471404408,350.0423973069969,162.82337578722672,191.7553276161932,113.77357906500231,203.91595124588173,779.4100646748766],\"yaxis\":\"y\",\"type\":\"scatter\"},{\"alignmentgroup\":\"True\",\"hovertemplate\":\"Data=Test<br>Target=%{x}<extra></extra>\",\"legendgroup\":\"Test\",\"marker\":{\"color\":\"#EF553B\",\"symbol\":\"circle\"},\"name\":\"Test\",\"notched\":true,\"offsetgroup\":\"Test\",\"showlegend\":false,\"x\":[78.0,13.4,200.0,270.0,150.0,1000.0,7.0,180.0,188.0,1250.0,650.0,1000.0,600.0,150.0,700.0,920.0,1000.0,218.0,225.0,700.0,10.0,610.0,500.0,500.0,955.0,1100.0,170.0,270.0,6.7,9.9,510.0,70.0,51.5,567.0,340.0,120.0,160.0,120.0,145.0,820.0],\"xaxis\":\"x3\",\"yaxis\":\"y3\",\"type\":\"box\"},{\"alignmentgroup\":\"True\",\"hovertemplate\":\"Data=Test<br>Prediction=%{y}<extra></extra>\",\"legendgroup\":\"Test\",\"marker\":{\"color\":\"#EF553B\",\"symbol\":\"circle\"},\"name\":\"Test\",\"notched\":true,\"offsetgroup\":\"Test\",\"showlegend\":false,\"xaxis\":\"x2\",\"y\":[19.618155523796645,12.148776701875022,196.2643847156221,335.03993935810536,208.08532890834647,764.4858884612834,-62.946657899368915,256.88665224592023,256.1602427104003,1165.2635060589614,596.6563719168992,852.9872625929008,540.1156784085263,145.71165397075038,683.8919125032785,825.5657399070794,1010.7577194088069,281.6492168717484,224.11341254981664,583.3229682986896,-14.44962427606879,586.4786659742301,509.45602023184324,484.73405566180463,821.7821997619646,962.8150869253761,216.13776504868883,358.41444354157716,-92.02809998269254,-14.974036841321436,582.9174503464048,-22.47026241204776,-104.66428793420232,711.2534471404408,350.0423973069969,162.82337578722672,191.7553276161932,113.77357906500231,203.91595124588173,779.4100646748766],\"yaxis\":\"y2\",\"type\":\"box\"},{\"hovertemplate\":\"<b>OLS trendline</b><br>Prediction = 0.906403 * Target + 17.3997<br>R<sup>2</sup>=0.954163<br><br>Data=Test<br>Target=%{x}<br>Prediction=%{y} <b>(trend)</b><extra></extra>\",\"legendgroup\":\"Test\",\"marker\":{\"color\":\"#EF553B\",\"symbol\":\"circle\"},\"mode\":\"lines\",\"name\":\"Test\",\"showlegend\":false,\"x\":[6.7,7.0,9.9,10.0,13.4,51.5,70.0,78.0,120.0,120.0,145.0,150.0,150.0,160.0,170.0,180.0,188.0,200.0,218.0,225.0,270.0,270.0,340.0,500.0,500.0,510.0,567.0,600.0,610.0,650.0,700.0,700.0,820.0,920.0,955.0,1000.0,1000.0,1000.0,1100.0,1250.0],\"xaxis\":\"x\",\"y\":[23.472616191472188,23.74453695545528,26.373104340625204,26.463744595286236,29.545513253761314,64.0794502796144,80.84789739190526,88.09911776478782,126.16802472242114,126.16802472242114,148.82808838767906,153.36010112073066,153.36010112073066,162.42412658683384,171.488152052937,180.55217751904019,187.8033978919227,198.68022845124653,214.99547429023224,221.34029211650446,262.12840671396873,262.12840671396873,325.5765849766909,470.60099243434166,470.60099243434166,479.66501790044487,531.3299630572329,561.2412470953734,570.3052725614766,606.5613744258893,651.8815017564051,651.8815017564051,760.6498073496432,851.2900620106749,883.014151142036,923.8022657395003,923.8022657395003,923.8022657395003,1014.4425204005321,1150.4029023920796],\"yaxis\":\"y\",\"type\":\"scatter\"}],                        {\"template\":{\"data\":{\"histogram2dcontour\":[{\"type\":\"histogram2dcontour\",\"colorbar\":{\"outlinewidth\":0,\"ticks\":\"\"},\"colorscale\":[[0.0,\"#0d0887\"],[0.1111111111111111,\"#46039f\"],[0.2222222222222222,\"#7201a8\"],[0.3333333333333333,\"#9c179e\"],[0.4444444444444444,\"#bd3786\"],[0.5555555555555556,\"#d8576b\"],[0.6666666666666666,\"#ed7953\"],[0.7777777777777778,\"#fb9f3a\"],[0.8888888888888888,\"#fdca26\"],[1.0,\"#f0f921\"]]}],\"choropleth\":[{\"type\":\"choropleth\",\"colorbar\":{\"outlinewidth\":0,\"ticks\":\"\"}}],\"histogram2d\":[{\"type\":\"histogram2d\",\"colorbar\":{\"outlinewidth\":0,\"ticks\":\"\"},\"colorscale\":[[0.0,\"#0d0887\"],[0.1111111111111111,\"#46039f\"],[0.2222222222222222,\"#7201a8\"],[0.3333333333333333,\"#9c179e\"],[0.4444444444444444,\"#bd3786\"],[0.5555555555555556,\"#d8576b\"],[0.6666666666666666,\"#ed7953\"],[0.7777777777777778,\"#fb9f3a\"],[0.8888888888888888,\"#fdca26\"],[1.0,\"#f0f921\"]]}],\"heatmap\":[{\"type\":\"heatmap\",\"colorbar\":{\"outlinewidth\":0,\"ticks\":\"\"},\"colorscale\":[[0.0,\"#0d0887\"],[0.1111111111111111,\"#46039f\"],[0.2222222222222222,\"#7201a8\"],[0.3333333333333333,\"#9c179e\"],[0.4444444444444444,\"#bd3786\"],[0.5555555555555556,\"#d8576b\"],[0.6666666666666666,\"#ed7953\"],[0.7777777777777778,\"#fb9f3a\"],[0.8888888888888888,\"#fdca26\"],[1.0,\"#f0f921\"]]}],\"heatmapgl\":[{\"type\":\"heatmapgl\",\"colorbar\":{\"outlinewidth\":0,\"ticks\":\"\"},\"colorscale\":[[0.0,\"#0d0887\"],[0.1111111111111111,\"#46039f\"],[0.2222222222222222,\"#7201a8\"],[0.3333333333333333,\"#9c179e\"],[0.4444444444444444,\"#bd3786\"],[0.5555555555555556,\"#d8576b\"],[0.6666666666666666,\"#ed7953\"],[0.7777777777777778,\"#fb9f3a\"],[0.8888888888888888,\"#fdca26\"],[1.0,\"#f0f921\"]]}],\"contourcarpet\":[{\"type\":\"contourcarpet\",\"colorbar\":{\"outlinewidth\":0,\"ticks\":\"\"}}],\"contour\":[{\"type\":\"contour\",\"colorbar\":{\"outlinewidth\":0,\"ticks\":\"\"},\"colorscale\":[[0.0,\"#0d0887\"],[0.1111111111111111,\"#46039f\"],[0.2222222222222222,\"#7201a8\"],[0.3333333333333333,\"#9c179e\"],[0.4444444444444444,\"#bd3786\"],[0.5555555555555556,\"#d8576b\"],[0.6666666666666666,\"#ed7953\"],[0.7777777777777778,\"#fb9f3a\"],[0.8888888888888888,\"#fdca26\"],[1.0,\"#f0f921\"]]}],\"surface\":[{\"type\":\"surface\",\"colorbar\":{\"outlinewidth\":0,\"ticks\":\"\"},\"colorscale\":[[0.0,\"#0d0887\"],[0.1111111111111111,\"#46039f\"],[0.2222222222222222,\"#7201a8\"],[0.3333333333333333,\"#9c179e\"],[0.4444444444444444,\"#bd3786\"],[0.5555555555555556,\"#d8576b\"],[0.6666666666666666,\"#ed7953\"],[0.7777777777777778,\"#fb9f3a\"],[0.8888888888888888,\"#fdca26\"],[1.0,\"#f0f921\"]]}],\"mesh3d\":[{\"type\":\"mesh3d\",\"colorbar\":{\"outlinewidth\":0,\"ticks\":\"\"}}],\"scatter\":[{\"fillpattern\":{\"fillmode\":\"overlay\",\"size\":10,\"solidity\":0.2},\"type\":\"scatter\"}],\"parcoords\":[{\"type\":\"parcoords\",\"line\":{\"colorbar\":{\"outlinewidth\":0,\"ticks\":\"\"}}}],\"scatterpolargl\":[{\"type\":\"scatterpolargl\",\"marker\":{\"colorbar\":{\"outlinewidth\":0,\"ticks\":\"\"}}}],\"bar\":[{\"error_x\":{\"color\":\"#2a3f5f\"},\"error_y\":{\"color\":\"#2a3f5f\"},\"marker\":{\"line\":{\"color\":\"#E5ECF6\",\"width\":0.5},\"pattern\":{\"fillmode\":\"overlay\",\"size\":10,\"solidity\":0.2}},\"type\":\"bar\"}],\"scattergeo\":[{\"type\":\"scattergeo\",\"marker\":{\"colorbar\":{\"outlinewidth\":0,\"ticks\":\"\"}}}],\"scatterpolar\":[{\"type\":\"scatterpolar\",\"marker\":{\"colorbar\":{\"outlinewidth\":0,\"ticks\":\"\"}}}],\"histogram\":[{\"marker\":{\"pattern\":{\"fillmode\":\"overlay\",\"size\":10,\"solidity\":0.2}},\"type\":\"histogram\"}],\"scattergl\":[{\"type\":\"scattergl\",\"marker\":{\"colorbar\":{\"outlinewidth\":0,\"ticks\":\"\"}}}],\"scatter3d\":[{\"type\":\"scatter3d\",\"line\":{\"colorbar\":{\"outlinewidth\":0,\"ticks\":\"\"}},\"marker\":{\"colorbar\":{\"outlinewidth\":0,\"ticks\":\"\"}}}],\"scattermapbox\":[{\"type\":\"scattermapbox\",\"marker\":{\"colorbar\":{\"outlinewidth\":0,\"ticks\":\"\"}}}],\"scatterternary\":[{\"type\":\"scatterternary\",\"marker\":{\"colorbar\":{\"outlinewidth\":0,\"ticks\":\"\"}}}],\"scattercarpet\":[{\"type\":\"scattercarpet\",\"marker\":{\"colorbar\":{\"outlinewidth\":0,\"ticks\":\"\"}}}],\"carpet\":[{\"aaxis\":{\"endlinecolor\":\"#2a3f5f\",\"gridcolor\":\"white\",\"linecolor\":\"white\",\"minorgridcolor\":\"white\",\"startlinecolor\":\"#2a3f5f\"},\"baxis\":{\"endlinecolor\":\"#2a3f5f\",\"gridcolor\":\"white\",\"linecolor\":\"white\",\"minorgridcolor\":\"white\",\"startlinecolor\":\"#2a3f5f\"},\"type\":\"carpet\"}],\"table\":[{\"cells\":{\"fill\":{\"color\":\"#EBF0F8\"},\"line\":{\"color\":\"white\"}},\"header\":{\"fill\":{\"color\":\"#C8D4E3\"},\"line\":{\"color\":\"white\"}},\"type\":\"table\"}],\"barpolar\":[{\"marker\":{\"line\":{\"color\":\"#E5ECF6\",\"width\":0.5},\"pattern\":{\"fillmode\":\"overlay\",\"size\":10,\"solidity\":0.2}},\"type\":\"barpolar\"}],\"pie\":[{\"automargin\":true,\"type\":\"pie\"}]},\"layout\":{\"autotypenumbers\":\"strict\",\"colorway\":[\"#636efa\",\"#EF553B\",\"#00cc96\",\"#ab63fa\",\"#FFA15A\",\"#19d3f3\",\"#FF6692\",\"#B6E880\",\"#FF97FF\",\"#FECB52\"],\"font\":{\"color\":\"#2a3f5f\"},\"hovermode\":\"closest\",\"hoverlabel\":{\"align\":\"left\"},\"paper_bgcolor\":\"white\",\"plot_bgcolor\":\"#E5ECF6\",\"polar\":{\"bgcolor\":\"#E5ECF6\",\"angularaxis\":{\"gridcolor\":\"white\",\"linecolor\":\"white\",\"ticks\":\"\"},\"radialaxis\":{\"gridcolor\":\"white\",\"linecolor\":\"white\",\"ticks\":\"\"}},\"ternary\":{\"bgcolor\":\"#E5ECF6\",\"aaxis\":{\"gridcolor\":\"white\",\"linecolor\":\"white\",\"ticks\":\"\"},\"baxis\":{\"gridcolor\":\"white\",\"linecolor\":\"white\",\"ticks\":\"\"},\"caxis\":{\"gridcolor\":\"white\",\"linecolor\":\"white\",\"ticks\":\"\"}},\"coloraxis\":{\"colorbar\":{\"outlinewidth\":0,\"ticks\":\"\"}},\"colorscale\":{\"sequential\":[[0.0,\"#0d0887\"],[0.1111111111111111,\"#46039f\"],[0.2222222222222222,\"#7201a8\"],[0.3333333333333333,\"#9c179e\"],[0.4444444444444444,\"#bd3786\"],[0.5555555555555556,\"#d8576b\"],[0.6666666666666666,\"#ed7953\"],[0.7777777777777778,\"#fb9f3a\"],[0.8888888888888888,\"#fdca26\"],[1.0,\"#f0f921\"]],\"sequentialminus\":[[0.0,\"#0d0887\"],[0.1111111111111111,\"#46039f\"],[0.2222222222222222,\"#7201a8\"],[0.3333333333333333,\"#9c179e\"],[0.4444444444444444,\"#bd3786\"],[0.5555555555555556,\"#d8576b\"],[0.6666666666666666,\"#ed7953\"],[0.7777777777777778,\"#fb9f3a\"],[0.8888888888888888,\"#fdca26\"],[1.0,\"#f0f921\"]],\"diverging\":[[0,\"#8e0152\"],[0.1,\"#c51b7d\"],[0.2,\"#de77ae\"],[0.3,\"#f1b6da\"],[0.4,\"#fde0ef\"],[0.5,\"#f7f7f7\"],[0.6,\"#e6f5d0\"],[0.7,\"#b8e186\"],[0.8,\"#7fbc41\"],[0.9,\"#4d9221\"],[1,\"#276419\"]]},\"xaxis\":{\"gridcolor\":\"white\",\"linecolor\":\"white\",\"ticks\":\"\",\"title\":{\"standoff\":15},\"zerolinecolor\":\"white\",\"automargin\":true,\"zerolinewidth\":2},\"yaxis\":{\"gridcolor\":\"white\",\"linecolor\":\"white\",\"ticks\":\"\",\"title\":{\"standoff\":15},\"zerolinecolor\":\"white\",\"automargin\":true,\"zerolinewidth\":2},\"scene\":{\"xaxis\":{\"backgroundcolor\":\"#E5ECF6\",\"gridcolor\":\"white\",\"linecolor\":\"white\",\"showbackground\":true,\"ticks\":\"\",\"zerolinecolor\":\"white\",\"gridwidth\":2},\"yaxis\":{\"backgroundcolor\":\"#E5ECF6\",\"gridcolor\":\"white\",\"linecolor\":\"white\",\"showbackground\":true,\"ticks\":\"\",\"zerolinecolor\":\"white\",\"gridwidth\":2},\"zaxis\":{\"backgroundcolor\":\"#E5ECF6\",\"gridcolor\":\"white\",\"linecolor\":\"white\",\"showbackground\":true,\"ticks\":\"\",\"zerolinecolor\":\"white\",\"gridwidth\":2}},\"shapedefaults\":{\"line\":{\"color\":\"#2a3f5f\"}},\"annotationdefaults\":{\"arrowcolor\":\"#2a3f5f\",\"arrowhead\":0,\"arrowwidth\":1},\"geo\":{\"bgcolor\":\"white\",\"landcolor\":\"#E5ECF6\",\"subunitcolor\":\"white\",\"showland\":true,\"showlakes\":true,\"lakecolor\":\"white\"},\"title\":{\"x\":0.05},\"mapbox\":{\"style\":\"light\"}}},\"xaxis\":{\"anchor\":\"y\",\"domain\":[0.0,0.7363],\"title\":{\"text\":\"Target\"}},\"yaxis\":{\"anchor\":\"x\",\"domain\":[0.0,0.7326],\"title\":{\"text\":\"Prediction\"}},\"xaxis2\":{\"anchor\":\"y2\",\"domain\":[0.7413,1.0],\"matches\":\"x2\",\"showticklabels\":false,\"showline\":false,\"ticks\":\"\",\"showgrid\":false},\"yaxis2\":{\"anchor\":\"x2\",\"domain\":[0.0,0.7326],\"matches\":\"y\",\"showticklabels\":false,\"showgrid\":true},\"xaxis3\":{\"anchor\":\"y3\",\"domain\":[0.0,0.7363],\"matches\":\"x\",\"showticklabels\":false,\"showgrid\":true},\"yaxis3\":{\"anchor\":\"x3\",\"domain\":[0.7426,1.0],\"matches\":\"y3\",\"showticklabels\":false,\"showline\":false,\"ticks\":\"\",\"showgrid\":false},\"xaxis4\":{\"anchor\":\"y4\",\"domain\":[0.7413,1.0],\"matches\":\"x2\",\"showticklabels\":false,\"showgrid\":false,\"showline\":false,\"ticks\":\"\"},\"yaxis4\":{\"anchor\":\"x4\",\"domain\":[0.7426,1.0],\"matches\":\"y3\",\"showticklabels\":false,\"showline\":false,\"ticks\":\"\",\"showgrid\":true},\"legend\":{\"title\":{\"text\":\"Data\"},\"tracegroupgap\":0},\"margin\":{\"t\":60},\"shapes\":[{\"line\":{\"dash\":\"dash\"},\"type\":\"line\",\"x0\":0.0,\"x1\":1650.0,\"y0\":0.0,\"y1\":1650.0}]},                        {\"responsive\": true}                    ).then(function(){\n",
              "                            \n",
              "var gd = document.getElementById('4c7d8877-38d3-48a5-9706-5866911764bc');\n",
              "var x = new MutationObserver(function (mutations, observer) {{\n",
              "        var display = window.getComputedStyle(gd).display;\n",
              "        if (!display || display === 'none') {{\n",
              "            console.log([gd, 'removed!']);\n",
              "            Plotly.purge(gd);\n",
              "            observer.disconnect();\n",
              "        }}\n",
              "}});\n",
              "\n",
              "// Listen for the removal of the full notebook cells\n",
              "var notebookContainer = gd.closest('#notebook-container');\n",
              "if (notebookContainer) {{\n",
              "    x.observe(notebookContainer, {childList: true});\n",
              "}}\n",
              "\n",
              "// Listen for the clearing of the current output cell\n",
              "var outputEl = gd.closest('.output');\n",
              "if (outputEl) {{\n",
              "    x.observe(outputEl, {childList: true});\n",
              "}}\n",
              "\n",
              "                        })                };                            </script>        </div>\n",
              "</body>\n",
              "</html>"
            ]
          },
          "metadata": {}
        }
      ]
    },
    {
      "cell_type": "markdown",
      "source": [
        "By visualizing the target variable and the predicted values in a scatter plot, this code helps assess the performance of the machine learning model. It allows users to evaluate how well the predictions align with the actual values and identify any patterns or discrepancies. The inclusion of marginal box plots and a trendline provides additional insights into the distribution and trend of the data. Overall, this visualization aids in understanding the model's performance and identifying potential areas of improvement."
      ],
      "metadata": {
        "id": "O3qAUrCr2NRp"
      }
    },
    {
      "cell_type": "markdown",
      "source": [
        "## Coefficients: scale matters"
      ],
      "metadata": {
        "id": "O10iMRhJ33m9"
      }
    },
    {
      "cell_type": "code",
      "source": [
        "\"\"\" This line retrieves the names of the features from the model object. Since the model is a pipeline, model[:-1] \n",
        "refers to all the steps in the pipeline except for the last step. The get_feature_names_out() method is then called on \n",
        "the extracted pipeline to obtain the names of the transformed features.\n",
        "\"\"\"\n",
        "\n",
        "feature_names = model[:-1].get_feature_names_out()\n",
        "\n",
        "\"\"\" This code creates a DataFrame called coefs to store the coefficients of the features. It uses the regressor_ \n",
        "attribute of the last step in the pipeline (model[-1]) to access the underlying linear regression model. \n",
        "The coef_ attribute retrieves the coefficients of the linear regression model. These coefficients are then passed as \n",
        "data to the DataFrame along with the column name \"Coefficients\" and the index set to the feature names obtained \n",
        "earlier.\n",
        "\"\"\"\n",
        "\n",
        "coefs = pd.DataFrame(\n",
        "    model[-1].regressor_.coef_,\n",
        "    columns=[\"Coefficients\"],\n",
        "    index=feature_names,\n",
        ")\n",
        "\n",
        "print(coefs.head(10))\n",
        "\n",
        "colors = ['Positive' if c > 0 else 'Negative' for c in coefs['Coefficients']]\n",
        "\n",
        "fig = px.bar(\n",
        "    x=coefs.index, y=coefs['Coefficients'], color=colors,\n",
        "    color_discrete_sequence=['red', 'blue'],\n",
        "    labels=dict(x='Feature', y='Linear coefficient'),\n",
        "    title='Weight of each feature for predicting'\n",
        ")\n",
        "fig.show()"
      ],
      "metadata": {
        "colab": {
          "base_uri": "https://localhost:8080/",
          "height": 738
        },
        "id": "8Z1LH0Zc2PoS",
        "outputId": "2ca3dbf3-240c-42f9-8f8f-f13d62032b57"
      },
      "execution_count": 133,
      "outputs": [
        {
          "output_type": "stream",
          "name": "stdout",
          "text": [
            "                   Coefficients\n",
            "Species_Bream        -40.050592\n",
            "Species_Parkki       101.206854\n",
            "Species_Perch         21.166574\n",
            "Species_Pike        -371.318421\n",
            "Species_Roach         -3.072985\n",
            "Species_Smelt        290.096116\n",
            "Species_Whitefish      2.008720\n",
            "Length1              -69.420081\n",
            "Length2               72.442845\n",
            "Length3               32.642834\n"
          ]
        },
        {
          "output_type": "display_data",
          "data": {
            "text/html": [
              "<html>\n",
              "<head><meta charset=\"utf-8\" /></head>\n",
              "<body>\n",
              "    <div>            <script src=\"https://cdnjs.cloudflare.com/ajax/libs/mathjax/2.7.5/MathJax.js?config=TeX-AMS-MML_SVG\"></script><script type=\"text/javascript\">if (window.MathJax && window.MathJax.Hub && window.MathJax.Hub.Config) {window.MathJax.Hub.Config({SVG: {font: \"STIX-Web\"}});}</script>                <script type=\"text/javascript\">window.PlotlyConfig = {MathJaxConfig: 'local'};</script>\n",
              "        <script src=\"https://cdn.plot.ly/plotly-2.18.2.min.js\"></script>                <div id=\"7c17eab8-1ef4-4578-be53-30b605288af3\" class=\"plotly-graph-div\" style=\"height:525px; width:100%;\"></div>            <script type=\"text/javascript\">                                    window.PLOTLYENV=window.PLOTLYENV || {};                                    if (document.getElementById(\"7c17eab8-1ef4-4578-be53-30b605288af3\")) {                    Plotly.newPlot(                        \"7c17eab8-1ef4-4578-be53-30b605288af3\",                        [{\"alignmentgroup\":\"True\",\"hovertemplate\":\"color=Negative<br>Feature=%{x}<br>Linear coefficient=%{y}<extra></extra>\",\"legendgroup\":\"Negative\",\"marker\":{\"color\":\"red\",\"pattern\":{\"shape\":\"\"}},\"name\":\"Negative\",\"offsetgroup\":\"Negative\",\"orientation\":\"v\",\"showlegend\":true,\"textposition\":\"auto\",\"x\":[\"Species_Bream\",\"Species_Pike\",\"Species_Roach\",\"Length1\",\"Height\"],\"xaxis\":\"x\",\"y\":[-40.050592381212766,-371.31842055918764,-3.0729850893174184,-69.42008092099972,-9.674121482462798],\"yaxis\":\"y\",\"type\":\"bar\"},{\"alignmentgroup\":\"True\",\"hovertemplate\":\"color=Positive<br>Feature=%{x}<br>Linear coefficient=%{y}<extra></extra>\",\"legendgroup\":\"Positive\",\"marker\":{\"color\":\"blue\",\"pattern\":{\"shape\":\"\"}},\"name\":\"Positive\",\"offsetgroup\":\"Positive\",\"orientation\":\"v\",\"showlegend\":true,\"textposition\":\"auto\",\"x\":[\"Species_Parkki\",\"Species_Perch\",\"Species_Smelt\",\"Species_Whitefish\",\"Length2\",\"Length3\",\"Width\"],\"xaxis\":\"x\",\"y\":[101.20685443409121,21.166574096660852,290.09611643081877,2.0087195910385076,72.44284475631254,32.642834280139375,4.447943725637839],\"yaxis\":\"y\",\"type\":\"bar\"}],                        {\"template\":{\"data\":{\"histogram2dcontour\":[{\"type\":\"histogram2dcontour\",\"colorbar\":{\"outlinewidth\":0,\"ticks\":\"\"},\"colorscale\":[[0.0,\"#0d0887\"],[0.1111111111111111,\"#46039f\"],[0.2222222222222222,\"#7201a8\"],[0.3333333333333333,\"#9c179e\"],[0.4444444444444444,\"#bd3786\"],[0.5555555555555556,\"#d8576b\"],[0.6666666666666666,\"#ed7953\"],[0.7777777777777778,\"#fb9f3a\"],[0.8888888888888888,\"#fdca26\"],[1.0,\"#f0f921\"]]}],\"choropleth\":[{\"type\":\"choropleth\",\"colorbar\":{\"outlinewidth\":0,\"ticks\":\"\"}}],\"histogram2d\":[{\"type\":\"histogram2d\",\"colorbar\":{\"outlinewidth\":0,\"ticks\":\"\"},\"colorscale\":[[0.0,\"#0d0887\"],[0.1111111111111111,\"#46039f\"],[0.2222222222222222,\"#7201a8\"],[0.3333333333333333,\"#9c179e\"],[0.4444444444444444,\"#bd3786\"],[0.5555555555555556,\"#d8576b\"],[0.6666666666666666,\"#ed7953\"],[0.7777777777777778,\"#fb9f3a\"],[0.8888888888888888,\"#fdca26\"],[1.0,\"#f0f921\"]]}],\"heatmap\":[{\"type\":\"heatmap\",\"colorbar\":{\"outlinewidth\":0,\"ticks\":\"\"},\"colorscale\":[[0.0,\"#0d0887\"],[0.1111111111111111,\"#46039f\"],[0.2222222222222222,\"#7201a8\"],[0.3333333333333333,\"#9c179e\"],[0.4444444444444444,\"#bd3786\"],[0.5555555555555556,\"#d8576b\"],[0.6666666666666666,\"#ed7953\"],[0.7777777777777778,\"#fb9f3a\"],[0.8888888888888888,\"#fdca26\"],[1.0,\"#f0f921\"]]}],\"heatmapgl\":[{\"type\":\"heatmapgl\",\"colorbar\":{\"outlinewidth\":0,\"ticks\":\"\"},\"colorscale\":[[0.0,\"#0d0887\"],[0.1111111111111111,\"#46039f\"],[0.2222222222222222,\"#7201a8\"],[0.3333333333333333,\"#9c179e\"],[0.4444444444444444,\"#bd3786\"],[0.5555555555555556,\"#d8576b\"],[0.6666666666666666,\"#ed7953\"],[0.7777777777777778,\"#fb9f3a\"],[0.8888888888888888,\"#fdca26\"],[1.0,\"#f0f921\"]]}],\"contourcarpet\":[{\"type\":\"contourcarpet\",\"colorbar\":{\"outlinewidth\":0,\"ticks\":\"\"}}],\"contour\":[{\"type\":\"contour\",\"colorbar\":{\"outlinewidth\":0,\"ticks\":\"\"},\"colorscale\":[[0.0,\"#0d0887\"],[0.1111111111111111,\"#46039f\"],[0.2222222222222222,\"#7201a8\"],[0.3333333333333333,\"#9c179e\"],[0.4444444444444444,\"#bd3786\"],[0.5555555555555556,\"#d8576b\"],[0.6666666666666666,\"#ed7953\"],[0.7777777777777778,\"#fb9f3a\"],[0.8888888888888888,\"#fdca26\"],[1.0,\"#f0f921\"]]}],\"surface\":[{\"type\":\"surface\",\"colorbar\":{\"outlinewidth\":0,\"ticks\":\"\"},\"colorscale\":[[0.0,\"#0d0887\"],[0.1111111111111111,\"#46039f\"],[0.2222222222222222,\"#7201a8\"],[0.3333333333333333,\"#9c179e\"],[0.4444444444444444,\"#bd3786\"],[0.5555555555555556,\"#d8576b\"],[0.6666666666666666,\"#ed7953\"],[0.7777777777777778,\"#fb9f3a\"],[0.8888888888888888,\"#fdca26\"],[1.0,\"#f0f921\"]]}],\"mesh3d\":[{\"type\":\"mesh3d\",\"colorbar\":{\"outlinewidth\":0,\"ticks\":\"\"}}],\"scatter\":[{\"fillpattern\":{\"fillmode\":\"overlay\",\"size\":10,\"solidity\":0.2},\"type\":\"scatter\"}],\"parcoords\":[{\"type\":\"parcoords\",\"line\":{\"colorbar\":{\"outlinewidth\":0,\"ticks\":\"\"}}}],\"scatterpolargl\":[{\"type\":\"scatterpolargl\",\"marker\":{\"colorbar\":{\"outlinewidth\":0,\"ticks\":\"\"}}}],\"bar\":[{\"error_x\":{\"color\":\"#2a3f5f\"},\"error_y\":{\"color\":\"#2a3f5f\"},\"marker\":{\"line\":{\"color\":\"#E5ECF6\",\"width\":0.5},\"pattern\":{\"fillmode\":\"overlay\",\"size\":10,\"solidity\":0.2}},\"type\":\"bar\"}],\"scattergeo\":[{\"type\":\"scattergeo\",\"marker\":{\"colorbar\":{\"outlinewidth\":0,\"ticks\":\"\"}}}],\"scatterpolar\":[{\"type\":\"scatterpolar\",\"marker\":{\"colorbar\":{\"outlinewidth\":0,\"ticks\":\"\"}}}],\"histogram\":[{\"marker\":{\"pattern\":{\"fillmode\":\"overlay\",\"size\":10,\"solidity\":0.2}},\"type\":\"histogram\"}],\"scattergl\":[{\"type\":\"scattergl\",\"marker\":{\"colorbar\":{\"outlinewidth\":0,\"ticks\":\"\"}}}],\"scatter3d\":[{\"type\":\"scatter3d\",\"line\":{\"colorbar\":{\"outlinewidth\":0,\"ticks\":\"\"}},\"marker\":{\"colorbar\":{\"outlinewidth\":0,\"ticks\":\"\"}}}],\"scattermapbox\":[{\"type\":\"scattermapbox\",\"marker\":{\"colorbar\":{\"outlinewidth\":0,\"ticks\":\"\"}}}],\"scatterternary\":[{\"type\":\"scatterternary\",\"marker\":{\"colorbar\":{\"outlinewidth\":0,\"ticks\":\"\"}}}],\"scattercarpet\":[{\"type\":\"scattercarpet\",\"marker\":{\"colorbar\":{\"outlinewidth\":0,\"ticks\":\"\"}}}],\"carpet\":[{\"aaxis\":{\"endlinecolor\":\"#2a3f5f\",\"gridcolor\":\"white\",\"linecolor\":\"white\",\"minorgridcolor\":\"white\",\"startlinecolor\":\"#2a3f5f\"},\"baxis\":{\"endlinecolor\":\"#2a3f5f\",\"gridcolor\":\"white\",\"linecolor\":\"white\",\"minorgridcolor\":\"white\",\"startlinecolor\":\"#2a3f5f\"},\"type\":\"carpet\"}],\"table\":[{\"cells\":{\"fill\":{\"color\":\"#EBF0F8\"},\"line\":{\"color\":\"white\"}},\"header\":{\"fill\":{\"color\":\"#C8D4E3\"},\"line\":{\"color\":\"white\"}},\"type\":\"table\"}],\"barpolar\":[{\"marker\":{\"line\":{\"color\":\"#E5ECF6\",\"width\":0.5},\"pattern\":{\"fillmode\":\"overlay\",\"size\":10,\"solidity\":0.2}},\"type\":\"barpolar\"}],\"pie\":[{\"automargin\":true,\"type\":\"pie\"}]},\"layout\":{\"autotypenumbers\":\"strict\",\"colorway\":[\"#636efa\",\"#EF553B\",\"#00cc96\",\"#ab63fa\",\"#FFA15A\",\"#19d3f3\",\"#FF6692\",\"#B6E880\",\"#FF97FF\",\"#FECB52\"],\"font\":{\"color\":\"#2a3f5f\"},\"hovermode\":\"closest\",\"hoverlabel\":{\"align\":\"left\"},\"paper_bgcolor\":\"white\",\"plot_bgcolor\":\"#E5ECF6\",\"polar\":{\"bgcolor\":\"#E5ECF6\",\"angularaxis\":{\"gridcolor\":\"white\",\"linecolor\":\"white\",\"ticks\":\"\"},\"radialaxis\":{\"gridcolor\":\"white\",\"linecolor\":\"white\",\"ticks\":\"\"}},\"ternary\":{\"bgcolor\":\"#E5ECF6\",\"aaxis\":{\"gridcolor\":\"white\",\"linecolor\":\"white\",\"ticks\":\"\"},\"baxis\":{\"gridcolor\":\"white\",\"linecolor\":\"white\",\"ticks\":\"\"},\"caxis\":{\"gridcolor\":\"white\",\"linecolor\":\"white\",\"ticks\":\"\"}},\"coloraxis\":{\"colorbar\":{\"outlinewidth\":0,\"ticks\":\"\"}},\"colorscale\":{\"sequential\":[[0.0,\"#0d0887\"],[0.1111111111111111,\"#46039f\"],[0.2222222222222222,\"#7201a8\"],[0.3333333333333333,\"#9c179e\"],[0.4444444444444444,\"#bd3786\"],[0.5555555555555556,\"#d8576b\"],[0.6666666666666666,\"#ed7953\"],[0.7777777777777778,\"#fb9f3a\"],[0.8888888888888888,\"#fdca26\"],[1.0,\"#f0f921\"]],\"sequentialminus\":[[0.0,\"#0d0887\"],[0.1111111111111111,\"#46039f\"],[0.2222222222222222,\"#7201a8\"],[0.3333333333333333,\"#9c179e\"],[0.4444444444444444,\"#bd3786\"],[0.5555555555555556,\"#d8576b\"],[0.6666666666666666,\"#ed7953\"],[0.7777777777777778,\"#fb9f3a\"],[0.8888888888888888,\"#fdca26\"],[1.0,\"#f0f921\"]],\"diverging\":[[0,\"#8e0152\"],[0.1,\"#c51b7d\"],[0.2,\"#de77ae\"],[0.3,\"#f1b6da\"],[0.4,\"#fde0ef\"],[0.5,\"#f7f7f7\"],[0.6,\"#e6f5d0\"],[0.7,\"#b8e186\"],[0.8,\"#7fbc41\"],[0.9,\"#4d9221\"],[1,\"#276419\"]]},\"xaxis\":{\"gridcolor\":\"white\",\"linecolor\":\"white\",\"ticks\":\"\",\"title\":{\"standoff\":15},\"zerolinecolor\":\"white\",\"automargin\":true,\"zerolinewidth\":2},\"yaxis\":{\"gridcolor\":\"white\",\"linecolor\":\"white\",\"ticks\":\"\",\"title\":{\"standoff\":15},\"zerolinecolor\":\"white\",\"automargin\":true,\"zerolinewidth\":2},\"scene\":{\"xaxis\":{\"backgroundcolor\":\"#E5ECF6\",\"gridcolor\":\"white\",\"linecolor\":\"white\",\"showbackground\":true,\"ticks\":\"\",\"zerolinecolor\":\"white\",\"gridwidth\":2},\"yaxis\":{\"backgroundcolor\":\"#E5ECF6\",\"gridcolor\":\"white\",\"linecolor\":\"white\",\"showbackground\":true,\"ticks\":\"\",\"zerolinecolor\":\"white\",\"gridwidth\":2},\"zaxis\":{\"backgroundcolor\":\"#E5ECF6\",\"gridcolor\":\"white\",\"linecolor\":\"white\",\"showbackground\":true,\"ticks\":\"\",\"zerolinecolor\":\"white\",\"gridwidth\":2}},\"shapedefaults\":{\"line\":{\"color\":\"#2a3f5f\"}},\"annotationdefaults\":{\"arrowcolor\":\"#2a3f5f\",\"arrowhead\":0,\"arrowwidth\":1},\"geo\":{\"bgcolor\":\"white\",\"landcolor\":\"#E5ECF6\",\"subunitcolor\":\"white\",\"showland\":true,\"showlakes\":true,\"lakecolor\":\"white\"},\"title\":{\"x\":0.05},\"mapbox\":{\"style\":\"light\"}}},\"xaxis\":{\"anchor\":\"y\",\"domain\":[0.0,1.0],\"title\":{\"text\":\"Feature\"}},\"yaxis\":{\"anchor\":\"x\",\"domain\":[0.0,1.0],\"title\":{\"text\":\"Linear coefficient\"}},\"legend\":{\"title\":{\"text\":\"color\"},\"tracegroupgap\":0},\"title\":{\"text\":\"Weight of each feature for predicting\"},\"barmode\":\"relative\"},                        {\"responsive\": true}                    ).then(function(){\n",
              "                            \n",
              "var gd = document.getElementById('7c17eab8-1ef4-4578-be53-30b605288af3');\n",
              "var x = new MutationObserver(function (mutations, observer) {{\n",
              "        var display = window.getComputedStyle(gd).display;\n",
              "        if (!display || display === 'none') {{\n",
              "            console.log([gd, 'removed!']);\n",
              "            Plotly.purge(gd);\n",
              "            observer.disconnect();\n",
              "        }}\n",
              "}});\n",
              "\n",
              "// Listen for the removal of the full notebook cells\n",
              "var notebookContainer = gd.closest('#notebook-container');\n",
              "if (notebookContainer) {{\n",
              "    x.observe(notebookContainer, {childList: true});\n",
              "}}\n",
              "\n",
              "// Listen for the clearing of the current output cell\n",
              "var outputEl = gd.closest('.output');\n",
              "if (outputEl) {{\n",
              "    x.observe(outputEl, {childList: true});\n",
              "}}\n",
              "\n",
              "                        })                };                            </script>        </div>\n",
              "</body>\n",
              "</html>"
            ]
          },
          "metadata": {}
        }
      ]
    },
    {
      "cell_type": "markdown",
      "source": [
        "## Coefficient variability \n",
        "\n",
        " This code performs cross-validation, extracts the trained models' coefficients from each fold, and computes a DataFrame (coefs) containing the standardized coefficients for each feature across the cross-validation folds. This analysis can provide insights into the stability and significance of the feature coefficients in the model."
      ],
      "metadata": {
        "id": "xbUvY_x57A9G"
      }
    },
    {
      "cell_type": "code",
      "source": [
        "from sklearn.model_selection import cross_validate\n",
        "from sklearn.model_selection import RepeatedKFold\n",
        "\n",
        "\"\"\" This line initializes the cv object as a RepeatedKFold instance. It specifies the number of splits (n_splits=5) \n",
        "and the number of repeats (n_repeats=5) for the cross-validation. The random_state parameter sets the random seed \n",
        "for reproducibility. cross_validate is used to perform cross-validation, while RepeatedKFold is a strategy for splitting \n",
        "the data into train and test sets during cross-validation.\n",
        "\"\"\"\n",
        "cv = RepeatedKFold(n_splits=5, n_repeats=5, random_state=0)\n",
        "\n",
        "\"\"\" This code performs cross-validation using the cross_validate function. It takes the machine learning model, \n",
        "feature data X, and target variable y as inputs. The cv parameter specifies the cross-validation strategy (in this case,\n",
        "the cv object we defined earlier). Setting return_estimator=True ensures that the trained estimators from each fold \n",
        "are returned. The n_jobs parameter sets the number of parallel jobs to run during cross-validation.\n",
        "\"\"\"\n",
        "\n",
        "cv_model = cross_validate(\n",
        "    model,\n",
        "    X,\n",
        "    y,\n",
        "    cv=cv,\n",
        "    return_estimator=True,\n",
        "    n_jobs=2,\n",
        ")\n",
        "\n",
        "\"\"\" This code creates a DataFrame called coefs to store the coefficients of the features from each cross-validated model. \n",
        "It loops over the estimators (est) and their corresponding train indices (train_idx) obtained from cv_model[\"estimator\"] \n",
        "and cv.split(X, y), respectively. For each estimator, it multiplies the coefficients (est[-1].regressor_.coef_) \n",
        "with the standard deviation (est[:-1].transform(X.iloc[train_idx]).std(axis=0)) of the transformed features \n",
        "(est[:-1].transform(X.iloc[train_idx]))\n",
        "\"\"\"\n",
        "coefs = pd.DataFrame(\n",
        "    [\n",
        "        est[-1].regressor_.coef_ * est[:-1].transform(X.iloc[train_idx]).std(axis=0)\n",
        "        for est, (train_idx, _) in zip(cv_model[\"estimator\"], cv.split(X, y))\n",
        "    ],\n",
        "    columns=feature_names,\n",
        ")\n",
        "\n",
        "# Plot\n",
        "\"\"\" The melted DataFrame has a separate column named 'Column', which represents the original column names \n",
        "('Column1', 'Column2', 'Column3'). The values of these columns are placed in a new column named 'Value'.\n",
        "We then pass the 'Column' column as the x parameter, the 'Value' column as the y parameter, and the 'Column' column as \n",
        "the color parameter in the px.box() function. This assigns different colors to each boxplot based on the unique values \n",
        "in the 'Column' column.\n",
        "\"\"\"\n",
        "df_melted = coefs.melt(var_name='Column', value_name='Value')\n",
        "\n",
        "fig = px.box(df_melted,  y='Column', x='Value', color='Column', width=1000, height=800)\n",
        "fig.show()"
      ],
      "metadata": {
        "colab": {
          "base_uri": "https://localhost:8080/",
          "height": 817
        },
        "id": "B6WVIn4-7He7",
        "outputId": "41945ffc-c4cb-4e5b-b509-d09733d893f6"
      },
      "execution_count": 131,
      "outputs": [
        {
          "output_type": "display_data",
          "data": {
            "text/html": [
              "<html>\n",
              "<head><meta charset=\"utf-8\" /></head>\n",
              "<body>\n",
              "    <div>            <script src=\"https://cdnjs.cloudflare.com/ajax/libs/mathjax/2.7.5/MathJax.js?config=TeX-AMS-MML_SVG\"></script><script type=\"text/javascript\">if (window.MathJax && window.MathJax.Hub && window.MathJax.Hub.Config) {window.MathJax.Hub.Config({SVG: {font: \"STIX-Web\"}});}</script>                <script type=\"text/javascript\">window.PlotlyConfig = {MathJaxConfig: 'local'};</script>\n",
              "        <script src=\"https://cdn.plot.ly/plotly-2.18.2.min.js\"></script>                <div id=\"db7af971-89f7-4791-97c4-cda1beb3d949\" class=\"plotly-graph-div\" style=\"height:800px; width:1000px;\"></div>            <script type=\"text/javascript\">                                    window.PLOTLYENV=window.PLOTLYENV || {};                                    if (document.getElementById(\"db7af971-89f7-4791-97c4-cda1beb3d949\")) {                    Plotly.newPlot(                        \"db7af971-89f7-4791-97c4-cda1beb3d949\",                        [{\"alignmentgroup\":\"True\",\"hovertemplate\":\"Column=%{y}<br>Value=%{x}<extra></extra>\",\"legendgroup\":\"Species_Bream\",\"marker\":{\"color\":\"#636efa\"},\"name\":\"Species_Bream\",\"notched\":false,\"offsetgroup\":\"Species_Bream\",\"orientation\":\"h\",\"showlegend\":true,\"x\":[-75.94197674568845,-30.33663306408686,-44.61648510423606,-23.41087627275478,-45.74447661708058,-56.32059268890434,-42.967734498258324,-34.63459885545447,-47.19487572463368,-47.67140633280827,-28.343807759406523,-38.73510665679358,-42.95520404100156,-67.80563584882916,-51.171230875159445,-42.43541461351961,-59.47345592645823,-67.63145946404592,-51.835935892862075,-22.846359517625825,-44.16588735793574,-49.859638410897205,-70.56893336450709,-19.56695922651182,-32.78350823473737],\"x0\":\" \",\"xaxis\":\"x\",\"y\":[\"Species_Bream\",\"Species_Bream\",\"Species_Bream\",\"Species_Bream\",\"Species_Bream\",\"Species_Bream\",\"Species_Bream\",\"Species_Bream\",\"Species_Bream\",\"Species_Bream\",\"Species_Bream\",\"Species_Bream\",\"Species_Bream\",\"Species_Bream\",\"Species_Bream\",\"Species_Bream\",\"Species_Bream\",\"Species_Bream\",\"Species_Bream\",\"Species_Bream\",\"Species_Bream\",\"Species_Bream\",\"Species_Bream\",\"Species_Bream\",\"Species_Bream\"],\"y0\":\" \",\"yaxis\":\"y\",\"type\":\"box\"},{\"alignmentgroup\":\"True\",\"hovertemplate\":\"Column=%{y}<br>Value=%{x}<extra></extra>\",\"legendgroup\":\"Species_Parkki\",\"marker\":{\"color\":\"#EF553B\"},\"name\":\"Species_Parkki\",\"notched\":false,\"offsetgroup\":\"Species_Parkki\",\"orientation\":\"h\",\"showlegend\":true,\"x\":[-13.861302935095729,17.111632505559097,19.13990503523051,18.566099418002878,29.00749647647263,5.554025337123443,16.258792374986747,16.43397169775815,14.371295475625926,21.782065411967622,13.67083957369242,13.012135808767802,5.570294251249796,18.095383288456592,16.449232174805637,17.709434777654614,13.062873688943176,-8.592868414659383,14.618287129979427,20.312484568658558,11.823600976185986,8.97240379140372,13.080484081107677,20.0471496092444,18.234299761798624],\"x0\":\" \",\"xaxis\":\"x\",\"y\":[\"Species_Parkki\",\"Species_Parkki\",\"Species_Parkki\",\"Species_Parkki\",\"Species_Parkki\",\"Species_Parkki\",\"Species_Parkki\",\"Species_Parkki\",\"Species_Parkki\",\"Species_Parkki\",\"Species_Parkki\",\"Species_Parkki\",\"Species_Parkki\",\"Species_Parkki\",\"Species_Parkki\",\"Species_Parkki\",\"Species_Parkki\",\"Species_Parkki\",\"Species_Parkki\",\"Species_Parkki\",\"Species_Parkki\",\"Species_Parkki\",\"Species_Parkki\",\"Species_Parkki\",\"Species_Parkki\"],\"y0\":\" \",\"yaxis\":\"y\",\"type\":\"box\"},{\"alignmentgroup\":\"True\",\"hovertemplate\":\"Column=%{y}<br>Value=%{x}<extra></extra>\",\"legendgroup\":\"Species_Perch\",\"marker\":{\"color\":\"#00cc96\"},\"name\":\"Species_Perch\",\"notched\":false,\"offsetgroup\":\"Species_Perch\",\"orientation\":\"h\",\"showlegend\":true,\"x\":[23.552824611100398,-2.7970687111522508,22.431393769170306,4.42366366456848,27.02179066376401,13.446486690580821,11.799021041199097,12.050952660528099,23.3035321498109,22.305121727125965,12.792843232052732,15.283780433753913,3.1270341914163757,30.94686753251576,20.57268660261578,18.529848734113656,28.9991918297973,-0.20063699685183525,26.703395153200457,8.389744666307669,20.60315701283876,20.780345827900014,27.476420493742502,-0.298432874912984,7.6964025247143155],\"x0\":\" \",\"xaxis\":\"x\",\"y\":[\"Species_Perch\",\"Species_Perch\",\"Species_Perch\",\"Species_Perch\",\"Species_Perch\",\"Species_Perch\",\"Species_Perch\",\"Species_Perch\",\"Species_Perch\",\"Species_Perch\",\"Species_Perch\",\"Species_Perch\",\"Species_Perch\",\"Species_Perch\",\"Species_Perch\",\"Species_Perch\",\"Species_Perch\",\"Species_Perch\",\"Species_Perch\",\"Species_Perch\",\"Species_Perch\",\"Species_Perch\",\"Species_Perch\",\"Species_Perch\",\"Species_Perch\"],\"y0\":\" \",\"yaxis\":\"y\",\"type\":\"box\"},{\"alignmentgroup\":\"True\",\"hovertemplate\":\"Column=%{y}<br>Value=%{x}<extra></extra>\",\"legendgroup\":\"Species_Pike\",\"marker\":{\"color\":\"#ab63fa\"},\"name\":\"Species_Pike\",\"notched\":false,\"offsetgroup\":\"Species_Pike\",\"orientation\":\"h\",\"showlegend\":true,\"x\":[-32.17101069621437,-94.49670099352501,-117.45132507724936,-101.92791812634371,-126.310237828267,-82.54691655979977,-90.75191963831351,-79.66962217069359,-104.7577177597762,-124.78980085261973,-91.52511979922747,-101.56616295020258,-57.61793718891988,-96.24430260260661,-121.75032203443608,-94.82191150610183,-94.53951899375681,-28.26497418660469,-115.76692964932155,-107.83636169163358,-85.5306644913953,-97.86250763679358,-96.33042242591274,-99.20963157989674,-97.41888523528245],\"x0\":\" \",\"xaxis\":\"x\",\"y\":[\"Species_Pike\",\"Species_Pike\",\"Species_Pike\",\"Species_Pike\",\"Species_Pike\",\"Species_Pike\",\"Species_Pike\",\"Species_Pike\",\"Species_Pike\",\"Species_Pike\",\"Species_Pike\",\"Species_Pike\",\"Species_Pike\",\"Species_Pike\",\"Species_Pike\",\"Species_Pike\",\"Species_Pike\",\"Species_Pike\",\"Species_Pike\",\"Species_Pike\",\"Species_Pike\",\"Species_Pike\",\"Species_Pike\",\"Species_Pike\",\"Species_Pike\"],\"y0\":\" \",\"yaxis\":\"y\",\"type\":\"box\"},{\"alignmentgroup\":\"True\",\"hovertemplate\":\"Column=%{y}<br>Value=%{x}<extra></extra>\",\"legendgroup\":\"Species_Roach\",\"marker\":{\"color\":\"#FFA15A\"},\"name\":\"Species_Roach\",\"notched\":false,\"offsetgroup\":\"Species_Roach\",\"orientation\":\"h\",\"showlegend\":true,\"x\":[4.901601301065261,0.09434413581553693,3.837723436289349,-7.991884100498192,-2.9564583759012115,-3.5261875924256185,4.737561294126242,-7.860730097177965,0.46784447126730333,1.3038856617585837,-1.4428643122533615,-0.6999513417956976,-3.0674327773840093,-3.740178661993038,5.576339523576815,2.7823636537763456,4.400918155176737,-5.772188320648836,0.4588025647979404,-3.4840431902315725,0.22293149222358177,-4.85970978513016,2.788195663778176,-2.976434549722893,1.0219692803376907],\"x0\":\" \",\"xaxis\":\"x\",\"y\":[\"Species_Roach\",\"Species_Roach\",\"Species_Roach\",\"Species_Roach\",\"Species_Roach\",\"Species_Roach\",\"Species_Roach\",\"Species_Roach\",\"Species_Roach\",\"Species_Roach\",\"Species_Roach\",\"Species_Roach\",\"Species_Roach\",\"Species_Roach\",\"Species_Roach\",\"Species_Roach\",\"Species_Roach\",\"Species_Roach\",\"Species_Roach\",\"Species_Roach\",\"Species_Roach\",\"Species_Roach\",\"Species_Roach\",\"Species_Roach\",\"Species_Roach\"],\"y0\":\" \",\"yaxis\":\"y\",\"type\":\"box\"},{\"alignmentgroup\":\"True\",\"hovertemplate\":\"Column=%{y}<br>Value=%{x}<extra></extra>\",\"legendgroup\":\"Species_Smelt\",\"marker\":{\"color\":\"#19d3f3\"},\"name\":\"Species_Smelt\",\"notched\":false,\"offsetgroup\":\"Species_Smelt\",\"orientation\":\"h\",\"showlegend\":true,\"x\":[106.50856137684904,88.2472019852015,99.92295110744583,85.29612743480087,100.76561528121285,97.28624609480234,101.93526570345837,93.2851571657964,101.0554870926255,89.5359339621343,72.3074311072413,104.30756044296899,87.9985357542022,103.17233206095388,116.05687718208381,88.53958581775534,107.44277694487965,93.64213970473106,102.09346206490552,87.46157883775643,108.82727380875598,92.19595100981084,97.44392831599912,97.17950120997703,82.21448664190542],\"x0\":\" \",\"xaxis\":\"x\",\"y\":[\"Species_Smelt\",\"Species_Smelt\",\"Species_Smelt\",\"Species_Smelt\",\"Species_Smelt\",\"Species_Smelt\",\"Species_Smelt\",\"Species_Smelt\",\"Species_Smelt\",\"Species_Smelt\",\"Species_Smelt\",\"Species_Smelt\",\"Species_Smelt\",\"Species_Smelt\",\"Species_Smelt\",\"Species_Smelt\",\"Species_Smelt\",\"Species_Smelt\",\"Species_Smelt\",\"Species_Smelt\",\"Species_Smelt\",\"Species_Smelt\",\"Species_Smelt\",\"Species_Smelt\",\"Species_Smelt\"],\"y0\":\" \",\"yaxis\":\"y\",\"type\":\"box\"},{\"alignmentgroup\":\"True\",\"hovertemplate\":\"Column=%{y}<br>Value=%{x}<extra></extra>\",\"legendgroup\":\"Species_Whitefish\",\"marker\":{\"color\":\"#FF6692\"},\"name\":\"Species_Whitefish\",\"notched\":false,\"offsetgroup\":\"Species_Whitefish\",\"orientation\":\"h\",\"showlegend\":true,\"x\":[-10.252704206784388,-6.368008987637749,0.6677670597090233,4.796852567118189,-1.4610575662676648,1.932339126665283,-5.759748490561984,-3.098482854154824,-2.5413296469362603,0.4811012731985679,-0.6718539695975733,-2.2015991243814153,-2.790877037205305,-2.140757887728697,-4.409252145778112,-1.5986083730796923,0.36655031288461976,-3.9311021125973027,-4.04583827647113,-1.9225765711280933,-10.623065826659467,5.590596543203363,2.348060558446534,-5.043253279279852,-3.6550223853880652],\"x0\":\" \",\"xaxis\":\"x\",\"y\":[\"Species_Whitefish\",\"Species_Whitefish\",\"Species_Whitefish\",\"Species_Whitefish\",\"Species_Whitefish\",\"Species_Whitefish\",\"Species_Whitefish\",\"Species_Whitefish\",\"Species_Whitefish\",\"Species_Whitefish\",\"Species_Whitefish\",\"Species_Whitefish\",\"Species_Whitefish\",\"Species_Whitefish\",\"Species_Whitefish\",\"Species_Whitefish\",\"Species_Whitefish\",\"Species_Whitefish\",\"Species_Whitefish\",\"Species_Whitefish\",\"Species_Whitefish\",\"Species_Whitefish\",\"Species_Whitefish\",\"Species_Whitefish\",\"Species_Whitefish\"],\"y0\":\" \",\"yaxis\":\"y\",\"type\":\"box\"},{\"alignmentgroup\":\"True\",\"hovertemplate\":\"Column=%{y}<br>Value=%{x}<extra></extra>\",\"legendgroup\":\"Length1\",\"marker\":{\"color\":\"#B6E880\"},\"name\":\"Length1\",\"notched\":false,\"offsetgroup\":\"Length1\",\"orientation\":\"h\",\"showlegend\":true,\"x\":[-685.5855451644011,-913.2466737327711,-819.9073094539579,-955.1357205646823,-528.4782682846667,-909.3706201910377,-699.5487563513343,-622.7855035532532,-879.8053336024454,-888.067448639337,-762.9261516401909,-794.8864188087902,-572.0261167862334,-718.4234472601978,-1069.1563800658712,-672.7713321852343,-1031.3224980681023,-347.7050896213673,-792.3873825210399,-890.368956799576,-919.0376221888207,-648.9953934177365,-852.3274637294284,-720.8063015922405,-867.5261247978544],\"x0\":\" \",\"xaxis\":\"x\",\"y\":[\"Length1\",\"Length1\",\"Length1\",\"Length1\",\"Length1\",\"Length1\",\"Length1\",\"Length1\",\"Length1\",\"Length1\",\"Length1\",\"Length1\",\"Length1\",\"Length1\",\"Length1\",\"Length1\",\"Length1\",\"Length1\",\"Length1\",\"Length1\",\"Length1\",\"Length1\",\"Length1\",\"Length1\",\"Length1\"],\"y0\":\" \",\"yaxis\":\"y\",\"type\":\"box\"},{\"alignmentgroup\":\"True\",\"hovertemplate\":\"Column=%{y}<br>Value=%{x}<extra></extra>\",\"legendgroup\":\"Length2\",\"marker\":{\"color\":\"#FF97FF\"},\"name\":\"Length2\",\"notched\":false,\"offsetgroup\":\"Length2\",\"orientation\":\"h\",\"showlegend\":true,\"x\":[786.039532443162,1212.13262552812,805.7294430988326,1078.7294563971586,393.4893421058212,1039.1586527075813,843.6530436288008,520.2773424095087,873.3938885407007,871.76330776275,1049.173642074352,890.3465066382644,767.7061514593602,511.6100621544759,948.9077696836991,643.9166937660618,1194.206019162468,480.1599023086703,704.1645060845561,1079.3071426744232,966.2822305966207,688.521573314194,742.5161587621553,954.9430895662152,1015.2609875210201],\"x0\":\" \",\"xaxis\":\"x\",\"y\":[\"Length2\",\"Length2\",\"Length2\",\"Length2\",\"Length2\",\"Length2\",\"Length2\",\"Length2\",\"Length2\",\"Length2\",\"Length2\",\"Length2\",\"Length2\",\"Length2\",\"Length2\",\"Length2\",\"Length2\",\"Length2\",\"Length2\",\"Length2\",\"Length2\",\"Length2\",\"Length2\",\"Length2\",\"Length2\"],\"y0\":\" \",\"yaxis\":\"y\",\"type\":\"box\"},{\"alignmentgroup\":\"True\",\"hovertemplate\":\"Column=%{y}<br>Value=%{x}<extra></extra>\",\"legendgroup\":\"Length3\",\"marker\":{\"color\":\"#FECB52\"},\"name\":\"Length3\",\"notched\":false,\"offsetgroup\":\"Length3\",\"orientation\":\"h\",\"showlegend\":true,\"x\":[182.00656022621817,88.66337254105802,514.7429931493153,325.2061826003165,627.7739629585855,264.2319553416772,284.34386997848634,476.25608977032135,470.13184693667614,510.7662638172621,126.83958521885846,355.3730700162895,101.49295106919416,661.9518975819375,612.1123779191876,470.09257909676165,341.36362073978654,64.76590902011621,551.9687796714709,260.44008246070626,402.88208590330896,381.2644148941953,535.9270960994345,166.55603841109496,283.25685553670223],\"x0\":\" \",\"xaxis\":\"x\",\"y\":[\"Length3\",\"Length3\",\"Length3\",\"Length3\",\"Length3\",\"Length3\",\"Length3\",\"Length3\",\"Length3\",\"Length3\",\"Length3\",\"Length3\",\"Length3\",\"Length3\",\"Length3\",\"Length3\",\"Length3\",\"Length3\",\"Length3\",\"Length3\",\"Length3\",\"Length3\",\"Length3\",\"Length3\",\"Length3\"],\"y0\":\" \",\"yaxis\":\"y\",\"type\":\"box\"},{\"alignmentgroup\":\"True\",\"hovertemplate\":\"Column=%{y}<br>Value=%{x}<extra></extra>\",\"legendgroup\":\"Height\",\"marker\":{\"color\":\"#636efa\"},\"name\":\"Height\",\"notched\":false,\"offsetgroup\":\"Height\",\"orientation\":\"h\",\"showlegend\":true,\"x\":[140.43983600481738,29.022792520494935,19.114545985150944,-16.133230491458406,-20.150727385547686,64.52830013743653,31.098950180713445,-12.429780791014787,21.314109335334553,15.725730464223995,33.44796349917875,16.072286379273812,72.62369041701217,25.728087832596835,7.908583442332395,0.13535527496777897,77.09879238366123,134.1847055507492,16.242191714610097,-5.100957577979435,25.820131251301795,45.44370307198939,49.64178159323083,0.7214792453422827,8.517252068893184],\"x0\":\" \",\"xaxis\":\"x\",\"y\":[\"Height\",\"Height\",\"Height\",\"Height\",\"Height\",\"Height\",\"Height\",\"Height\",\"Height\",\"Height\",\"Height\",\"Height\",\"Height\",\"Height\",\"Height\",\"Height\",\"Height\",\"Height\",\"Height\",\"Height\",\"Height\",\"Height\",\"Height\",\"Height\",\"Height\"],\"y0\":\" \",\"yaxis\":\"y\",\"type\":\"box\"},{\"alignmentgroup\":\"True\",\"hovertemplate\":\"Column=%{y}<br>Value=%{x}<extra></extra>\",\"legendgroup\":\"Width\",\"marker\":{\"color\":\"#EF553B\"},\"name\":\"Width\",\"notched\":false,\"offsetgroup\":\"Width\",\"orientation\":\"h\",\"showlegend\":true,\"x\":[21.946513891637206,30.887810716714647,-52.260604651126,8.614526086831422,-13.107511180392612,-2.771024582599244,-9.445453870849676,51.25602165826108,-9.806038487422605,-44.71615614463253,-15.414965992144108,-3.029147356671265,41.463083523601156,-10.756974034136984,-14.18065904950363,-5.49901012239423,-88.91095899927457,84.71424487973434,-8.406016948854273,7.652697383882444,-10.505171734627192,-15.725632995856555,-21.040409652236427,35.280018050842074,5.201513616659737],\"x0\":\" \",\"xaxis\":\"x\",\"y\":[\"Width\",\"Width\",\"Width\",\"Width\",\"Width\",\"Width\",\"Width\",\"Width\",\"Width\",\"Width\",\"Width\",\"Width\",\"Width\",\"Width\",\"Width\",\"Width\",\"Width\",\"Width\",\"Width\",\"Width\",\"Width\",\"Width\",\"Width\",\"Width\",\"Width\"],\"y0\":\" \",\"yaxis\":\"y\",\"type\":\"box\"}],                        {\"template\":{\"data\":{\"histogram2dcontour\":[{\"type\":\"histogram2dcontour\",\"colorbar\":{\"outlinewidth\":0,\"ticks\":\"\"},\"colorscale\":[[0.0,\"#0d0887\"],[0.1111111111111111,\"#46039f\"],[0.2222222222222222,\"#7201a8\"],[0.3333333333333333,\"#9c179e\"],[0.4444444444444444,\"#bd3786\"],[0.5555555555555556,\"#d8576b\"],[0.6666666666666666,\"#ed7953\"],[0.7777777777777778,\"#fb9f3a\"],[0.8888888888888888,\"#fdca26\"],[1.0,\"#f0f921\"]]}],\"choropleth\":[{\"type\":\"choropleth\",\"colorbar\":{\"outlinewidth\":0,\"ticks\":\"\"}}],\"histogram2d\":[{\"type\":\"histogram2d\",\"colorbar\":{\"outlinewidth\":0,\"ticks\":\"\"},\"colorscale\":[[0.0,\"#0d0887\"],[0.1111111111111111,\"#46039f\"],[0.2222222222222222,\"#7201a8\"],[0.3333333333333333,\"#9c179e\"],[0.4444444444444444,\"#bd3786\"],[0.5555555555555556,\"#d8576b\"],[0.6666666666666666,\"#ed7953\"],[0.7777777777777778,\"#fb9f3a\"],[0.8888888888888888,\"#fdca26\"],[1.0,\"#f0f921\"]]}],\"heatmap\":[{\"type\":\"heatmap\",\"colorbar\":{\"outlinewidth\":0,\"ticks\":\"\"},\"colorscale\":[[0.0,\"#0d0887\"],[0.1111111111111111,\"#46039f\"],[0.2222222222222222,\"#7201a8\"],[0.3333333333333333,\"#9c179e\"],[0.4444444444444444,\"#bd3786\"],[0.5555555555555556,\"#d8576b\"],[0.6666666666666666,\"#ed7953\"],[0.7777777777777778,\"#fb9f3a\"],[0.8888888888888888,\"#fdca26\"],[1.0,\"#f0f921\"]]}],\"heatmapgl\":[{\"type\":\"heatmapgl\",\"colorbar\":{\"outlinewidth\":0,\"ticks\":\"\"},\"colorscale\":[[0.0,\"#0d0887\"],[0.1111111111111111,\"#46039f\"],[0.2222222222222222,\"#7201a8\"],[0.3333333333333333,\"#9c179e\"],[0.4444444444444444,\"#bd3786\"],[0.5555555555555556,\"#d8576b\"],[0.6666666666666666,\"#ed7953\"],[0.7777777777777778,\"#fb9f3a\"],[0.8888888888888888,\"#fdca26\"],[1.0,\"#f0f921\"]]}],\"contourcarpet\":[{\"type\":\"contourcarpet\",\"colorbar\":{\"outlinewidth\":0,\"ticks\":\"\"}}],\"contour\":[{\"type\":\"contour\",\"colorbar\":{\"outlinewidth\":0,\"ticks\":\"\"},\"colorscale\":[[0.0,\"#0d0887\"],[0.1111111111111111,\"#46039f\"],[0.2222222222222222,\"#7201a8\"],[0.3333333333333333,\"#9c179e\"],[0.4444444444444444,\"#bd3786\"],[0.5555555555555556,\"#d8576b\"],[0.6666666666666666,\"#ed7953\"],[0.7777777777777778,\"#fb9f3a\"],[0.8888888888888888,\"#fdca26\"],[1.0,\"#f0f921\"]]}],\"surface\":[{\"type\":\"surface\",\"colorbar\":{\"outlinewidth\":0,\"ticks\":\"\"},\"colorscale\":[[0.0,\"#0d0887\"],[0.1111111111111111,\"#46039f\"],[0.2222222222222222,\"#7201a8\"],[0.3333333333333333,\"#9c179e\"],[0.4444444444444444,\"#bd3786\"],[0.5555555555555556,\"#d8576b\"],[0.6666666666666666,\"#ed7953\"],[0.7777777777777778,\"#fb9f3a\"],[0.8888888888888888,\"#fdca26\"],[1.0,\"#f0f921\"]]}],\"mesh3d\":[{\"type\":\"mesh3d\",\"colorbar\":{\"outlinewidth\":0,\"ticks\":\"\"}}],\"scatter\":[{\"fillpattern\":{\"fillmode\":\"overlay\",\"size\":10,\"solidity\":0.2},\"type\":\"scatter\"}],\"parcoords\":[{\"type\":\"parcoords\",\"line\":{\"colorbar\":{\"outlinewidth\":0,\"ticks\":\"\"}}}],\"scatterpolargl\":[{\"type\":\"scatterpolargl\",\"marker\":{\"colorbar\":{\"outlinewidth\":0,\"ticks\":\"\"}}}],\"bar\":[{\"error_x\":{\"color\":\"#2a3f5f\"},\"error_y\":{\"color\":\"#2a3f5f\"},\"marker\":{\"line\":{\"color\":\"#E5ECF6\",\"width\":0.5},\"pattern\":{\"fillmode\":\"overlay\",\"size\":10,\"solidity\":0.2}},\"type\":\"bar\"}],\"scattergeo\":[{\"type\":\"scattergeo\",\"marker\":{\"colorbar\":{\"outlinewidth\":0,\"ticks\":\"\"}}}],\"scatterpolar\":[{\"type\":\"scatterpolar\",\"marker\":{\"colorbar\":{\"outlinewidth\":0,\"ticks\":\"\"}}}],\"histogram\":[{\"marker\":{\"pattern\":{\"fillmode\":\"overlay\",\"size\":10,\"solidity\":0.2}},\"type\":\"histogram\"}],\"scattergl\":[{\"type\":\"scattergl\",\"marker\":{\"colorbar\":{\"outlinewidth\":0,\"ticks\":\"\"}}}],\"scatter3d\":[{\"type\":\"scatter3d\",\"line\":{\"colorbar\":{\"outlinewidth\":0,\"ticks\":\"\"}},\"marker\":{\"colorbar\":{\"outlinewidth\":0,\"ticks\":\"\"}}}],\"scattermapbox\":[{\"type\":\"scattermapbox\",\"marker\":{\"colorbar\":{\"outlinewidth\":0,\"ticks\":\"\"}}}],\"scatterternary\":[{\"type\":\"scatterternary\",\"marker\":{\"colorbar\":{\"outlinewidth\":0,\"ticks\":\"\"}}}],\"scattercarpet\":[{\"type\":\"scattercarpet\",\"marker\":{\"colorbar\":{\"outlinewidth\":0,\"ticks\":\"\"}}}],\"carpet\":[{\"aaxis\":{\"endlinecolor\":\"#2a3f5f\",\"gridcolor\":\"white\",\"linecolor\":\"white\",\"minorgridcolor\":\"white\",\"startlinecolor\":\"#2a3f5f\"},\"baxis\":{\"endlinecolor\":\"#2a3f5f\",\"gridcolor\":\"white\",\"linecolor\":\"white\",\"minorgridcolor\":\"white\",\"startlinecolor\":\"#2a3f5f\"},\"type\":\"carpet\"}],\"table\":[{\"cells\":{\"fill\":{\"color\":\"#EBF0F8\"},\"line\":{\"color\":\"white\"}},\"header\":{\"fill\":{\"color\":\"#C8D4E3\"},\"line\":{\"color\":\"white\"}},\"type\":\"table\"}],\"barpolar\":[{\"marker\":{\"line\":{\"color\":\"#E5ECF6\",\"width\":0.5},\"pattern\":{\"fillmode\":\"overlay\",\"size\":10,\"solidity\":0.2}},\"type\":\"barpolar\"}],\"pie\":[{\"automargin\":true,\"type\":\"pie\"}]},\"layout\":{\"autotypenumbers\":\"strict\",\"colorway\":[\"#636efa\",\"#EF553B\",\"#00cc96\",\"#ab63fa\",\"#FFA15A\",\"#19d3f3\",\"#FF6692\",\"#B6E880\",\"#FF97FF\",\"#FECB52\"],\"font\":{\"color\":\"#2a3f5f\"},\"hovermode\":\"closest\",\"hoverlabel\":{\"align\":\"left\"},\"paper_bgcolor\":\"white\",\"plot_bgcolor\":\"#E5ECF6\",\"polar\":{\"bgcolor\":\"#E5ECF6\",\"angularaxis\":{\"gridcolor\":\"white\",\"linecolor\":\"white\",\"ticks\":\"\"},\"radialaxis\":{\"gridcolor\":\"white\",\"linecolor\":\"white\",\"ticks\":\"\"}},\"ternary\":{\"bgcolor\":\"#E5ECF6\",\"aaxis\":{\"gridcolor\":\"white\",\"linecolor\":\"white\",\"ticks\":\"\"},\"baxis\":{\"gridcolor\":\"white\",\"linecolor\":\"white\",\"ticks\":\"\"},\"caxis\":{\"gridcolor\":\"white\",\"linecolor\":\"white\",\"ticks\":\"\"}},\"coloraxis\":{\"colorbar\":{\"outlinewidth\":0,\"ticks\":\"\"}},\"colorscale\":{\"sequential\":[[0.0,\"#0d0887\"],[0.1111111111111111,\"#46039f\"],[0.2222222222222222,\"#7201a8\"],[0.3333333333333333,\"#9c179e\"],[0.4444444444444444,\"#bd3786\"],[0.5555555555555556,\"#d8576b\"],[0.6666666666666666,\"#ed7953\"],[0.7777777777777778,\"#fb9f3a\"],[0.8888888888888888,\"#fdca26\"],[1.0,\"#f0f921\"]],\"sequentialminus\":[[0.0,\"#0d0887\"],[0.1111111111111111,\"#46039f\"],[0.2222222222222222,\"#7201a8\"],[0.3333333333333333,\"#9c179e\"],[0.4444444444444444,\"#bd3786\"],[0.5555555555555556,\"#d8576b\"],[0.6666666666666666,\"#ed7953\"],[0.7777777777777778,\"#fb9f3a\"],[0.8888888888888888,\"#fdca26\"],[1.0,\"#f0f921\"]],\"diverging\":[[0,\"#8e0152\"],[0.1,\"#c51b7d\"],[0.2,\"#de77ae\"],[0.3,\"#f1b6da\"],[0.4,\"#fde0ef\"],[0.5,\"#f7f7f7\"],[0.6,\"#e6f5d0\"],[0.7,\"#b8e186\"],[0.8,\"#7fbc41\"],[0.9,\"#4d9221\"],[1,\"#276419\"]]},\"xaxis\":{\"gridcolor\":\"white\",\"linecolor\":\"white\",\"ticks\":\"\",\"title\":{\"standoff\":15},\"zerolinecolor\":\"white\",\"automargin\":true,\"zerolinewidth\":2},\"yaxis\":{\"gridcolor\":\"white\",\"linecolor\":\"white\",\"ticks\":\"\",\"title\":{\"standoff\":15},\"zerolinecolor\":\"white\",\"automargin\":true,\"zerolinewidth\":2},\"scene\":{\"xaxis\":{\"backgroundcolor\":\"#E5ECF6\",\"gridcolor\":\"white\",\"linecolor\":\"white\",\"showbackground\":true,\"ticks\":\"\",\"zerolinecolor\":\"white\",\"gridwidth\":2},\"yaxis\":{\"backgroundcolor\":\"#E5ECF6\",\"gridcolor\":\"white\",\"linecolor\":\"white\",\"showbackground\":true,\"ticks\":\"\",\"zerolinecolor\":\"white\",\"gridwidth\":2},\"zaxis\":{\"backgroundcolor\":\"#E5ECF6\",\"gridcolor\":\"white\",\"linecolor\":\"white\",\"showbackground\":true,\"ticks\":\"\",\"zerolinecolor\":\"white\",\"gridwidth\":2}},\"shapedefaults\":{\"line\":{\"color\":\"#2a3f5f\"}},\"annotationdefaults\":{\"arrowcolor\":\"#2a3f5f\",\"arrowhead\":0,\"arrowwidth\":1},\"geo\":{\"bgcolor\":\"white\",\"landcolor\":\"#E5ECF6\",\"subunitcolor\":\"white\",\"showland\":true,\"showlakes\":true,\"lakecolor\":\"white\"},\"title\":{\"x\":0.05},\"mapbox\":{\"style\":\"light\"}}},\"xaxis\":{\"anchor\":\"y\",\"domain\":[0.0,1.0],\"title\":{\"text\":\"Value\"}},\"yaxis\":{\"anchor\":\"x\",\"domain\":[0.0,1.0],\"title\":{\"text\":\"Column\"},\"categoryorder\":\"array\",\"categoryarray\":[\"Width\",\"Height\",\"Length3\",\"Length2\",\"Length1\",\"Species_Whitefish\",\"Species_Smelt\",\"Species_Roach\",\"Species_Pike\",\"Species_Perch\",\"Species_Parkki\",\"Species_Bream\"]},\"legend\":{\"title\":{\"text\":\"Column\"},\"tracegroupgap\":0},\"margin\":{\"t\":60},\"boxmode\":\"overlay\",\"height\":800,\"width\":1000},                        {\"responsive\": true}                    ).then(function(){\n",
              "                            \n",
              "var gd = document.getElementById('db7af971-89f7-4791-97c4-cda1beb3d949');\n",
              "var x = new MutationObserver(function (mutations, observer) {{\n",
              "        var display = window.getComputedStyle(gd).display;\n",
              "        if (!display || display === 'none') {{\n",
              "            console.log([gd, 'removed!']);\n",
              "            Plotly.purge(gd);\n",
              "            observer.disconnect();\n",
              "        }}\n",
              "}});\n",
              "\n",
              "// Listen for the removal of the full notebook cells\n",
              "var notebookContainer = gd.closest('#notebook-container');\n",
              "if (notebookContainer) {{\n",
              "    x.observe(notebookContainer, {childList: true});\n",
              "}}\n",
              "\n",
              "// Listen for the clearing of the current output cell\n",
              "var outputEl = gd.closest('.output');\n",
              "if (outputEl) {{\n",
              "    x.observe(outputEl, {childList: true});\n",
              "}}\n",
              "\n",
              "                        })                };                            </script>        </div>\n",
              "</body>\n",
              "</html>"
            ]
          },
          "metadata": {}
        }
      ]
    },
    {
      "cell_type": "code",
      "source": [
        "import random\n",
        "\n",
        "\"\"\" This line defines a list of column names (column_to_drop) that need to be dropped from the feature data.\n",
        "\"\"\"\n",
        "column_to_drop = [\"Length2\",'Length3']\n",
        "\n",
        "\"\"\" This code performs cross-validation on the machine learning model. It drops the columns specified in column_to_drop \n",
        "from the feature data (X) using X.drop(columns=column_to_drop). The remaining feature data is used along with the target \n",
        "variable (y) to perform cross-validation.\n",
        "\"\"\"\n",
        "cv_model = cross_validate(\n",
        "    model,\n",
        "    X.drop(columns=column_to_drop),\n",
        "    y,\n",
        "    cv=cv,\n",
        "    return_estimator=True,\n",
        "    n_jobs=2,\n",
        ")\n",
        "\n",
        "\"\"\" This code creates a list (features_name_list) of feature names by converting feature_names (obtained previously) to \n",
        "a Python list. Then, it removes the names of the dropped columns (column_to_drop) from the list.\n",
        "\"\"\"\n",
        "features_name_list = feature_names.tolist()\n",
        "for drop_name in column_to_drop:\n",
        "  features_name_list.remove(drop_name)\n",
        "\n",
        "\n",
        "coefs = pd.DataFrame(\n",
        "    [\n",
        "        est[-1].regressor_.coef_\n",
        "        * est[:-1].transform(X.drop(columns=column_to_drop).iloc[train_idx]).std(axis=0)\n",
        "        for est, (train_idx, _) in zip(cv_model[\"estimator\"], cv.split(X, y))\n",
        "    ],\n",
        "    columns=features_name_list,\n",
        ")\n",
        "\n",
        "# Plot\n",
        "\"\"\" The melted DataFrame has a separate column named 'Column', which represents the original column names \n",
        "('Column1', 'Column2', 'Column3'). The values of these columns are placed in a new column named 'Value'.\n",
        "We then pass the 'Column' column as the x parameter, the 'Value' column as the y parameter, and the 'Column' column as \n",
        "the color parameter in the px.box() function. This assigns different colors to each boxplot based on the unique values \n",
        "in the 'Column' column.\n",
        "\"\"\"\n",
        "df_melted = coefs.melt(var_name='Column', value_name='Value')\n",
        "\n",
        "fig = px.box(df_melted,  y='Column', x='Value', color='Column', width=1000, height=800)\n",
        "fig.show()"
      ],
      "metadata": {
        "colab": {
          "base_uri": "https://localhost:8080/",
          "height": 817
        },
        "id": "miHnROcRCkup",
        "outputId": "3d15fbb3-75ea-4a19-bfa9-31b3f4f376c9"
      },
      "execution_count": 130,
      "outputs": [
        {
          "output_type": "display_data",
          "data": {
            "text/html": [
              "<html>\n",
              "<head><meta charset=\"utf-8\" /></head>\n",
              "<body>\n",
              "    <div>            <script src=\"https://cdnjs.cloudflare.com/ajax/libs/mathjax/2.7.5/MathJax.js?config=TeX-AMS-MML_SVG\"></script><script type=\"text/javascript\">if (window.MathJax && window.MathJax.Hub && window.MathJax.Hub.Config) {window.MathJax.Hub.Config({SVG: {font: \"STIX-Web\"}});}</script>                <script type=\"text/javascript\">window.PlotlyConfig = {MathJaxConfig: 'local'};</script>\n",
              "        <script src=\"https://cdn.plot.ly/plotly-2.18.2.min.js\"></script>                <div id=\"0f3d3f60-8762-480c-848d-60e156ca019b\" class=\"plotly-graph-div\" style=\"height:800px; width:1000px;\"></div>            <script type=\"text/javascript\">                                    window.PLOTLYENV=window.PLOTLYENV || {};                                    if (document.getElementById(\"0f3d3f60-8762-480c-848d-60e156ca019b\")) {                    Plotly.newPlot(                        \"0f3d3f60-8762-480c-848d-60e156ca019b\",                        [{\"alignmentgroup\":\"True\",\"hovertemplate\":\"Column=%{y}<br>Value=%{x}<extra></extra>\",\"legendgroup\":\"Species_Bream\",\"marker\":{\"color\":\"#636efa\"},\"name\":\"Species_Bream\",\"notched\":false,\"offsetgroup\":\"Species_Bream\",\"orientation\":\"h\",\"showlegend\":true,\"x\":[-60.006013424647975,-18.17378257579477,-6.314137260373246,7.414200773808414,9.83302014440015,-29.839578277104636,-18.801336049407276,6.914921539286773,-11.665216601618921,-4.986128087182443,-18.326346405270755,-6.296831651834382,-32.57242064175059,-12.806756104483098,0.2831724872203108,-1.478176745875029,-30.364314435588682,-64.4548142541775,-3.954215836890665,4.67227953219629,-7.635182649074549,-24.33097504159188,-20.955475294257347,-5.332499888089099,-3.682096782962945],\"x0\":\" \",\"xaxis\":\"x\",\"y\":[\"Species_Bream\",\"Species_Bream\",\"Species_Bream\",\"Species_Bream\",\"Species_Bream\",\"Species_Bream\",\"Species_Bream\",\"Species_Bream\",\"Species_Bream\",\"Species_Bream\",\"Species_Bream\",\"Species_Bream\",\"Species_Bream\",\"Species_Bream\",\"Species_Bream\",\"Species_Bream\",\"Species_Bream\",\"Species_Bream\",\"Species_Bream\",\"Species_Bream\",\"Species_Bream\",\"Species_Bream\",\"Species_Bream\",\"Species_Bream\",\"Species_Bream\"],\"y0\":\" \",\"yaxis\":\"y\",\"type\":\"box\"},{\"alignmentgroup\":\"True\",\"hovertemplate\":\"Column=%{y}<br>Value=%{x}<extra></extra>\",\"legendgroup\":\"Species_Parkki\",\"marker\":{\"color\":\"#EF553B\"},\"name\":\"Species_Parkki\",\"notched\":false,\"offsetgroup\":\"Species_Parkki\",\"orientation\":\"h\",\"showlegend\":true,\"x\":[-19.369687445669264,10.32568732181006,12.264674693547375,12.580739228503942,25.05435202465184,0.21120672459574663,9.069992464787791,11.100276047716468,8.856941248319005,15.307728115304066,5.174336010865575,8.439843172596085,0.7809505341676388,12.229482358387715,11.921611759705474,11.56644650303877,6.5161715667351015,-13.227653007129254,10.477378606397675,14.585478604166395,7.100677148951452,1.643737056816733,7.892642448215901,14.0234527656997,12.369832037648717],\"x0\":\" \",\"xaxis\":\"x\",\"y\":[\"Species_Parkki\",\"Species_Parkki\",\"Species_Parkki\",\"Species_Parkki\",\"Species_Parkki\",\"Species_Parkki\",\"Species_Parkki\",\"Species_Parkki\",\"Species_Parkki\",\"Species_Parkki\",\"Species_Parkki\",\"Species_Parkki\",\"Species_Parkki\",\"Species_Parkki\",\"Species_Parkki\",\"Species_Parkki\",\"Species_Parkki\",\"Species_Parkki\",\"Species_Parkki\",\"Species_Parkki\",\"Species_Parkki\",\"Species_Parkki\",\"Species_Parkki\",\"Species_Parkki\",\"Species_Parkki\"],\"y0\":\" \",\"yaxis\":\"y\",\"type\":\"box\"},{\"alignmentgroup\":\"True\",\"hovertemplate\":\"Column=%{y}<br>Value=%{x}<extra></extra>\",\"legendgroup\":\"Species_Perch\",\"marker\":{\"color\":\"#00cc96\"},\"name\":\"Species_Perch\",\"notched\":false,\"offsetgroup\":\"Species_Perch\",\"orientation\":\"h\",\"showlegend\":true,\"x\":[18.627427788427816,1.611040613834481,7.25652821471934,-2.375857933304831,0.39665976803609676,6.03703812620594,5.139892016842447,-5.322067834190596,8.48547073220464,7.275444476717565,14.350072906137214,4.718050086575647,3.1283276319947904,7.88938492495429,-2.0195567634188976,2.8870293617209715,19.13469108289037,1.210585774727532,6.341025387201408,1.806625486244801,6.299921214232463,12.869864497497343,6.367872509187553,-1.2737889265462397,0.8910959953762978],\"x0\":\" \",\"xaxis\":\"x\",\"y\":[\"Species_Perch\",\"Species_Perch\",\"Species_Perch\",\"Species_Perch\",\"Species_Perch\",\"Species_Perch\",\"Species_Perch\",\"Species_Perch\",\"Species_Perch\",\"Species_Perch\",\"Species_Perch\",\"Species_Perch\",\"Species_Perch\",\"Species_Perch\",\"Species_Perch\",\"Species_Perch\",\"Species_Perch\",\"Species_Perch\",\"Species_Perch\",\"Species_Perch\",\"Species_Perch\",\"Species_Perch\",\"Species_Perch\",\"Species_Perch\",\"Species_Perch\"],\"y0\":\" \",\"yaxis\":\"y\",\"type\":\"box\"},{\"alignmentgroup\":\"True\",\"hovertemplate\":\"Column=%{y}<br>Value=%{x}<extra></extra>\",\"legendgroup\":\"Species_Pike\",\"marker\":{\"color\":\"#ab63fa\"},\"name\":\"Species_Pike\",\"notched\":false,\"offsetgroup\":\"Species_Pike\",\"orientation\":\"h\",\"showlegend\":true,\"x\":[-21.716674269587923,-82.87658426818015,-107.53483909153259,-94.85177042926414,-125.09464888174811,-70.13901275222572,-81.75252155536333,-75.66973278663065,-97.76440443346911,-119.07439708541347,-79.9262172470461,-93.95756498814103,-50.60184340955584,-92.72040940863339,-115.09169462976213,-88.99089347078483,-84.61217180652974,-18.556481656856775,-111.60076447590379,-100.47597550369248,-79.31153567848575,-86.4008119979474,-93.1796075482741,-89.96537015624669,-90.76162005092009],\"x0\":\" \",\"xaxis\":\"x\",\"y\":[\"Species_Pike\",\"Species_Pike\",\"Species_Pike\",\"Species_Pike\",\"Species_Pike\",\"Species_Pike\",\"Species_Pike\",\"Species_Pike\",\"Species_Pike\",\"Species_Pike\",\"Species_Pike\",\"Species_Pike\",\"Species_Pike\",\"Species_Pike\",\"Species_Pike\",\"Species_Pike\",\"Species_Pike\",\"Species_Pike\",\"Species_Pike\",\"Species_Pike\",\"Species_Pike\",\"Species_Pike\",\"Species_Pike\",\"Species_Pike\",\"Species_Pike\"],\"y0\":\" \",\"yaxis\":\"y\",\"type\":\"box\"},{\"alignmentgroup\":\"True\",\"hovertemplate\":\"Column=%{y}<br>Value=%{x}<extra></extra>\",\"legendgroup\":\"Species_Roach\",\"marker\":{\"color\":\"#FFA15A\"},\"name\":\"Species_Roach\",\"notched\":false,\"offsetgroup\":\"Species_Roach\",\"orientation\":\"h\",\"showlegend\":true,\"x\":[1.385492900385771,-4.6816424284224905,1.564889300604509,-11.624862088544857,-2.9173223523613547,-7.394381078621329,1.0610354004830966,-9.464815759237828,-0.873776677233317,-0.07474253865392516,-3.964191556414511,-3.8893134276156367,-6.107903910421523,-5.702698546459963,1.8146402586358203,0.10104810320005021,0.7673960022544256,-7.696631016332373,-1.074791001117683,-7.345214304997902,-3.5505121258004855,-6.559813222956002,1.4881826273784358,-5.06718492911603,-3.53883668653156],\"x0\":\" \",\"xaxis\":\"x\",\"y\":[\"Species_Roach\",\"Species_Roach\",\"Species_Roach\",\"Species_Roach\",\"Species_Roach\",\"Species_Roach\",\"Species_Roach\",\"Species_Roach\",\"Species_Roach\",\"Species_Roach\",\"Species_Roach\",\"Species_Roach\",\"Species_Roach\",\"Species_Roach\",\"Species_Roach\",\"Species_Roach\",\"Species_Roach\",\"Species_Roach\",\"Species_Roach\",\"Species_Roach\",\"Species_Roach\",\"Species_Roach\",\"Species_Roach\",\"Species_Roach\",\"Species_Roach\"],\"y0\":\" \",\"yaxis\":\"y\",\"type\":\"box\"},{\"alignmentgroup\":\"True\",\"hovertemplate\":\"Column=%{y}<br>Value=%{x}<extra></extra>\",\"legendgroup\":\"Species_Smelt\",\"marker\":{\"color\":\"#19d3f3\"},\"name\":\"Species_Smelt\",\"notched\":false,\"offsetgroup\":\"Species_Smelt\",\"orientation\":\"h\",\"showlegend\":true,\"x\":[89.71369891573613,72.54466938384475,76.09336385594001,65.60859443885758,77.29988876435715,77.80411801109129,83.17664201322481,71.25322960159066,79.02682404623572,68.45119363880806,59.929578728725765,82.51625331948819,76.20820508849633,79.22549112614867,84.32709533738463,67.43429863829158,83.4190382159906,85.74073057162444,79.84724596683964,69.09229991830202,82.89021562755762,75.05664346625092,74.67766710159911,80.07169226559853,65.94013246140918],\"x0\":\" \",\"xaxis\":\"x\",\"y\":[\"Species_Smelt\",\"Species_Smelt\",\"Species_Smelt\",\"Species_Smelt\",\"Species_Smelt\",\"Species_Smelt\",\"Species_Smelt\",\"Species_Smelt\",\"Species_Smelt\",\"Species_Smelt\",\"Species_Smelt\",\"Species_Smelt\",\"Species_Smelt\",\"Species_Smelt\",\"Species_Smelt\",\"Species_Smelt\",\"Species_Smelt\",\"Species_Smelt\",\"Species_Smelt\",\"Species_Smelt\",\"Species_Smelt\",\"Species_Smelt\",\"Species_Smelt\",\"Species_Smelt\",\"Species_Smelt\"],\"y0\":\" \",\"yaxis\":\"y\",\"type\":\"box\"},{\"alignmentgroup\":\"True\",\"hovertemplate\":\"Column=%{y}<br>Value=%{x}<extra></extra>\",\"legendgroup\":\"Species_Whitefish\",\"marker\":{\"color\":\"#FF6692\"},\"name\":\"Species_Whitefish\",\"notched\":false,\"offsetgroup\":\"Species_Whitefish\",\"orientation\":\"h\",\"showlegend\":true,\"x\":[-6.394362246174751,-0.9151345290841135,5.9350471938685105,8.132209645346775,2.176209680282026,4.134644237948859,-1.4377072680859804,1.5426538442092212,2.521698016219625,5.487780073863577,4.6821073177770804,2.1189587824317027,-0.05436082343881748,1.8168840060945886,1.4869357686977371,3.845188778757725,4.968463829159759,-1.8574019140560203,-0.3258860400191647,2.6536527105603303,-4.341181374774086,8.018601809579375,6.525554700223171,0.3570043013025626,0.8342765441972836],\"x0\":\" \",\"xaxis\":\"x\",\"y\":[\"Species_Whitefish\",\"Species_Whitefish\",\"Species_Whitefish\",\"Species_Whitefish\",\"Species_Whitefish\",\"Species_Whitefish\",\"Species_Whitefish\",\"Species_Whitefish\",\"Species_Whitefish\",\"Species_Whitefish\",\"Species_Whitefish\",\"Species_Whitefish\",\"Species_Whitefish\",\"Species_Whitefish\",\"Species_Whitefish\",\"Species_Whitefish\",\"Species_Whitefish\",\"Species_Whitefish\",\"Species_Whitefish\",\"Species_Whitefish\",\"Species_Whitefish\",\"Species_Whitefish\",\"Species_Whitefish\",\"Species_Whitefish\",\"Species_Whitefish\"],\"y0\":\" \",\"yaxis\":\"y\",\"type\":\"box\"},{\"alignmentgroup\":\"True\",\"hovertemplate\":\"Column=%{y}<br>Value=%{x}<extra></extra>\",\"legendgroup\":\"Length1\",\"marker\":{\"color\":\"#B6E880\"},\"name\":\"Length1\",\"notched\":false,\"offsetgroup\":\"Length1\",\"orientation\":\"h\",\"showlegend\":true,\"x\":[236.78392261501153,345.66659334852983,438.22400470578145,400.9684370875263,442.8930333934238,334.11016955972923,379.81741365519804,323.0390322679576,413.0683802293354,440.44457940233167,374.69295197995154,397.85458750838643,262.4939638290433,397.5167945951702,430.3330076625046,391.33983606375466,441.95544969736574,166.44116222735778,409.1643617047796,405.3644827701607,399.36325920112233,368.07017005721764,369.1161077862838,359.5994896850328,386.4367668154994],\"x0\":\" \",\"xaxis\":\"x\",\"y\":[\"Length1\",\"Length1\",\"Length1\",\"Length1\",\"Length1\",\"Length1\",\"Length1\",\"Length1\",\"Length1\",\"Length1\",\"Length1\",\"Length1\",\"Length1\",\"Length1\",\"Length1\",\"Length1\",\"Length1\",\"Length1\",\"Length1\",\"Length1\",\"Length1\",\"Length1\",\"Length1\",\"Length1\",\"Length1\"],\"y0\":\" \",\"yaxis\":\"y\",\"type\":\"box\"},{\"alignmentgroup\":\"True\",\"hovertemplate\":\"Column=%{y}<br>Value=%{x}<extra></extra>\",\"legendgroup\":\"Height\",\"marker\":{\"color\":\"#FF97FF\"},\"name\":\"Height\",\"notched\":false,\"offsetgroup\":\"Height\",\"orientation\":\"h\",\"showlegend\":true,\"x\":[174.42367536162442,60.40651036880353,65.68750897124204,18.829428668364343,-2.790861062345371,96.08512731583434,70.8011941742891,18.984323670536895,57.30788519306732,50.02278420730723,77.92533894383963,45.695636239257325,97.03799846778715,61.8284028061347,35.63643877422352,35.1490938796049,108.05732489170019,159.93274897700934,46.548815857552235,24.193154882199728,50.89307716827322,94.57086572524318,78.06514208861331,37.485258854624526,38.083899166063176],\"x0\":\" \",\"xaxis\":\"x\",\"y\":[\"Height\",\"Height\",\"Height\",\"Height\",\"Height\",\"Height\",\"Height\",\"Height\",\"Height\",\"Height\",\"Height\",\"Height\",\"Height\",\"Height\",\"Height\",\"Height\",\"Height\",\"Height\",\"Height\",\"Height\",\"Height\",\"Height\",\"Height\",\"Height\",\"Height\"],\"y0\":\" \",\"yaxis\":\"y\",\"type\":\"box\"},{\"alignmentgroup\":\"True\",\"hovertemplate\":\"Column=%{y}<br>Value=%{x}<extra></extra>\",\"legendgroup\":\"Width\",\"marker\":{\"color\":\"#FECB52\"},\"name\":\"Width\",\"notched\":false,\"offsetgroup\":\"Width\",\"orientation\":\"h\",\"showlegend\":true,\"x\":[23.726883229512023,34.23375379739549,-52.20492481971568,9.050177325311296,-0.9324037676436611,11.382219437427025,-11.954304184403282,52.33558519076497,-7.31868122458697,-37.87973081118376,-23.46525698659516,3.845007412683019,45.53118833282208,-8.335796536549429,-3.487504974920849,-9.554278976240532,-74.40724318200789,87.1867682253005,1.695761992710159,11.131980780523804,-2.8626252807175225,-21.055593350353625,-8.548760648060348,30.78218028392787,10.190153389614652],\"x0\":\" \",\"xaxis\":\"x\",\"y\":[\"Width\",\"Width\",\"Width\",\"Width\",\"Width\",\"Width\",\"Width\",\"Width\",\"Width\",\"Width\",\"Width\",\"Width\",\"Width\",\"Width\",\"Width\",\"Width\",\"Width\",\"Width\",\"Width\",\"Width\",\"Width\",\"Width\",\"Width\",\"Width\",\"Width\"],\"y0\":\" \",\"yaxis\":\"y\",\"type\":\"box\"}],                        {\"template\":{\"data\":{\"histogram2dcontour\":[{\"type\":\"histogram2dcontour\",\"colorbar\":{\"outlinewidth\":0,\"ticks\":\"\"},\"colorscale\":[[0.0,\"#0d0887\"],[0.1111111111111111,\"#46039f\"],[0.2222222222222222,\"#7201a8\"],[0.3333333333333333,\"#9c179e\"],[0.4444444444444444,\"#bd3786\"],[0.5555555555555556,\"#d8576b\"],[0.6666666666666666,\"#ed7953\"],[0.7777777777777778,\"#fb9f3a\"],[0.8888888888888888,\"#fdca26\"],[1.0,\"#f0f921\"]]}],\"choropleth\":[{\"type\":\"choropleth\",\"colorbar\":{\"outlinewidth\":0,\"ticks\":\"\"}}],\"histogram2d\":[{\"type\":\"histogram2d\",\"colorbar\":{\"outlinewidth\":0,\"ticks\":\"\"},\"colorscale\":[[0.0,\"#0d0887\"],[0.1111111111111111,\"#46039f\"],[0.2222222222222222,\"#7201a8\"],[0.3333333333333333,\"#9c179e\"],[0.4444444444444444,\"#bd3786\"],[0.5555555555555556,\"#d8576b\"],[0.6666666666666666,\"#ed7953\"],[0.7777777777777778,\"#fb9f3a\"],[0.8888888888888888,\"#fdca26\"],[1.0,\"#f0f921\"]]}],\"heatmap\":[{\"type\":\"heatmap\",\"colorbar\":{\"outlinewidth\":0,\"ticks\":\"\"},\"colorscale\":[[0.0,\"#0d0887\"],[0.1111111111111111,\"#46039f\"],[0.2222222222222222,\"#7201a8\"],[0.3333333333333333,\"#9c179e\"],[0.4444444444444444,\"#bd3786\"],[0.5555555555555556,\"#d8576b\"],[0.6666666666666666,\"#ed7953\"],[0.7777777777777778,\"#fb9f3a\"],[0.8888888888888888,\"#fdca26\"],[1.0,\"#f0f921\"]]}],\"heatmapgl\":[{\"type\":\"heatmapgl\",\"colorbar\":{\"outlinewidth\":0,\"ticks\":\"\"},\"colorscale\":[[0.0,\"#0d0887\"],[0.1111111111111111,\"#46039f\"],[0.2222222222222222,\"#7201a8\"],[0.3333333333333333,\"#9c179e\"],[0.4444444444444444,\"#bd3786\"],[0.5555555555555556,\"#d8576b\"],[0.6666666666666666,\"#ed7953\"],[0.7777777777777778,\"#fb9f3a\"],[0.8888888888888888,\"#fdca26\"],[1.0,\"#f0f921\"]]}],\"contourcarpet\":[{\"type\":\"contourcarpet\",\"colorbar\":{\"outlinewidth\":0,\"ticks\":\"\"}}],\"contour\":[{\"type\":\"contour\",\"colorbar\":{\"outlinewidth\":0,\"ticks\":\"\"},\"colorscale\":[[0.0,\"#0d0887\"],[0.1111111111111111,\"#46039f\"],[0.2222222222222222,\"#7201a8\"],[0.3333333333333333,\"#9c179e\"],[0.4444444444444444,\"#bd3786\"],[0.5555555555555556,\"#d8576b\"],[0.6666666666666666,\"#ed7953\"],[0.7777777777777778,\"#fb9f3a\"],[0.8888888888888888,\"#fdca26\"],[1.0,\"#f0f921\"]]}],\"surface\":[{\"type\":\"surface\",\"colorbar\":{\"outlinewidth\":0,\"ticks\":\"\"},\"colorscale\":[[0.0,\"#0d0887\"],[0.1111111111111111,\"#46039f\"],[0.2222222222222222,\"#7201a8\"],[0.3333333333333333,\"#9c179e\"],[0.4444444444444444,\"#bd3786\"],[0.5555555555555556,\"#d8576b\"],[0.6666666666666666,\"#ed7953\"],[0.7777777777777778,\"#fb9f3a\"],[0.8888888888888888,\"#fdca26\"],[1.0,\"#f0f921\"]]}],\"mesh3d\":[{\"type\":\"mesh3d\",\"colorbar\":{\"outlinewidth\":0,\"ticks\":\"\"}}],\"scatter\":[{\"fillpattern\":{\"fillmode\":\"overlay\",\"size\":10,\"solidity\":0.2},\"type\":\"scatter\"}],\"parcoords\":[{\"type\":\"parcoords\",\"line\":{\"colorbar\":{\"outlinewidth\":0,\"ticks\":\"\"}}}],\"scatterpolargl\":[{\"type\":\"scatterpolargl\",\"marker\":{\"colorbar\":{\"outlinewidth\":0,\"ticks\":\"\"}}}],\"bar\":[{\"error_x\":{\"color\":\"#2a3f5f\"},\"error_y\":{\"color\":\"#2a3f5f\"},\"marker\":{\"line\":{\"color\":\"#E5ECF6\",\"width\":0.5},\"pattern\":{\"fillmode\":\"overlay\",\"size\":10,\"solidity\":0.2}},\"type\":\"bar\"}],\"scattergeo\":[{\"type\":\"scattergeo\",\"marker\":{\"colorbar\":{\"outlinewidth\":0,\"ticks\":\"\"}}}],\"scatterpolar\":[{\"type\":\"scatterpolar\",\"marker\":{\"colorbar\":{\"outlinewidth\":0,\"ticks\":\"\"}}}],\"histogram\":[{\"marker\":{\"pattern\":{\"fillmode\":\"overlay\",\"size\":10,\"solidity\":0.2}},\"type\":\"histogram\"}],\"scattergl\":[{\"type\":\"scattergl\",\"marker\":{\"colorbar\":{\"outlinewidth\":0,\"ticks\":\"\"}}}],\"scatter3d\":[{\"type\":\"scatter3d\",\"line\":{\"colorbar\":{\"outlinewidth\":0,\"ticks\":\"\"}},\"marker\":{\"colorbar\":{\"outlinewidth\":0,\"ticks\":\"\"}}}],\"scattermapbox\":[{\"type\":\"scattermapbox\",\"marker\":{\"colorbar\":{\"outlinewidth\":0,\"ticks\":\"\"}}}],\"scatterternary\":[{\"type\":\"scatterternary\",\"marker\":{\"colorbar\":{\"outlinewidth\":0,\"ticks\":\"\"}}}],\"scattercarpet\":[{\"type\":\"scattercarpet\",\"marker\":{\"colorbar\":{\"outlinewidth\":0,\"ticks\":\"\"}}}],\"carpet\":[{\"aaxis\":{\"endlinecolor\":\"#2a3f5f\",\"gridcolor\":\"white\",\"linecolor\":\"white\",\"minorgridcolor\":\"white\",\"startlinecolor\":\"#2a3f5f\"},\"baxis\":{\"endlinecolor\":\"#2a3f5f\",\"gridcolor\":\"white\",\"linecolor\":\"white\",\"minorgridcolor\":\"white\",\"startlinecolor\":\"#2a3f5f\"},\"type\":\"carpet\"}],\"table\":[{\"cells\":{\"fill\":{\"color\":\"#EBF0F8\"},\"line\":{\"color\":\"white\"}},\"header\":{\"fill\":{\"color\":\"#C8D4E3\"},\"line\":{\"color\":\"white\"}},\"type\":\"table\"}],\"barpolar\":[{\"marker\":{\"line\":{\"color\":\"#E5ECF6\",\"width\":0.5},\"pattern\":{\"fillmode\":\"overlay\",\"size\":10,\"solidity\":0.2}},\"type\":\"barpolar\"}],\"pie\":[{\"automargin\":true,\"type\":\"pie\"}]},\"layout\":{\"autotypenumbers\":\"strict\",\"colorway\":[\"#636efa\",\"#EF553B\",\"#00cc96\",\"#ab63fa\",\"#FFA15A\",\"#19d3f3\",\"#FF6692\",\"#B6E880\",\"#FF97FF\",\"#FECB52\"],\"font\":{\"color\":\"#2a3f5f\"},\"hovermode\":\"closest\",\"hoverlabel\":{\"align\":\"left\"},\"paper_bgcolor\":\"white\",\"plot_bgcolor\":\"#E5ECF6\",\"polar\":{\"bgcolor\":\"#E5ECF6\",\"angularaxis\":{\"gridcolor\":\"white\",\"linecolor\":\"white\",\"ticks\":\"\"},\"radialaxis\":{\"gridcolor\":\"white\",\"linecolor\":\"white\",\"ticks\":\"\"}},\"ternary\":{\"bgcolor\":\"#E5ECF6\",\"aaxis\":{\"gridcolor\":\"white\",\"linecolor\":\"white\",\"ticks\":\"\"},\"baxis\":{\"gridcolor\":\"white\",\"linecolor\":\"white\",\"ticks\":\"\"},\"caxis\":{\"gridcolor\":\"white\",\"linecolor\":\"white\",\"ticks\":\"\"}},\"coloraxis\":{\"colorbar\":{\"outlinewidth\":0,\"ticks\":\"\"}},\"colorscale\":{\"sequential\":[[0.0,\"#0d0887\"],[0.1111111111111111,\"#46039f\"],[0.2222222222222222,\"#7201a8\"],[0.3333333333333333,\"#9c179e\"],[0.4444444444444444,\"#bd3786\"],[0.5555555555555556,\"#d8576b\"],[0.6666666666666666,\"#ed7953\"],[0.7777777777777778,\"#fb9f3a\"],[0.8888888888888888,\"#fdca26\"],[1.0,\"#f0f921\"]],\"sequentialminus\":[[0.0,\"#0d0887\"],[0.1111111111111111,\"#46039f\"],[0.2222222222222222,\"#7201a8\"],[0.3333333333333333,\"#9c179e\"],[0.4444444444444444,\"#bd3786\"],[0.5555555555555556,\"#d8576b\"],[0.6666666666666666,\"#ed7953\"],[0.7777777777777778,\"#fb9f3a\"],[0.8888888888888888,\"#fdca26\"],[1.0,\"#f0f921\"]],\"diverging\":[[0,\"#8e0152\"],[0.1,\"#c51b7d\"],[0.2,\"#de77ae\"],[0.3,\"#f1b6da\"],[0.4,\"#fde0ef\"],[0.5,\"#f7f7f7\"],[0.6,\"#e6f5d0\"],[0.7,\"#b8e186\"],[0.8,\"#7fbc41\"],[0.9,\"#4d9221\"],[1,\"#276419\"]]},\"xaxis\":{\"gridcolor\":\"white\",\"linecolor\":\"white\",\"ticks\":\"\",\"title\":{\"standoff\":15},\"zerolinecolor\":\"white\",\"automargin\":true,\"zerolinewidth\":2},\"yaxis\":{\"gridcolor\":\"white\",\"linecolor\":\"white\",\"ticks\":\"\",\"title\":{\"standoff\":15},\"zerolinecolor\":\"white\",\"automargin\":true,\"zerolinewidth\":2},\"scene\":{\"xaxis\":{\"backgroundcolor\":\"#E5ECF6\",\"gridcolor\":\"white\",\"linecolor\":\"white\",\"showbackground\":true,\"ticks\":\"\",\"zerolinecolor\":\"white\",\"gridwidth\":2},\"yaxis\":{\"backgroundcolor\":\"#E5ECF6\",\"gridcolor\":\"white\",\"linecolor\":\"white\",\"showbackground\":true,\"ticks\":\"\",\"zerolinecolor\":\"white\",\"gridwidth\":2},\"zaxis\":{\"backgroundcolor\":\"#E5ECF6\",\"gridcolor\":\"white\",\"linecolor\":\"white\",\"showbackground\":true,\"ticks\":\"\",\"zerolinecolor\":\"white\",\"gridwidth\":2}},\"shapedefaults\":{\"line\":{\"color\":\"#2a3f5f\"}},\"annotationdefaults\":{\"arrowcolor\":\"#2a3f5f\",\"arrowhead\":0,\"arrowwidth\":1},\"geo\":{\"bgcolor\":\"white\",\"landcolor\":\"#E5ECF6\",\"subunitcolor\":\"white\",\"showland\":true,\"showlakes\":true,\"lakecolor\":\"white\"},\"title\":{\"x\":0.05},\"mapbox\":{\"style\":\"light\"}}},\"xaxis\":{\"anchor\":\"y\",\"domain\":[0.0,1.0],\"title\":{\"text\":\"Value\"}},\"yaxis\":{\"anchor\":\"x\",\"domain\":[0.0,1.0],\"title\":{\"text\":\"Column\"},\"categoryorder\":\"array\",\"categoryarray\":[\"Width\",\"Height\",\"Length1\",\"Species_Whitefish\",\"Species_Smelt\",\"Species_Roach\",\"Species_Pike\",\"Species_Perch\",\"Species_Parkki\",\"Species_Bream\"]},\"legend\":{\"title\":{\"text\":\"Column\"},\"tracegroupgap\":0},\"margin\":{\"t\":60},\"boxmode\":\"overlay\",\"height\":800,\"width\":1000},                        {\"responsive\": true}                    ).then(function(){\n",
              "                            \n",
              "var gd = document.getElementById('0f3d3f60-8762-480c-848d-60e156ca019b');\n",
              "var x = new MutationObserver(function (mutations, observer) {{\n",
              "        var display = window.getComputedStyle(gd).display;\n",
              "        if (!display || display === 'none') {{\n",
              "            console.log([gd, 'removed!']);\n",
              "            Plotly.purge(gd);\n",
              "            observer.disconnect();\n",
              "        }}\n",
              "}});\n",
              "\n",
              "// Listen for the removal of the full notebook cells\n",
              "var notebookContainer = gd.closest('#notebook-container');\n",
              "if (notebookContainer) {{\n",
              "    x.observe(notebookContainer, {childList: true});\n",
              "}}\n",
              "\n",
              "// Listen for the clearing of the current output cell\n",
              "var outputEl = gd.closest('.output');\n",
              "if (outputEl) {{\n",
              "    x.observe(outputEl, {childList: true});\n",
              "}}\n",
              "\n",
              "                        })                };                            </script>        </div>\n",
              "</body>\n",
              "</html>"
            ]
          },
          "metadata": {}
        }
      ]
    },
    {
      "cell_type": "markdown",
      "source": [
        "## Preprocessing numerical variables\n",
        "\n",
        "In this case, it creates a preprocessor that consists of two transformers:\n",
        "\n",
        "1. The first transformer, **OneHotEncoder**, is applied to the *categorical_columns* and specifies drop=\"if_binary\". It encodes categorical features using a one-hot encoding scheme, which creates binary columns for each unique category. The drop parameter specifies that if a categorical feature has only two unique categories, one of the binary columns should be dropped to avoid multicollinearity.\n",
        "\n",
        "1. The second transformer, **StandardScaler**, is applied to the *numerical_columns*. It standardizes numerical features by removing the mean and scaling to unit variance. This transformation ensures that the numerical features have similar scales, which can be beneficial for certain models and algorithms.\n",
        "\n",
        "By combining these transformers using make_column_transformer, you can create a single preprocessor that can handle both categorical and numerical features."
      ],
      "metadata": {
        "id": "_wErueqEXNFg"
      }
    },
    {
      "cell_type": "code",
      "source": [
        "from sklearn.preprocessing import StandardScaler\n",
        "\n",
        "preprocessor = make_column_transformer(\n",
        "    (OneHotEncoder(drop=\"if_binary\"), categorical_columns),\n",
        "    (StandardScaler(), numerical_columns),\n",
        ")"
      ],
      "metadata": {
        "id": "G6xb8mNOX8eB"
      },
      "execution_count": 135,
      "outputs": []
    },
    {
      "cell_type": "code",
      "source": [
        "model = make_pipeline(\n",
        "    preprocessor,\n",
        "    TransformedTargetRegressor(\n",
        "        regressor=Ridge(alpha=1e-10), func=None, inverse_func=None\n",
        "    ),\n",
        ")\n",
        "model.fit(X_train, y_train)"
      ],
      "metadata": {
        "colab": {
          "base_uri": "https://localhost:8080/",
          "height": 257
        },
        "id": "Ttfb1JGwYAHw",
        "outputId": "3afd0594-ca79-44cb-f951-b54f71f3d51a"
      },
      "execution_count": 137,
      "outputs": [
        {
          "output_type": "execute_result",
          "data": {
            "text/plain": [
              "Pipeline(steps=[('columntransformer',\n",
              "                 ColumnTransformer(transformers=[('onehotencoder',\n",
              "                                                  OneHotEncoder(drop='if_binary'),\n",
              "                                                  ['Species']),\n",
              "                                                 ('standardscaler',\n",
              "                                                  StandardScaler(),\n",
              "                                                  ['Length1', 'Length2',\n",
              "                                                   'Length3', 'Height',\n",
              "                                                   'Width'])])),\n",
              "                ('transformedtargetregressor',\n",
              "                 TransformedTargetRegressor(regressor=Ridge(alpha=1e-10)))])"
            ],
            "text/html": [
              "<style>#sk-container-id-4 {color: black;background-color: white;}#sk-container-id-4 pre{padding: 0;}#sk-container-id-4 div.sk-toggleable {background-color: white;}#sk-container-id-4 label.sk-toggleable__label {cursor: pointer;display: block;width: 100%;margin-bottom: 0;padding: 0.3em;box-sizing: border-box;text-align: center;}#sk-container-id-4 label.sk-toggleable__label-arrow:before {content: \"▸\";float: left;margin-right: 0.25em;color: #696969;}#sk-container-id-4 label.sk-toggleable__label-arrow:hover:before {color: black;}#sk-container-id-4 div.sk-estimator:hover label.sk-toggleable__label-arrow:before {color: black;}#sk-container-id-4 div.sk-toggleable__content {max-height: 0;max-width: 0;overflow: hidden;text-align: left;background-color: #f0f8ff;}#sk-container-id-4 div.sk-toggleable__content pre {margin: 0.2em;color: black;border-radius: 0.25em;background-color: #f0f8ff;}#sk-container-id-4 input.sk-toggleable__control:checked~div.sk-toggleable__content {max-height: 200px;max-width: 100%;overflow: auto;}#sk-container-id-4 input.sk-toggleable__control:checked~label.sk-toggleable__label-arrow:before {content: \"▾\";}#sk-container-id-4 div.sk-estimator input.sk-toggleable__control:checked~label.sk-toggleable__label {background-color: #d4ebff;}#sk-container-id-4 div.sk-label input.sk-toggleable__control:checked~label.sk-toggleable__label {background-color: #d4ebff;}#sk-container-id-4 input.sk-hidden--visually {border: 0;clip: rect(1px 1px 1px 1px);clip: rect(1px, 1px, 1px, 1px);height: 1px;margin: -1px;overflow: hidden;padding: 0;position: absolute;width: 1px;}#sk-container-id-4 div.sk-estimator {font-family: monospace;background-color: #f0f8ff;border: 1px dotted black;border-radius: 0.25em;box-sizing: border-box;margin-bottom: 0.5em;}#sk-container-id-4 div.sk-estimator:hover {background-color: #d4ebff;}#sk-container-id-4 div.sk-parallel-item::after {content: \"\";width: 100%;border-bottom: 1px solid gray;flex-grow: 1;}#sk-container-id-4 div.sk-label:hover label.sk-toggleable__label {background-color: #d4ebff;}#sk-container-id-4 div.sk-serial::before {content: \"\";position: absolute;border-left: 1px solid gray;box-sizing: border-box;top: 0;bottom: 0;left: 50%;z-index: 0;}#sk-container-id-4 div.sk-serial {display: flex;flex-direction: column;align-items: center;background-color: white;padding-right: 0.2em;padding-left: 0.2em;position: relative;}#sk-container-id-4 div.sk-item {position: relative;z-index: 1;}#sk-container-id-4 div.sk-parallel {display: flex;align-items: stretch;justify-content: center;background-color: white;position: relative;}#sk-container-id-4 div.sk-item::before, #sk-container-id-4 div.sk-parallel-item::before {content: \"\";position: absolute;border-left: 1px solid gray;box-sizing: border-box;top: 0;bottom: 0;left: 50%;z-index: -1;}#sk-container-id-4 div.sk-parallel-item {display: flex;flex-direction: column;z-index: 1;position: relative;background-color: white;}#sk-container-id-4 div.sk-parallel-item:first-child::after {align-self: flex-end;width: 50%;}#sk-container-id-4 div.sk-parallel-item:last-child::after {align-self: flex-start;width: 50%;}#sk-container-id-4 div.sk-parallel-item:only-child::after {width: 0;}#sk-container-id-4 div.sk-dashed-wrapped {border: 1px dashed gray;margin: 0 0.4em 0.5em 0.4em;box-sizing: border-box;padding-bottom: 0.4em;background-color: white;}#sk-container-id-4 div.sk-label label {font-family: monospace;font-weight: bold;display: inline-block;line-height: 1.2em;}#sk-container-id-4 div.sk-label-container {text-align: center;}#sk-container-id-4 div.sk-container {/* jupyter's `normalize.less` sets `[hidden] { display: none; }` but bootstrap.min.css set `[hidden] { display: none !important; }` so we also need the `!important` here to be able to override the default hidden behavior on the sphinx rendered scikit-learn.org. See: https://github.com/scikit-learn/scikit-learn/issues/21755 */display: inline-block !important;position: relative;}#sk-container-id-4 div.sk-text-repr-fallback {display: none;}</style><div id=\"sk-container-id-4\" class=\"sk-top-container\"><div class=\"sk-text-repr-fallback\"><pre>Pipeline(steps=[(&#x27;columntransformer&#x27;,\n",
              "                 ColumnTransformer(transformers=[(&#x27;onehotencoder&#x27;,\n",
              "                                                  OneHotEncoder(drop=&#x27;if_binary&#x27;),\n",
              "                                                  [&#x27;Species&#x27;]),\n",
              "                                                 (&#x27;standardscaler&#x27;,\n",
              "                                                  StandardScaler(),\n",
              "                                                  [&#x27;Length1&#x27;, &#x27;Length2&#x27;,\n",
              "                                                   &#x27;Length3&#x27;, &#x27;Height&#x27;,\n",
              "                                                   &#x27;Width&#x27;])])),\n",
              "                (&#x27;transformedtargetregressor&#x27;,\n",
              "                 TransformedTargetRegressor(regressor=Ridge(alpha=1e-10)))])</pre><b>In a Jupyter environment, please rerun this cell to show the HTML representation or trust the notebook. <br />On GitHub, the HTML representation is unable to render, please try loading this page with nbviewer.org.</b></div><div class=\"sk-container\" hidden><div class=\"sk-item sk-dashed-wrapped\"><div class=\"sk-label-container\"><div class=\"sk-label sk-toggleable\"><input class=\"sk-toggleable__control sk-hidden--visually\" id=\"sk-estimator-id-28\" type=\"checkbox\" ><label for=\"sk-estimator-id-28\" class=\"sk-toggleable__label sk-toggleable__label-arrow\">Pipeline</label><div class=\"sk-toggleable__content\"><pre>Pipeline(steps=[(&#x27;columntransformer&#x27;,\n",
              "                 ColumnTransformer(transformers=[(&#x27;onehotencoder&#x27;,\n",
              "                                                  OneHotEncoder(drop=&#x27;if_binary&#x27;),\n",
              "                                                  [&#x27;Species&#x27;]),\n",
              "                                                 (&#x27;standardscaler&#x27;,\n",
              "                                                  StandardScaler(),\n",
              "                                                  [&#x27;Length1&#x27;, &#x27;Length2&#x27;,\n",
              "                                                   &#x27;Length3&#x27;, &#x27;Height&#x27;,\n",
              "                                                   &#x27;Width&#x27;])])),\n",
              "                (&#x27;transformedtargetregressor&#x27;,\n",
              "                 TransformedTargetRegressor(regressor=Ridge(alpha=1e-10)))])</pre></div></div></div><div class=\"sk-serial\"><div class=\"sk-item sk-dashed-wrapped\"><div class=\"sk-label-container\"><div class=\"sk-label sk-toggleable\"><input class=\"sk-toggleable__control sk-hidden--visually\" id=\"sk-estimator-id-29\" type=\"checkbox\" ><label for=\"sk-estimator-id-29\" class=\"sk-toggleable__label sk-toggleable__label-arrow\">columntransformer: ColumnTransformer</label><div class=\"sk-toggleable__content\"><pre>ColumnTransformer(transformers=[(&#x27;onehotencoder&#x27;,\n",
              "                                 OneHotEncoder(drop=&#x27;if_binary&#x27;), [&#x27;Species&#x27;]),\n",
              "                                (&#x27;standardscaler&#x27;, StandardScaler(),\n",
              "                                 [&#x27;Length1&#x27;, &#x27;Length2&#x27;, &#x27;Length3&#x27;, &#x27;Height&#x27;,\n",
              "                                  &#x27;Width&#x27;])])</pre></div></div></div><div class=\"sk-parallel\"><div class=\"sk-parallel-item\"><div class=\"sk-item\"><div class=\"sk-label-container\"><div class=\"sk-label sk-toggleable\"><input class=\"sk-toggleable__control sk-hidden--visually\" id=\"sk-estimator-id-30\" type=\"checkbox\" ><label for=\"sk-estimator-id-30\" class=\"sk-toggleable__label sk-toggleable__label-arrow\">onehotencoder</label><div class=\"sk-toggleable__content\"><pre>[&#x27;Species&#x27;]</pre></div></div></div><div class=\"sk-serial\"><div class=\"sk-item\"><div class=\"sk-estimator sk-toggleable\"><input class=\"sk-toggleable__control sk-hidden--visually\" id=\"sk-estimator-id-31\" type=\"checkbox\" ><label for=\"sk-estimator-id-31\" class=\"sk-toggleable__label sk-toggleable__label-arrow\">OneHotEncoder</label><div class=\"sk-toggleable__content\"><pre>OneHotEncoder(drop=&#x27;if_binary&#x27;)</pre></div></div></div></div></div></div><div class=\"sk-parallel-item\"><div class=\"sk-item\"><div class=\"sk-label-container\"><div class=\"sk-label sk-toggleable\"><input class=\"sk-toggleable__control sk-hidden--visually\" id=\"sk-estimator-id-32\" type=\"checkbox\" ><label for=\"sk-estimator-id-32\" class=\"sk-toggleable__label sk-toggleable__label-arrow\">standardscaler</label><div class=\"sk-toggleable__content\"><pre>[&#x27;Length1&#x27;, &#x27;Length2&#x27;, &#x27;Length3&#x27;, &#x27;Height&#x27;, &#x27;Width&#x27;]</pre></div></div></div><div class=\"sk-serial\"><div class=\"sk-item\"><div class=\"sk-estimator sk-toggleable\"><input class=\"sk-toggleable__control sk-hidden--visually\" id=\"sk-estimator-id-33\" type=\"checkbox\" ><label for=\"sk-estimator-id-33\" class=\"sk-toggleable__label sk-toggleable__label-arrow\">StandardScaler</label><div class=\"sk-toggleable__content\"><pre>StandardScaler()</pre></div></div></div></div></div></div></div></div><div class=\"sk-item sk-dashed-wrapped\"><div class=\"sk-label-container\"><div class=\"sk-label sk-toggleable\"><input class=\"sk-toggleable__control sk-hidden--visually\" id=\"sk-estimator-id-34\" type=\"checkbox\" ><label for=\"sk-estimator-id-34\" class=\"sk-toggleable__label sk-toggleable__label-arrow\">transformedtargetregressor: TransformedTargetRegressor</label><div class=\"sk-toggleable__content\"><pre>TransformedTargetRegressor(regressor=Ridge(alpha=1e-10))</pre></div></div></div><div class=\"sk-parallel\"><div class=\"sk-parallel-item\"><div class=\"sk-item\"><div class=\"sk-label-container\"><div class=\"sk-label sk-toggleable\"><input class=\"sk-toggleable__control sk-hidden--visually\" id=\"sk-estimator-id-35\" type=\"checkbox\" ><label for=\"sk-estimator-id-35\" class=\"sk-toggleable__label sk-toggleable__label-arrow\">regressor: Ridge</label><div class=\"sk-toggleable__content\"><pre>Ridge(alpha=1e-10)</pre></div></div></div><div class=\"sk-serial\"><div class=\"sk-item\"><div class=\"sk-estimator sk-toggleable\"><input class=\"sk-toggleable__control sk-hidden--visually\" id=\"sk-estimator-id-36\" type=\"checkbox\" ><label for=\"sk-estimator-id-36\" class=\"sk-toggleable__label sk-toggleable__label-arrow\">Ridge</label><div class=\"sk-toggleable__content\"><pre>Ridge(alpha=1e-10)</pre></div></div></div></div></div></div></div></div></div></div></div></div>"
            ]
          },
          "metadata": {},
          "execution_count": 137
        }
      ]
    },
    {
      "cell_type": "markdown",
      "source": [
        "## The performance AGAIN"
      ],
      "metadata": {
        "id": "smtpekDtYTNf"
      }
    },
    {
      "cell_type": "code",
      "source": [
        "mae_train = median_absolute_error(y_train, model.predict(X_train))\n",
        "mae_test  = median_absolute_error(y_test,  model.predict(X_test))\n",
        "\n",
        "\n",
        "scores = {\n",
        "    \"MedAE on training set\": f\"{mae_train:.2f}\",\n",
        "    \"MedAE on testing set\": f\"{mae_test:.2f}\",\n",
        "}\n",
        "\n",
        "print(scores)"
      ],
      "metadata": {
        "colab": {
          "base_uri": "https://localhost:8080/"
        },
        "id": "-2GzWMg_Y_Nb",
        "outputId": "edda5fd2-6adc-4731-ffb2-47a7f94b8ee2"
      },
      "execution_count": 139,
      "outputs": [
        {
          "output_type": "stream",
          "name": "stdout",
          "text": [
            "{'MedAE on training set': '54.08', 'MedAE on testing set': '58.65'}\n"
          ]
        }
      ]
    },
    {
      "cell_type": "code",
      "source": [
        "# Creating a DataFrame for the training set with a column 'Train' for differentiation\n",
        "train_df = pd.DataFrame(X_train, columns=X.columns)\n",
        "train_df['Target'] = y_train\n",
        "train_df['Data'] = 'Train'\n",
        "train_df['Prediction'] = model.predict(X_train)\n",
        "\n",
        "# Creating a DataFrame for the testing set with a column 'Test' for differentiation\n",
        "test_df = pd.DataFrame(X_test, columns=X.columns)\n",
        "test_df['Target'] = y_test\n",
        "test_df['Data'] = 'Test'\n",
        "test_df['Prediction'] = model.predict(X_test)\n",
        "\n",
        "\n",
        "# Concatenating the training and testing DataFrames\n",
        "combined_df = pd.concat([train_df, test_df], ignore_index=True)\n",
        "\n",
        "fig = px.scatter(\n",
        "    combined_df, x='Target', y='Prediction',\n",
        "    marginal_x='box', marginal_y='box',\n",
        "    color='Data', trendline='ols'\n",
        ")\n",
        "fig.update_traces(histnorm='probability', selector={'type':'histogram'})\n",
        "fig.add_shape(\n",
        "    type=\"line\", line=dict(dash='dash'),\n",
        "    x0=y.min(), y0=y.min(),\n",
        "    x1=y.max(), y1=y.max()\n",
        ")\n",
        "\n",
        "fig.show()"
      ],
      "metadata": {
        "colab": {
          "base_uri": "https://localhost:8080/",
          "height": 542
        },
        "id": "NG6eQ306YWhF",
        "outputId": "6d2f20d9-3cb1-48d7-c1c8-3725c10e010c"
      },
      "execution_count": 138,
      "outputs": [
        {
          "output_type": "display_data",
          "data": {
            "text/html": [
              "<html>\n",
              "<head><meta charset=\"utf-8\" /></head>\n",
              "<body>\n",
              "    <div>            <script src=\"https://cdnjs.cloudflare.com/ajax/libs/mathjax/2.7.5/MathJax.js?config=TeX-AMS-MML_SVG\"></script><script type=\"text/javascript\">if (window.MathJax && window.MathJax.Hub && window.MathJax.Hub.Config) {window.MathJax.Hub.Config({SVG: {font: \"STIX-Web\"}});}</script>                <script type=\"text/javascript\">window.PlotlyConfig = {MathJaxConfig: 'local'};</script>\n",
              "        <script src=\"https://cdn.plot.ly/plotly-2.18.2.min.js\"></script>                <div id=\"56eb1c72-2ded-4bc2-9aff-3f97a495fce9\" class=\"plotly-graph-div\" style=\"height:525px; width:100%;\"></div>            <script type=\"text/javascript\">                                    window.PLOTLYENV=window.PLOTLYENV || {};                                    if (document.getElementById(\"56eb1c72-2ded-4bc2-9aff-3f97a495fce9\")) {                    Plotly.newPlot(                        \"56eb1c72-2ded-4bc2-9aff-3f97a495fce9\",                        [{\"hovertemplate\":\"Data=Train<br>Target=%{x}<br>Prediction=%{y}<extra></extra>\",\"legendgroup\":\"Train\",\"marker\":{\"color\":\"#636efa\",\"symbol\":\"circle\"},\"mode\":\"markers\",\"name\":\"Train\",\"orientation\":\"v\",\"showlegend\":true,\"x\":[720.0,500.0,7.5,110.0,140.0,69.0,110.0,620.0,130.0,85.0,685.0,500.0,514.0,200.0,1000.0,714.0,8.7,1000.0,110.0,430.0,456.0,925.0,950.0,250.0,170.0,475.0,145.0,300.0,242.0,650.0,120.0,145.0,125.0,850.0,0.0,840.0,725.0,680.0,690.0,80.0,120.0,1600.0,265.0,12.2,345.0,160.0,850.0,55.0,32.0,975.0,320.0,9.7,1100.0,60.0,19.7,145.0,197.0,272.0,450.0,700.0,820.0,161.0,40.0,85.0,100.0,950.0,140.0,390.0,150.0,273.0,900.0,556.0,130.0,115.0,1550.0,1650.0,135.0,450.0,700.0,340.0,800.0,540.0,363.0,700.0,87.0,5.9,770.0,500.0,430.0,90.0,390.0,300.0,200.0,12.2,540.0,169.0,130.0,685.0,306.0,9.8,300.0,78.0,9.8,290.0,290.0,300.0,260.0,180.0,900.0,120.0,40.0,1015.0,19.9,575.0,300.0,250.0,600.0,150.0,300.0],\"xaxis\":\"x\",\"y\":[681.2691366892603,707.4292310846545,-65.55395407643971,171.1200890309047,184.3272288079143,7.061098898906948,131.8527950163305,654.8943696152252,135.76941263935845,68.405074845591,716.5465071574663,490.53801800817575,532.7338103213458,267.2423972376235,1002.77176152207,731.9342173348073,-29.996005704494905,978.8367505015892,100.46265939033987,446.6288459344363,577.9085808799844,848.9088595758219,973.8646647113075,356.4699128072499,176.5389244036146,513.7027762659638,190.29586415480793,384.3725197101211,288.3334137062704,796.1438340850373,103.01598504725024,125.54381784487589,132.35318868285162,726.1949067201076,72.708017166226,654.7876308534119,704.7997321911362,703.9746646176266,721.6885298772376,35.14793304182189,48.166571163860226,1324.4874710480553,357.67820510817546,12.119485964865362,425.93993001079525,146.34772413614598,867.4431539992672,-75.18131631872842,-186.3440278644573,894.9933406182504,456.79854307622713,-45.23188598115951,932.1346176325596,-40.82434905098211,100.41952621164262,233.4479463140859,294.23269005198625,367.75910447477054,487.2373493696573,728.8939349246509,865.6460871743891,198.8251422273905,-165.20483893493747,61.30733679574627,4.68878864541233,881.0402512094807,149.7258407127911,471.1911975556692,154.48562115264244,353.94283568212995,869.4785194564254,632.8159374102784,184.07638147295557,128.57525161820342,1324.4874710480553,1487.321655088665,165.61942767098253,462.22558997352235,659.5575079067878,548.9359594488603,720.7492484083133,615.6756752037096,438.40671633938064,588.7098491619491,65.46730462390474,-404.71449105440706,830.0082539832509,476.6875200349159,402.1250085946988,51.63829944375914,533.1934465993245,375.82494976991524,199.93979262725944,39.060729144983156,517.5313557185669,253.5303979246936,163.34600912445632,605.1396438358482,407.71939587291837,-4.149127362511649,301.4592151269306,8.170486911705382,-37.87821525526681,329.1504864884273,314.81781308040263,335.92032354690224,356.559876665714,267.86017957991953,802.7730493791096,167.89284621750875,-140.91722021124417,860.9742596028823,140.70944702937732,631.1291702696502,387.2999947372996,367.4917485496608,542.9739850395601,175.021403772749,341.8139926708717],\"yaxis\":\"y\",\"type\":\"scatter\"},{\"alignmentgroup\":\"True\",\"hovertemplate\":\"Data=Train<br>Target=%{x}<extra></extra>\",\"legendgroup\":\"Train\",\"marker\":{\"color\":\"#636efa\",\"symbol\":\"circle\"},\"name\":\"Train\",\"notched\":true,\"offsetgroup\":\"Train\",\"showlegend\":false,\"x\":[720.0,500.0,7.5,110.0,140.0,69.0,110.0,620.0,130.0,85.0,685.0,500.0,514.0,200.0,1000.0,714.0,8.7,1000.0,110.0,430.0,456.0,925.0,950.0,250.0,170.0,475.0,145.0,300.0,242.0,650.0,120.0,145.0,125.0,850.0,0.0,840.0,725.0,680.0,690.0,80.0,120.0,1600.0,265.0,12.2,345.0,160.0,850.0,55.0,32.0,975.0,320.0,9.7,1100.0,60.0,19.7,145.0,197.0,272.0,450.0,700.0,820.0,161.0,40.0,85.0,100.0,950.0,140.0,390.0,150.0,273.0,900.0,556.0,130.0,115.0,1550.0,1650.0,135.0,450.0,700.0,340.0,800.0,540.0,363.0,700.0,87.0,5.9,770.0,500.0,430.0,90.0,390.0,300.0,200.0,12.2,540.0,169.0,130.0,685.0,306.0,9.8,300.0,78.0,9.8,290.0,290.0,300.0,260.0,180.0,900.0,120.0,40.0,1015.0,19.9,575.0,300.0,250.0,600.0,150.0,300.0],\"xaxis\":\"x3\",\"yaxis\":\"y3\",\"type\":\"box\"},{\"alignmentgroup\":\"True\",\"hovertemplate\":\"Data=Train<br>Prediction=%{y}<extra></extra>\",\"legendgroup\":\"Train\",\"marker\":{\"color\":\"#636efa\",\"symbol\":\"circle\"},\"name\":\"Train\",\"notched\":true,\"offsetgroup\":\"Train\",\"showlegend\":false,\"xaxis\":\"x2\",\"y\":[681.2691366892603,707.4292310846545,-65.55395407643971,171.1200890309047,184.3272288079143,7.061098898906948,131.8527950163305,654.8943696152252,135.76941263935845,68.405074845591,716.5465071574663,490.53801800817575,532.7338103213458,267.2423972376235,1002.77176152207,731.9342173348073,-29.996005704494905,978.8367505015892,100.46265939033987,446.6288459344363,577.9085808799844,848.9088595758219,973.8646647113075,356.4699128072499,176.5389244036146,513.7027762659638,190.29586415480793,384.3725197101211,288.3334137062704,796.1438340850373,103.01598504725024,125.54381784487589,132.35318868285162,726.1949067201076,72.708017166226,654.7876308534119,704.7997321911362,703.9746646176266,721.6885298772376,35.14793304182189,48.166571163860226,1324.4874710480553,357.67820510817546,12.119485964865362,425.93993001079525,146.34772413614598,867.4431539992672,-75.18131631872842,-186.3440278644573,894.9933406182504,456.79854307622713,-45.23188598115951,932.1346176325596,-40.82434905098211,100.41952621164262,233.4479463140859,294.23269005198625,367.75910447477054,487.2373493696573,728.8939349246509,865.6460871743891,198.8251422273905,-165.20483893493747,61.30733679574627,4.68878864541233,881.0402512094807,149.7258407127911,471.1911975556692,154.48562115264244,353.94283568212995,869.4785194564254,632.8159374102784,184.07638147295557,128.57525161820342,1324.4874710480553,1487.321655088665,165.61942767098253,462.22558997352235,659.5575079067878,548.9359594488603,720.7492484083133,615.6756752037096,438.40671633938064,588.7098491619491,65.46730462390474,-404.71449105440706,830.0082539832509,476.6875200349159,402.1250085946988,51.63829944375914,533.1934465993245,375.82494976991524,199.93979262725944,39.060729144983156,517.5313557185669,253.5303979246936,163.34600912445632,605.1396438358482,407.71939587291837,-4.149127362511649,301.4592151269306,8.170486911705382,-37.87821525526681,329.1504864884273,314.81781308040263,335.92032354690224,356.559876665714,267.86017957991953,802.7730493791096,167.89284621750875,-140.91722021124417,860.9742596028823,140.70944702937732,631.1291702696502,387.2999947372996,367.4917485496608,542.9739850395601,175.021403772749,341.8139926708717],\"yaxis\":\"y2\",\"type\":\"box\"},{\"hovertemplate\":\"<b>OLS trendline</b><br>Prediction = 0.929084 * Target + 27.8892<br>R<sup>2</sup>=0.929084<br><br>Data=Train<br>Target=%{x}<br>Prediction=%{y} <b>(trend)</b><extra></extra>\",\"legendgroup\":\"Train\",\"marker\":{\"color\":\"#636efa\",\"symbol\":\"circle\"},\"mode\":\"lines\",\"name\":\"Train\",\"showlegend\":false,\"x\":[0.0,5.9,7.5,8.7,9.7,9.8,9.8,12.2,12.2,19.7,19.9,32.0,40.0,40.0,55.0,60.0,69.0,78.0,80.0,85.0,85.0,87.0,90.0,100.0,110.0,110.0,110.0,115.0,120.0,120.0,120.0,125.0,130.0,130.0,130.0,135.0,140.0,140.0,145.0,145.0,145.0,150.0,150.0,160.0,161.0,169.0,170.0,180.0,197.0,200.0,200.0,242.0,250.0,250.0,260.0,265.0,272.0,273.0,290.0,290.0,300.0,300.0,300.0,300.0,300.0,300.0,306.0,320.0,340.0,345.0,363.0,390.0,390.0,430.0,430.0,450.0,450.0,456.0,475.0,500.0,500.0,500.0,514.0,540.0,540.0,556.0,575.0,600.0,620.0,650.0,680.0,685.0,685.0,690.0,700.0,700.0,700.0,714.0,720.0,725.0,770.0,800.0,820.0,840.0,850.0,850.0,900.0,900.0,925.0,950.0,950.0,975.0,1000.0,1000.0,1015.0,1100.0,1550.0,1600.0,1650.0],\"xaxis\":\"x\",\"y\":[27.889177171874138,33.370774557901036,34.85730944224731,35.972210605507016,36.90129490822344,36.99420333849508,36.99420333849508,39.224005665014495,39.224005665014495,46.19213793538767,46.377954795930954,57.619874858799676,65.05254928053105,65.05254928053105,78.9888138212774,83.63423533485951,91.99599405930732,100.35775278375513,102.21592138918797,106.86134290277009,106.86134290277009,108.71951150820294,111.5067644163522,120.79760744351643,130.08845047068067,130.08845047068067,130.08845047068067,134.73387198426278,139.3792934978449,139.3792934978449,139.3792934978449,144.02471501142702,148.67013652500913,148.67013652500913,148.67013652500913,153.31555803859123,157.96097955217334,157.96097955217334,162.60640106575548,162.60640106575548,162.60640106575548,167.25182257933758,167.25182257933758,176.5426656065018,177.47174990921823,184.9044243309496,185.83350863366604,195.12435166083026,210.91878480700947,213.70603771515871,213.70603771515871,252.7275784292485,260.1602528509799,260.1602528509799,269.4510958781441,274.09651739172625,280.60010751074117,281.5291918134576,297.32362495963685,297.32362495963685,306.61446798680106,306.61446798680106,306.61446798680106,306.61446798680106,306.61446798680106,306.61446798680106,312.18897380309954,325.1961540411295,343.7778400954579,348.4232616090401,365.14677905793565,390.2320552312791,390.2320552312791,427.39542733993596,427.39542733993596,445.9771133942645,445.9771133942645,451.551619210563,469.204220962175,492.4313285300856,492.4313285300856,492.4313285300856,505.4385087681155,529.5947006387426,529.5947006387426,544.4600494822054,562.1126512338174,585.339758801728,603.9214448560564,631.7939739375491,659.6665030190418,664.3119245326238,664.3119245326238,668.957346046206,678.2481890733702,678.2481890733702,678.2481890733702,691.2553693114002,696.8298751276986,701.4752966412808,743.2840902635198,771.1566193450125,789.738305399341,808.3199914536694,817.6108344808337,817.6108344808337,864.0650496166548,864.0650496166548,887.2921571845654,910.5192647524759,910.5192647524759,933.7463723203865,956.9734798882971,956.9734798882971,970.9097444290435,1049.8819101599393,1467.9698463823297,1514.4240615181507,1560.8782766539719],\"yaxis\":\"y\",\"type\":\"scatter\"},{\"hovertemplate\":\"Data=Test<br>Target=%{x}<br>Prediction=%{y}<extra></extra>\",\"legendgroup\":\"Test\",\"marker\":{\"color\":\"#EF553B\",\"symbol\":\"circle\"},\"mode\":\"markers\",\"name\":\"Test\",\"orientation\":\"v\",\"showlegend\":true,\"x\":[78.0,13.4,200.0,270.0,150.0,1000.0,7.0,180.0,188.0,1250.0,650.0,1000.0,600.0,150.0,700.0,920.0,1000.0,218.0,225.0,700.0,10.0,610.0,500.0,500.0,955.0,1100.0,170.0,270.0,6.7,9.9,510.0,70.0,51.5,567.0,340.0,120.0,160.0,120.0,145.0,820.0],\"xaxis\":\"x\",\"y\":[19.61815540847192,12.148776720906426,196.2643847001862,335.0399393018561,208.0853288678225,764.4858883098224,-62.946657851535406,256.8866523068412,256.1602427051178,1165.2635059117201,596.6563720195209,852.9872627181685,540.1156784574797,145.71165396651958,683.8919124528572,825.5657397843304,1010.7577193041064,281.64921708051634,224.11341254277588,583.3229683741406,-14.44962418981902,586.478666059335,509.45602034279466,484.7340558473929,821.7821996350945,962.8150869696069,216.13776502388518,358.41444349797086,-92.028099947942,-14.97403675233329,582.9174504662969,-22.47026246261737,-104.66428782750808,711.2534472049059,350.042397216802,162.8233757394231,191.75532748868417,113.77357905106118,203.91595125455422,779.4100648109131],\"yaxis\":\"y\",\"type\":\"scatter\"},{\"alignmentgroup\":\"True\",\"hovertemplate\":\"Data=Test<br>Target=%{x}<extra></extra>\",\"legendgroup\":\"Test\",\"marker\":{\"color\":\"#EF553B\",\"symbol\":\"circle\"},\"name\":\"Test\",\"notched\":true,\"offsetgroup\":\"Test\",\"showlegend\":false,\"x\":[78.0,13.4,200.0,270.0,150.0,1000.0,7.0,180.0,188.0,1250.0,650.0,1000.0,600.0,150.0,700.0,920.0,1000.0,218.0,225.0,700.0,10.0,610.0,500.0,500.0,955.0,1100.0,170.0,270.0,6.7,9.9,510.0,70.0,51.5,567.0,340.0,120.0,160.0,120.0,145.0,820.0],\"xaxis\":\"x3\",\"yaxis\":\"y3\",\"type\":\"box\"},{\"alignmentgroup\":\"True\",\"hovertemplate\":\"Data=Test<br>Prediction=%{y}<extra></extra>\",\"legendgroup\":\"Test\",\"marker\":{\"color\":\"#EF553B\",\"symbol\":\"circle\"},\"name\":\"Test\",\"notched\":true,\"offsetgroup\":\"Test\",\"showlegend\":false,\"xaxis\":\"x2\",\"y\":[19.61815540847192,12.148776720906426,196.2643847001862,335.0399393018561,208.0853288678225,764.4858883098224,-62.946657851535406,256.8866523068412,256.1602427051178,1165.2635059117201,596.6563720195209,852.9872627181685,540.1156784574797,145.71165396651958,683.8919124528572,825.5657397843304,1010.7577193041064,281.64921708051634,224.11341254277588,583.3229683741406,-14.44962418981902,586.478666059335,509.45602034279466,484.7340558473929,821.7821996350945,962.8150869696069,216.13776502388518,358.41444349797086,-92.028099947942,-14.97403675233329,582.9174504662969,-22.47026246261737,-104.66428782750808,711.2534472049059,350.042397216802,162.8233757394231,191.75532748868417,113.77357905106118,203.91595125455422,779.4100648109131],\"yaxis\":\"y2\",\"type\":\"box\"},{\"hovertemplate\":\"<b>OLS trendline</b><br>Prediction = 0.906403 * Target + 17.3997<br>R<sup>2</sup>=0.954163<br><br>Data=Test<br>Target=%{x}<br>Prediction=%{y} <b>(trend)</b><extra></extra>\",\"legendgroup\":\"Test\",\"marker\":{\"color\":\"#EF553B\",\"symbol\":\"circle\"},\"mode\":\"lines\",\"name\":\"Test\",\"showlegend\":false,\"x\":[6.7,7.0,9.9,10.0,13.4,51.5,70.0,78.0,120.0,120.0,145.0,150.0,150.0,160.0,170.0,180.0,188.0,200.0,218.0,225.0,270.0,270.0,340.0,500.0,500.0,510.0,567.0,600.0,610.0,650.0,700.0,700.0,820.0,920.0,955.0,1000.0,1000.0,1000.0,1100.0,1250.0],\"xaxis\":\"x\",\"y\":[23.472616217232147,23.744536981203886,26.373104366264002,26.463744620921247,29.545513279267595,64.07945030367813,80.84789741526855,88.0991177878482,126.1680247438913,126.1680247438913,148.82808840820266,153.36010114106494,153.36010114106494,162.42412660678949,171.48815207251405,180.5521775382386,187.80339791081823,198.6802284696877,214.99547430799188,221.34029213399907,262.12840672975955,262.12840672975955,325.5765849898314,470.6009924414242,470.6009924414242,479.66501790714875,531.3299630617787,561.2412470986698,570.3052725643943,606.5613744272925,651.8815017559152,651.8815017559152,760.6498073446098,851.2900620018554,883.0141511318913,923.8022657276517,923.8022657276517,923.8022657276517,1014.4425203848973,1150.4029023707653],\"yaxis\":\"y\",\"type\":\"scatter\"}],                        {\"template\":{\"data\":{\"histogram2dcontour\":[{\"type\":\"histogram2dcontour\",\"colorbar\":{\"outlinewidth\":0,\"ticks\":\"\"},\"colorscale\":[[0.0,\"#0d0887\"],[0.1111111111111111,\"#46039f\"],[0.2222222222222222,\"#7201a8\"],[0.3333333333333333,\"#9c179e\"],[0.4444444444444444,\"#bd3786\"],[0.5555555555555556,\"#d8576b\"],[0.6666666666666666,\"#ed7953\"],[0.7777777777777778,\"#fb9f3a\"],[0.8888888888888888,\"#fdca26\"],[1.0,\"#f0f921\"]]}],\"choropleth\":[{\"type\":\"choropleth\",\"colorbar\":{\"outlinewidth\":0,\"ticks\":\"\"}}],\"histogram2d\":[{\"type\":\"histogram2d\",\"colorbar\":{\"outlinewidth\":0,\"ticks\":\"\"},\"colorscale\":[[0.0,\"#0d0887\"],[0.1111111111111111,\"#46039f\"],[0.2222222222222222,\"#7201a8\"],[0.3333333333333333,\"#9c179e\"],[0.4444444444444444,\"#bd3786\"],[0.5555555555555556,\"#d8576b\"],[0.6666666666666666,\"#ed7953\"],[0.7777777777777778,\"#fb9f3a\"],[0.8888888888888888,\"#fdca26\"],[1.0,\"#f0f921\"]]}],\"heatmap\":[{\"type\":\"heatmap\",\"colorbar\":{\"outlinewidth\":0,\"ticks\":\"\"},\"colorscale\":[[0.0,\"#0d0887\"],[0.1111111111111111,\"#46039f\"],[0.2222222222222222,\"#7201a8\"],[0.3333333333333333,\"#9c179e\"],[0.4444444444444444,\"#bd3786\"],[0.5555555555555556,\"#d8576b\"],[0.6666666666666666,\"#ed7953\"],[0.7777777777777778,\"#fb9f3a\"],[0.8888888888888888,\"#fdca26\"],[1.0,\"#f0f921\"]]}],\"heatmapgl\":[{\"type\":\"heatmapgl\",\"colorbar\":{\"outlinewidth\":0,\"ticks\":\"\"},\"colorscale\":[[0.0,\"#0d0887\"],[0.1111111111111111,\"#46039f\"],[0.2222222222222222,\"#7201a8\"],[0.3333333333333333,\"#9c179e\"],[0.4444444444444444,\"#bd3786\"],[0.5555555555555556,\"#d8576b\"],[0.6666666666666666,\"#ed7953\"],[0.7777777777777778,\"#fb9f3a\"],[0.8888888888888888,\"#fdca26\"],[1.0,\"#f0f921\"]]}],\"contourcarpet\":[{\"type\":\"contourcarpet\",\"colorbar\":{\"outlinewidth\":0,\"ticks\":\"\"}}],\"contour\":[{\"type\":\"contour\",\"colorbar\":{\"outlinewidth\":0,\"ticks\":\"\"},\"colorscale\":[[0.0,\"#0d0887\"],[0.1111111111111111,\"#46039f\"],[0.2222222222222222,\"#7201a8\"],[0.3333333333333333,\"#9c179e\"],[0.4444444444444444,\"#bd3786\"],[0.5555555555555556,\"#d8576b\"],[0.6666666666666666,\"#ed7953\"],[0.7777777777777778,\"#fb9f3a\"],[0.8888888888888888,\"#fdca26\"],[1.0,\"#f0f921\"]]}],\"surface\":[{\"type\":\"surface\",\"colorbar\":{\"outlinewidth\":0,\"ticks\":\"\"},\"colorscale\":[[0.0,\"#0d0887\"],[0.1111111111111111,\"#46039f\"],[0.2222222222222222,\"#7201a8\"],[0.3333333333333333,\"#9c179e\"],[0.4444444444444444,\"#bd3786\"],[0.5555555555555556,\"#d8576b\"],[0.6666666666666666,\"#ed7953\"],[0.7777777777777778,\"#fb9f3a\"],[0.8888888888888888,\"#fdca26\"],[1.0,\"#f0f921\"]]}],\"mesh3d\":[{\"type\":\"mesh3d\",\"colorbar\":{\"outlinewidth\":0,\"ticks\":\"\"}}],\"scatter\":[{\"fillpattern\":{\"fillmode\":\"overlay\",\"size\":10,\"solidity\":0.2},\"type\":\"scatter\"}],\"parcoords\":[{\"type\":\"parcoords\",\"line\":{\"colorbar\":{\"outlinewidth\":0,\"ticks\":\"\"}}}],\"scatterpolargl\":[{\"type\":\"scatterpolargl\",\"marker\":{\"colorbar\":{\"outlinewidth\":0,\"ticks\":\"\"}}}],\"bar\":[{\"error_x\":{\"color\":\"#2a3f5f\"},\"error_y\":{\"color\":\"#2a3f5f\"},\"marker\":{\"line\":{\"color\":\"#E5ECF6\",\"width\":0.5},\"pattern\":{\"fillmode\":\"overlay\",\"size\":10,\"solidity\":0.2}},\"type\":\"bar\"}],\"scattergeo\":[{\"type\":\"scattergeo\",\"marker\":{\"colorbar\":{\"outlinewidth\":0,\"ticks\":\"\"}}}],\"scatterpolar\":[{\"type\":\"scatterpolar\",\"marker\":{\"colorbar\":{\"outlinewidth\":0,\"ticks\":\"\"}}}],\"histogram\":[{\"marker\":{\"pattern\":{\"fillmode\":\"overlay\",\"size\":10,\"solidity\":0.2}},\"type\":\"histogram\"}],\"scattergl\":[{\"type\":\"scattergl\",\"marker\":{\"colorbar\":{\"outlinewidth\":0,\"ticks\":\"\"}}}],\"scatter3d\":[{\"type\":\"scatter3d\",\"line\":{\"colorbar\":{\"outlinewidth\":0,\"ticks\":\"\"}},\"marker\":{\"colorbar\":{\"outlinewidth\":0,\"ticks\":\"\"}}}],\"scattermapbox\":[{\"type\":\"scattermapbox\",\"marker\":{\"colorbar\":{\"outlinewidth\":0,\"ticks\":\"\"}}}],\"scatterternary\":[{\"type\":\"scatterternary\",\"marker\":{\"colorbar\":{\"outlinewidth\":0,\"ticks\":\"\"}}}],\"scattercarpet\":[{\"type\":\"scattercarpet\",\"marker\":{\"colorbar\":{\"outlinewidth\":0,\"ticks\":\"\"}}}],\"carpet\":[{\"aaxis\":{\"endlinecolor\":\"#2a3f5f\",\"gridcolor\":\"white\",\"linecolor\":\"white\",\"minorgridcolor\":\"white\",\"startlinecolor\":\"#2a3f5f\"},\"baxis\":{\"endlinecolor\":\"#2a3f5f\",\"gridcolor\":\"white\",\"linecolor\":\"white\",\"minorgridcolor\":\"white\",\"startlinecolor\":\"#2a3f5f\"},\"type\":\"carpet\"}],\"table\":[{\"cells\":{\"fill\":{\"color\":\"#EBF0F8\"},\"line\":{\"color\":\"white\"}},\"header\":{\"fill\":{\"color\":\"#C8D4E3\"},\"line\":{\"color\":\"white\"}},\"type\":\"table\"}],\"barpolar\":[{\"marker\":{\"line\":{\"color\":\"#E5ECF6\",\"width\":0.5},\"pattern\":{\"fillmode\":\"overlay\",\"size\":10,\"solidity\":0.2}},\"type\":\"barpolar\"}],\"pie\":[{\"automargin\":true,\"type\":\"pie\"}]},\"layout\":{\"autotypenumbers\":\"strict\",\"colorway\":[\"#636efa\",\"#EF553B\",\"#00cc96\",\"#ab63fa\",\"#FFA15A\",\"#19d3f3\",\"#FF6692\",\"#B6E880\",\"#FF97FF\",\"#FECB52\"],\"font\":{\"color\":\"#2a3f5f\"},\"hovermode\":\"closest\",\"hoverlabel\":{\"align\":\"left\"},\"paper_bgcolor\":\"white\",\"plot_bgcolor\":\"#E5ECF6\",\"polar\":{\"bgcolor\":\"#E5ECF6\",\"angularaxis\":{\"gridcolor\":\"white\",\"linecolor\":\"white\",\"ticks\":\"\"},\"radialaxis\":{\"gridcolor\":\"white\",\"linecolor\":\"white\",\"ticks\":\"\"}},\"ternary\":{\"bgcolor\":\"#E5ECF6\",\"aaxis\":{\"gridcolor\":\"white\",\"linecolor\":\"white\",\"ticks\":\"\"},\"baxis\":{\"gridcolor\":\"white\",\"linecolor\":\"white\",\"ticks\":\"\"},\"caxis\":{\"gridcolor\":\"white\",\"linecolor\":\"white\",\"ticks\":\"\"}},\"coloraxis\":{\"colorbar\":{\"outlinewidth\":0,\"ticks\":\"\"}},\"colorscale\":{\"sequential\":[[0.0,\"#0d0887\"],[0.1111111111111111,\"#46039f\"],[0.2222222222222222,\"#7201a8\"],[0.3333333333333333,\"#9c179e\"],[0.4444444444444444,\"#bd3786\"],[0.5555555555555556,\"#d8576b\"],[0.6666666666666666,\"#ed7953\"],[0.7777777777777778,\"#fb9f3a\"],[0.8888888888888888,\"#fdca26\"],[1.0,\"#f0f921\"]],\"sequentialminus\":[[0.0,\"#0d0887\"],[0.1111111111111111,\"#46039f\"],[0.2222222222222222,\"#7201a8\"],[0.3333333333333333,\"#9c179e\"],[0.4444444444444444,\"#bd3786\"],[0.5555555555555556,\"#d8576b\"],[0.6666666666666666,\"#ed7953\"],[0.7777777777777778,\"#fb9f3a\"],[0.8888888888888888,\"#fdca26\"],[1.0,\"#f0f921\"]],\"diverging\":[[0,\"#8e0152\"],[0.1,\"#c51b7d\"],[0.2,\"#de77ae\"],[0.3,\"#f1b6da\"],[0.4,\"#fde0ef\"],[0.5,\"#f7f7f7\"],[0.6,\"#e6f5d0\"],[0.7,\"#b8e186\"],[0.8,\"#7fbc41\"],[0.9,\"#4d9221\"],[1,\"#276419\"]]},\"xaxis\":{\"gridcolor\":\"white\",\"linecolor\":\"white\",\"ticks\":\"\",\"title\":{\"standoff\":15},\"zerolinecolor\":\"white\",\"automargin\":true,\"zerolinewidth\":2},\"yaxis\":{\"gridcolor\":\"white\",\"linecolor\":\"white\",\"ticks\":\"\",\"title\":{\"standoff\":15},\"zerolinecolor\":\"white\",\"automargin\":true,\"zerolinewidth\":2},\"scene\":{\"xaxis\":{\"backgroundcolor\":\"#E5ECF6\",\"gridcolor\":\"white\",\"linecolor\":\"white\",\"showbackground\":true,\"ticks\":\"\",\"zerolinecolor\":\"white\",\"gridwidth\":2},\"yaxis\":{\"backgroundcolor\":\"#E5ECF6\",\"gridcolor\":\"white\",\"linecolor\":\"white\",\"showbackground\":true,\"ticks\":\"\",\"zerolinecolor\":\"white\",\"gridwidth\":2},\"zaxis\":{\"backgroundcolor\":\"#E5ECF6\",\"gridcolor\":\"white\",\"linecolor\":\"white\",\"showbackground\":true,\"ticks\":\"\",\"zerolinecolor\":\"white\",\"gridwidth\":2}},\"shapedefaults\":{\"line\":{\"color\":\"#2a3f5f\"}},\"annotationdefaults\":{\"arrowcolor\":\"#2a3f5f\",\"arrowhead\":0,\"arrowwidth\":1},\"geo\":{\"bgcolor\":\"white\",\"landcolor\":\"#E5ECF6\",\"subunitcolor\":\"white\",\"showland\":true,\"showlakes\":true,\"lakecolor\":\"white\"},\"title\":{\"x\":0.05},\"mapbox\":{\"style\":\"light\"}}},\"xaxis\":{\"anchor\":\"y\",\"domain\":[0.0,0.7363],\"title\":{\"text\":\"Target\"}},\"yaxis\":{\"anchor\":\"x\",\"domain\":[0.0,0.7326],\"title\":{\"text\":\"Prediction\"}},\"xaxis2\":{\"anchor\":\"y2\",\"domain\":[0.7413,1.0],\"matches\":\"x2\",\"showticklabels\":false,\"showline\":false,\"ticks\":\"\",\"showgrid\":false},\"yaxis2\":{\"anchor\":\"x2\",\"domain\":[0.0,0.7326],\"matches\":\"y\",\"showticklabels\":false,\"showgrid\":true},\"xaxis3\":{\"anchor\":\"y3\",\"domain\":[0.0,0.7363],\"matches\":\"x\",\"showticklabels\":false,\"showgrid\":true},\"yaxis3\":{\"anchor\":\"x3\",\"domain\":[0.7426,1.0],\"matches\":\"y3\",\"showticklabels\":false,\"showline\":false,\"ticks\":\"\",\"showgrid\":false},\"xaxis4\":{\"anchor\":\"y4\",\"domain\":[0.7413,1.0],\"matches\":\"x2\",\"showticklabels\":false,\"showgrid\":false,\"showline\":false,\"ticks\":\"\"},\"yaxis4\":{\"anchor\":\"x4\",\"domain\":[0.7426,1.0],\"matches\":\"y3\",\"showticklabels\":false,\"showline\":false,\"ticks\":\"\",\"showgrid\":true},\"legend\":{\"title\":{\"text\":\"Data\"},\"tracegroupgap\":0},\"margin\":{\"t\":60},\"shapes\":[{\"line\":{\"dash\":\"dash\"},\"type\":\"line\",\"x0\":0.0,\"x1\":1650.0,\"y0\":0.0,\"y1\":1650.0}]},                        {\"responsive\": true}                    ).then(function(){\n",
              "                            \n",
              "var gd = document.getElementById('56eb1c72-2ded-4bc2-9aff-3f97a495fce9');\n",
              "var x = new MutationObserver(function (mutations, observer) {{\n",
              "        var display = window.getComputedStyle(gd).display;\n",
              "        if (!display || display === 'none') {{\n",
              "            console.log([gd, 'removed!']);\n",
              "            Plotly.purge(gd);\n",
              "            observer.disconnect();\n",
              "        }}\n",
              "}});\n",
              "\n",
              "// Listen for the removal of the full notebook cells\n",
              "var notebookContainer = gd.closest('#notebook-container');\n",
              "if (notebookContainer) {{\n",
              "    x.observe(notebookContainer, {childList: true});\n",
              "}}\n",
              "\n",
              "// Listen for the clearing of the current output cell\n",
              "var outputEl = gd.closest('.output');\n",
              "if (outputEl) {{\n",
              "    x.observe(outputEl, {childList: true});\n",
              "}}\n",
              "\n",
              "                        })                };                            </script>        </div>\n",
              "</body>\n",
              "</html>"
            ]
          },
          "metadata": {}
        }
      ]
    },
    {
      "cell_type": "markdown",
      "source": [
        "## Things to do..\n",
        "In the exercise, we examined the variation in features when removing those with high correlation. However, we didn't evaluate the impact on the model's performance after removing these features. Moreover, the value of the alpha parameter in the Ridge regression was very small. Let's explore the effects of increasing this parameter and its impact on the model's performance.\n",
        "\n",
        "To accomplish this, we can create a pipeline that utilizes scikit-learn's RidgeCV function to find the optimal alpha automatically. The RidgeCV function performs ridge regression with built-in cross-validation to determine the best alpha value.\n",
        "\n",
        "Implement the pipeline and assess the model's performance with different alpha values to identify the optimal alpha for our dataset.Hhere is a prototype"
      ],
      "metadata": {
        "id": "yqtPxty2bPF-"
      }
    },
    {
      "cell_type": "code",
      "source": [
        "from sklearn.pipeline import Pipeline\n",
        "from sklearn.compose import ColumnTransformer\n",
        "from sklearn.preprocessing import OneHotEncoder, StandardScaler\n",
        "from sklearn.impute import SimpleImputer\n",
        "from sklearn.linear_model import RidgeCV\n",
        "from sklearn.model_selection import train_test_split\n",
        "from sklearn.metrics import mean_squared_error\n",
        "\n",
        "# Step 1: Preprocessing pipeline\n",
        "preprocessor = ColumnTransformer(\n",
        "    transformers=[\n",
        "        ('onehot', OneHotEncoder(drop='if_binary'), categorical_columns),\n",
        "        ('imputer', SimpleImputer(strategy='mean'), numerical_columns),\n",
        "        ('scaler', StandardScaler(), numerical_columns)\n",
        "    ])\n",
        "\n",
        "# Step 2: Ridge regression pipeline\n",
        "ridge_pipeline = Pipeline(steps=[\n",
        "    ('preprocessor', preprocessor),\n",
        "    ('ridge', RidgeCV(alphas=[0.1, 1.0, 10.0]))  # Specify alpha values to be tested\n",
        "])\n",
        "\n",
        "# Step 3: Train-test split\n",
        "X_train, X_test, y_train, y_test = train_test_split(X, y, test_size=0.2, random_state=42)\n",
        "\n",
        "# Step 4: Fit the model and make predictions\n",
        "ridge_pipeline.fit(X_train, y_train)\n",
        "y_pred = ridge_pipeline.predict(X_test)\n",
        "\n",
        "# Step 5: Evaluate the model\n",
        "mse = mean_squared_error(y_test, y_pred)\n",
        "print(\"Mean Squared Error:\", mse)\n",
        "print(\"Best alpha value:\", ridge_pipeline['ridge'].alpha_)\n"
      ],
      "metadata": {
        "colab": {
          "base_uri": "https://localhost:8080/"
        },
        "id": "doD65zSRcchS",
        "outputId": "beaf68e8-0407-4899-d237-0e8141188e6d"
      },
      "execution_count": 144,
      "outputs": [
        {
          "output_type": "stream",
          "name": "stdout",
          "text": [
            "Mean Squared Error: 6950.271561674497\n",
            "Best alpha value: 0.1\n"
          ]
        }
      ]
    }
  ]
}